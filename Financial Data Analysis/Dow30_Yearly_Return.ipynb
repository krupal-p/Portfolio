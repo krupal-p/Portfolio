{
 "cells": [
  {
   "cell_type": "code",
   "execution_count": 1,
   "metadata": {},
   "outputs": [],
   "source": [
    "import pandas as pd\n",
    "import numpy as np\n",
    "from matplotlib import pyplot as plt\n",
    "%matplotlib inline"
   ]
  },
  {
   "cell_type": "code",
   "execution_count": 2,
   "metadata": {},
   "outputs": [],
   "source": [
    "df2 = pd.read_csv('Date.csv', parse_dates=['AA'], low_memory=False)\n",
    "dfc = pd.read_csv(\"Close.csv\");"
   ]
  },
  {
   "cell_type": "code",
   "execution_count": 3,
   "metadata": {},
   "outputs": [],
   "source": [
    "dfdow = pd.read_csv('Dow30.csv', header=None)"
   ]
  },
  {
   "cell_type": "code",
   "execution_count": 35,
   "metadata": {},
   "outputs": [],
   "source": [
    "dow30 = dfdow[0]"
   ]
  },
  {
   "cell_type": "code",
   "execution_count": 5,
   "metadata": {},
   "outputs": [],
   "source": [
    "def ts_range(symbol, dates):\n",
    "    ts = pd.Series(dfc[symbol].values, index=df2['AA'])\n",
    "    ts = ts[ts.first_valid_index():]\n",
    "    return ts[dates]"
   ]
  },
  {
   "cell_type": "code",
   "execution_count": 6,
   "metadata": {},
   "outputs": [],
   "source": [
    "def getReturns(stockname, start_period, end_period):\n",
    "    dates = pd.date_range(start_period, end_period, freq='B')\n",
    "    ts = ts_range(stockname, dates).fillna(\n",
    "        method='bfill')  # fill NA with the previous value\n",
    "    ts.fillna(\n",
    "        method='ffill', inplace=True\n",
    "    )  # if start_preiod is NA, it will be filled with the next available value\n",
    "    profit = (ts[end_period] / ts[start_period] - 1) * 100\n",
    "    return profit"
   ]
  },
  {
   "cell_type": "code",
   "execution_count": 7,
   "metadata": {},
   "outputs": [
    {
     "data": {
      "text/plain": [
       "-8.429112664981343"
      ]
     },
     "execution_count": 7,
     "metadata": {},
     "output_type": "execute_result"
    }
   ],
   "source": [
    "getReturns('AAPL', '2018-01-01', '2019-01-01')"
   ]
  },
  {
   "cell_type": "code",
   "execution_count": 8,
   "metadata": {},
   "outputs": [],
   "source": [
    "df_yr = pd.DataFrame(index=dow30,\n",
    "                     columns=['2015', '2016', '2017', '2018', '2019'],\n",
    "                     dtype='float')"
   ]
  },
  {
   "cell_type": "code",
   "execution_count": 28,
   "metadata": {},
   "outputs": [],
   "source": [
    "start = '2019-01-02'\n",
    "end = '2019-12-27'"
   ]
  },
  {
   "cell_type": "code",
   "execution_count": 29,
   "metadata": {},
   "outputs": [
    {
     "name": "stdout",
     "output_type": "stream",
     "text": [
      "%Profit of investment in WBA from 2019-01-02 to 2019-12-27 is equal to: -13.26\n",
      "%Profit of investment in WMT from 2019-01-02 to 2019-12-27 is equal to: 28.12\n",
      "%Profit of investment in V from 2019-01-02 to 2019-12-27 is equal to: 42.48\n",
      "%Profit of investment in VZ from 2019-01-02 to 2019-12-27 is equal to: 9.84\n",
      "%Profit of investment in UNH from 2019-01-02 to 2019-12-27 is equal to: 21.55\n",
      "%Profit of investment in TRV from 2019-01-02 to 2019-12-27 is equal to: 16.55\n",
      "%Profit of investment in ETR from 2019-01-02 to 2019-12-27 is equal to: 42.69\n",
      "%Profit of investment in PG from 2019-01-02 to 2019-12-27 is equal to: 38.14\n",
      "%Profit of investment in PFE from 2019-01-02 to 2019-12-27 is equal to: -9.09\n",
      "%Profit of investment in NKE from 2019-01-02 to 2019-12-27 is equal to: 37.15\n",
      "%Profit of investment in MSFT from 2019-01-02 to 2019-12-27 is equal to: 57.20\n",
      "%Profit of investment in MRK from 2019-01-02 to 2019-12-27 is equal to: 21.05\n",
      "%Profit of investment in MCD from 2019-01-02 to 2019-12-27 is equal to: 12.56\n",
      "%Profit of investment in JPM from 2019-01-02 to 2019-12-27 is equal to: 40.11\n",
      "%Profit of investment in JNJ from 2019-01-02 to 2019-12-27 is equal to: 14.09\n",
      "%Profit of investment in INTC from 2019-01-02 to 2019-12-27 is equal to: 27.61\n",
      "%Profit of investment in IBM from 2019-01-02 to 2019-12-27 is equal to: 17.41\n",
      "%Profit of investment in HD from 2019-01-02 to 2019-12-27 is equal to: 27.59\n",
      "%Profit of investment in GS from 2019-01-02 to 2019-12-27 is equal to: 34.08\n",
      "%Profit of investment in XOM from 2019-01-02 to 2019-12-27 is equal to: 0.29\n",
      "%Profit of investment in DIS from 2019-01-02 to 2019-12-27 is equal to: 33.75\n",
      "%Profit of investment in KO from 2019-01-02 to 2019-12-27 is equal to: 17.94\n",
      "%Profit of investment in CSCO from 2019-01-02 to 2019-12-27 is equal to: 11.22\n",
      "%Profit of investment in CVX from 2019-01-02 to 2019-12-27 is equal to: 8.68\n",
      "%Profit of investment in CAT from 2019-01-02 to 2019-12-27 is equal to: 17.33\n",
      "%Profit of investment in BA from 2019-01-02 to 2019-12-27 is equal to: 1.95\n",
      "%Profit of investment in AAPL from 2019-01-02 to 2019-12-27 is equal to: 83.51\n",
      "%Profit of investment in AXP from 2019-01-02 to 2019-12-27 is equal to: 30.84\n",
      "%Profit of investment in MMM from 2019-01-02 to 2019-12-27 is equal to: -7.17\n"
     ]
    }
   ],
   "source": [
    "for stock in dow30:\n",
    "    profit = getReturns(stock, start, end)\n",
    "    df_yr['2019'][stock] = \"{:.2f}\".format(profit)\n",
    "    print(\n",
    "        '%Profit of investment in {} from {} to {} is equal to:'.format(\n",
    "            stock, start, end), \"{:.2f}\".format(profit))"
   ]
  },
  {
   "cell_type": "code",
   "execution_count": 30,
   "metadata": {},
   "outputs": [
    {
     "data": {
      "text/plain": [
       "2015    float64\n",
       "2016    float64\n",
       "2017    float64\n",
       "2018    float64\n",
       "2019    float64\n",
       "dtype: object"
      ]
     },
     "execution_count": 30,
     "metadata": {},
     "output_type": "execute_result"
    }
   ],
   "source": [
    "df_yr.dtypes"
   ]
  },
  {
   "cell_type": "code",
   "execution_count": 31,
   "metadata": {},
   "outputs": [],
   "source": [
    "df_yr.sort_values(['2019'], ascending=False, inplace=True)"
   ]
  },
  {
   "cell_type": "code",
   "execution_count": 32,
   "metadata": {},
   "outputs": [],
   "source": [
    "df_yr.to_csv('yreturnDow30.csv')"
   ]
  },
  {
   "cell_type": "code",
   "execution_count": 33,
   "metadata": {},
   "outputs": [],
   "source": [
    "return_top5 = df_yr[:5]"
   ]
  },
  {
   "cell_type": "code",
   "execution_count": 36,
   "metadata": {},
   "outputs": [
    {
     "data": {
      "image/png": "[encoded data removed]",
      "text/plain": [
       "<Figure size 864x576 with 1 Axes>"
      ]
     },
     "metadata": {},
     "output_type": "display_data"
    }
   ],
   "source": [
    "plt.style.use(style='ggplot')\n",
    "yretun_bar = return_top5[['2015', '2016', '2017', '2018',\n",
    "                          '2019']].plot(kind='bar',\n",
    "                                        color='rgbkm',\n",
    "                                        legend=True,\n",
    "                                        figsize=(12, 8))\n",
    "plt.title('Dow30 Yearly Returns')\n",
    "plt.xlabel('Stock', fontweight=\"bold\")\n",
    "plt.ylabel('% Return', fontweight=\"bold\")\n",
    "plt.savefig('yr5.png')\n",
    "plt.show()"
   ]
  }
 ],
 "metadata": {
  "kernelspec": {
   "display_name": "Python 3",
   "language": "python",
   "name": "python3"
  },
  "language_info": {
   "codemirror_mode": {
    "name": "ipython",
    "version": 3
   },
   "file_extension": ".py",
   "mimetype": "text/x-python",
   "name": "python",
   "nbconvert_exporter": "python",
   "pygments_lexer": "ipython3",
   "version": "3.8.5"
  }
 },
 "nbformat": 4,
 "nbformat_minor": 4
}
