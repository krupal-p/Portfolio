{
 "cells": [
  {
   "cell_type": "code",
   "execution_count": null,
   "metadata": {
    "colab": {},
    "colab_type": "code",
    "id": "-M4-Um6Gbt-4"
   },
   "outputs": [],
   "source": [
    "import requests\n",
    "import json\n",
    "import pandas as pd\n",
    "import numpy as np\n",
    "import io\n",
    "import time"
   ]
  },
  {
   "cell_type": "code",
   "execution_count": 50,
   "metadata": {
    "colab": {
     "base_uri": "https://localhost:8080/",
     "height": 71,
     "resources": {
      "http://localhost:8080/nbextensions/google.colab/files.js": {
       "data": "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",
       "headers": [
        [
         "content-type",
         "application/javascript"
        ]
       ],
       "ok": true,
       "status": 200,
       "status_text": ""
      }
     }
    },
    "colab_type": "code",
    "executionInfo": {
     "elapsed": 24842,
     "status": "ok",
     "timestamp": 1583867019702,
     "user": {
      "displayName": "Krupal Patel",
      "photoUrl": "",
      "userId": "17355120415385159700"
     },
     "user_tz": 240
    },
    "id": "tQ3qtlS5CmXm",
    "outputId": "2ce582ba-eefb-4f45-d66f-6b207c99609b"
   },
   "outputs": [
    {
     "data": {
      "text/html": [
       "\n",
       "     <input type=\"file\" id=\"files-b85ebafc-e757-4b02-bca1-9de4e8c0735a\" name=\"files[]\" multiple disabled />\n",
       "     <output id=\"result-b85ebafc-e757-4b02-bca1-9de4e8c0735a\">\n",
       "      Upload widget is only available when the cell has been executed in the\n",
       "      current browser session. Please rerun this cell to enable.\n",
       "      </output>\n",
       "      <script src=\"/nbextensions/google.colab/files.js\"></script> "
      ],
      "text/plain": [
       "<IPython.core.display.HTML object>"
      ]
     },
     "metadata": {
      "tags": []
     },
     "output_type": "display_data"
    },
    {
     "name": "stdout",
     "output_type": "stream",
     "text": [
      "Saving stocklist.csv to stocklist (3).csv\n"
     ]
    }
   ],
   "source": [
    "from google.colab import files\n",
    "uploaded = files.upload()"
   ]
  },
  {
   "cell_type": "code",
   "execution_count": 51,
   "metadata": {
    "colab": {
     "base_uri": "https://localhost:8080/",
     "height": 419
    },
    "colab_type": "code",
    "executionInfo": {
     "elapsed": 315,
     "status": "ok",
     "timestamp": 1583867022517,
     "user": {
      "displayName": "Krupal Patel",
      "photoUrl": "",
      "userId": "17355120415385159700"
     },
     "user_tz": 240
    },
    "id": "s7hr72mUGoul",
    "outputId": "6e11fd33-104a-441f-bf83-73bc018ad203"
   },
   "outputs": [
    {
     "data": {
      "text/html": [
       "<div>\n",
       "<style scoped>\n",
       "    .dataframe tbody tr th:only-of-type {\n",
       "        vertical-align: middle;\n",
       "    }\n",
       "\n",
       "    .dataframe tbody tr th {\n",
       "        vertical-align: top;\n",
       "    }\n",
       "\n",
       "    .dataframe thead th {\n",
       "        text-align: right;\n",
       "    }\n",
       "</style>\n",
       "<table border=\"1\" class=\"dataframe\">\n",
       "  <thead>\n",
       "    <tr style=\"text-align: right;\">\n",
       "      <th></th>\n",
       "      <th>A</th>\n",
       "    </tr>\n",
       "  </thead>\n",
       "  <tbody>\n",
       "    <tr>\n",
       "      <th>0</th>\n",
       "      <td>AA</td>\n",
       "    </tr>\n",
       "    <tr>\n",
       "      <th>1</th>\n",
       "      <td>AACAY</td>\n",
       "    </tr>\n",
       "    <tr>\n",
       "      <th>2</th>\n",
       "      <td>AAGIY</td>\n",
       "    </tr>\n",
       "    <tr>\n",
       "      <th>3</th>\n",
       "      <td>AAL</td>\n",
       "    </tr>\n",
       "    <tr>\n",
       "      <th>4</th>\n",
       "      <td>AAN</td>\n",
       "    </tr>\n",
       "    <tr>\n",
       "      <th>...</th>\n",
       "      <td>...</td>\n",
       "    </tr>\n",
       "    <tr>\n",
       "      <th>3070</th>\n",
       "      <td>ZTO</td>\n",
       "    </tr>\n",
       "    <tr>\n",
       "      <th>3071</th>\n",
       "      <td>ZTS</td>\n",
       "    </tr>\n",
       "    <tr>\n",
       "      <th>3072</th>\n",
       "      <td>ZUMZ</td>\n",
       "    </tr>\n",
       "    <tr>\n",
       "      <th>3073</th>\n",
       "      <td>ZUO</td>\n",
       "    </tr>\n",
       "    <tr>\n",
       "      <th>3074</th>\n",
       "      <td>ZYME</td>\n",
       "    </tr>\n",
       "  </tbody>\n",
       "</table>\n",
       "<p>3075 rows × 1 columns</p>\n",
       "</div>"
      ],
      "text/plain": [
       "          A\n",
       "0        AA\n",
       "1     AACAY\n",
       "2     AAGIY\n",
       "3       AAL\n",
       "4       AAN\n",
       "...     ...\n",
       "3070    ZTO\n",
       "3071    ZTS\n",
       "3072   ZUMZ\n",
       "3073    ZUO\n",
       "3074   ZYME\n",
       "\n",
       "[3075 rows x 1 columns]"
      ]
     },
     "execution_count": 51,
     "metadata": {
      "tags": []
     },
     "output_type": "execute_result"
    }
   ],
   "source": [
    "df = pd.read_csv(io.StringIO(uploaded['stocklist.csv'].decode('utf-8')))\n",
    "df"
   ]
  },
  {
   "cell_type": "code",
   "execution_count": null,
   "metadata": {
    "colab": {},
    "colab_type": "code",
    "id": "oIx-bwm7G7uW"
   },
   "outputs": [],
   "source": [
    "df_date = pd.DataFrame()\n",
    "df_open = pd.DataFrame()\n",
    "df_high = pd.DataFrame()\n",
    "df_low = pd.DataFrame()\n",
    "df_close = pd.DataFrame()\n",
    "df_adj_close = pd.DataFrame()\n",
    "df_volume = pd.DataFrame()\n",
    "df_fundamentals = pd.DataFrame(\n",
    "    columns=['Market Cap', 'EPS', 'Shares Outstanding'])"
   ]
  },
  {
   "cell_type": "code",
   "execution_count": null,
   "metadata": {
    "colab": {},
    "colab_type": "code",
    "id": "ls3rEeBCHZt4"
   },
   "outputs": [],
   "source": [
    "counter = 0\n",
    "failed_stocks = []\n",
    "try:\n",
    "    for x in range(len(df['A'])):\n",
    "        url = \"https://query1.finance.yahoo.com/v8/finance/chart/{0}?formatted=true&crumb=GcJrJyjL%2FGZ&lang=en-US&region=US&interval=1d&period1=0&period2=1583798400&events=div%7Csplit&corsDomain=finance.yahoo.com\".format(\n",
    "            df['A'].iloc[x])\n",
    "        response = requests.get(url)\n",
    "        if response.status_code == 200:\n",
    "            data = json.loads(response.text)\n",
    "            timestamp = data['chart']['result'][0]['timestamp']\n",
    "\n",
    "            tradedate = [\n",
    "                time.strftime('%Y-%m-%d', time.localtime(a)) for a in timestamp\n",
    "            ]\n",
    "            dailyopen = data['chart']['result'][0]['indicators']['quote'][0][\n",
    "                'open']\n",
    "            dailyhigh = data['chart']['result'][0]['indicators']['quote'][0][\n",
    "                'high']\n",
    "            dailylow = data['chart']['result'][0]['indicators']['quote'][0][\n",
    "                'low']\n",
    "            dailyclose = data['chart']['result'][0]['indicators']['quote'][0][\n",
    "                'close']\n",
    "            dailyadjclose = data['chart']['result'][0]['indicators'][\n",
    "                'adjclose'][0]['adjclose']\n",
    "            dailyvolume = data['chart']['result'][0]['indicators']['quote'][0][\n",
    "                'volume']\n",
    "\n",
    "            db_stock_data = [\n",
    "                (tradedate[x], dailyopen[x], dailyhigh[x], dailylow[x],\n",
    "                 dailyclose[x], dailyadjclose[x], dailyvolume[x])\n",
    "                for x in range(len(tradedate))\n",
    "            ]\n",
    "\n",
    "            stock_df = pd.DataFrame(db_stock_data,\n",
    "                                    index=timestamp,\n",
    "                                    columns=[\n",
    "                                        'Date', 'Open', 'High', 'Low', 'Close',\n",
    "                                        'Adj Close', 'Volume'\n",
    "                                    ])\n",
    "            df_date[df['A'].iloc[x]] = stock_df['Date']\n",
    "            df_open[df['A'].iloc[x]] = stock_df['Open']\n",
    "            df_high[df['A'].iloc[x]] = stock_df['High']\n",
    "            df_low[df['A'].iloc[x]] = stock_df['Low']\n",
    "            df_close[df['A'].iloc[x]] = stock_df['Close']\n",
    "            df_adj_close[df['A'].iloc[x]] = stock_df['Adj Close']\n",
    "            df_volume[df['A'].iloc[x]] = stock_df['Volume']\n",
    "\n",
    "            counter += 1\n",
    "            print('Successfully added', df['A'].iloc[x])\n",
    "except:\n",
    "    print('Failed to get data for', df['A'].iloc[x])\n",
    "    failed_stocks.append([df['A'].iloc[x]])"
   ]
  },
  {
   "cell_type": "code",
   "execution_count": 39,
   "metadata": {
    "colab": {
     "base_uri": "https://localhost:8080/",
     "height": 34
    },
    "colab_type": "code",
    "executionInfo": {
     "elapsed": 374,
     "status": "ok",
     "timestamp": 1583856885880,
     "user": {
      "displayName": "Krupal Patel",
      "photoUrl": "",
      "userId": "17355120415385159700"
     },
     "user_tz": 240
    },
    "id": "n-JZfCiIgDLK",
    "outputId": "f05ccd8e-85db-429e-e52c-858569c4750d"
   },
   "outputs": [
    {
     "data": {
      "text/plain": [
       "3026"
      ]
     },
     "execution_count": 39,
     "metadata": {
      "tags": []
     },
     "output_type": "execute_result"
    }
   ],
   "source": [
    "counter"
   ]
  },
  {
   "cell_type": "code",
   "execution_count": 43,
   "metadata": {
    "colab": {
     "base_uri": "https://localhost:8080/",
     "height": 221
    },
    "colab_type": "code",
    "executionInfo": {
     "elapsed": 264,
     "status": "ok",
     "timestamp": 1583857295797,
     "user": {
      "displayName": "Krupal Patel",
      "photoUrl": "",
      "userId": "17355120415385159700"
     },
     "user_tz": 240
    },
    "id": "CX6vvgR6tduX",
    "outputId": "216ca70a-8b1e-4762-e5a7-d58db2fb7204"
   },
   "outputs": [
    {
     "data": {
      "text/plain": [
       "138600               NaN\n",
       "397800               NaN\n",
       "484200               NaN\n",
       "570600               NaN\n",
       "657000               NaN\n",
       "                 ...    \n",
       "1583245800    289.320007\n",
       "1583332200    302.739990\n",
       "1583418600    292.920013\n",
       "1583505000    289.029999\n",
       "1583760600    266.170013\n",
       "Name: AAPL, Length: 12659, dtype: float64"
      ]
     },
     "execution_count": 43,
     "metadata": {
      "tags": []
     },
     "output_type": "execute_result"
    }
   ],
   "source": [
    "df_close['AAPL']"
   ]
  },
  {
   "cell_type": "code",
   "execution_count": 44,
   "metadata": {
    "colab": {
     "base_uri": "https://localhost:8080/",
     "height": 34
    },
    "colab_type": "code",
    "executionInfo": {
     "elapsed": 425,
     "status": "ok",
     "timestamp": 1583857295966,
     "user": {
      "displayName": "Krupal Patel",
      "photoUrl": "",
      "userId": "17355120415385159700"
     },
     "user_tz": 240
    },
    "id": "bNV_e9T0ykTK",
    "outputId": "3b1e06a8-b6e4-42a9-c3d9-b2c375c76788"
   },
   "outputs": [
    {
     "data": {
      "text/plain": [
       "[]"
      ]
     },
     "execution_count": 44,
     "metadata": {
      "tags": []
     },
     "output_type": "execute_result"
    }
   ],
   "source": [
    "failed_stocks"
   ]
  },
  {
   "cell_type": "code",
   "execution_count": 7,
   "metadata": {
    "colab": {
     "base_uri": "https://localhost:8080/",
     "height": 34
    },
    "colab_type": "code",
    "executionInfo": {
     "elapsed": 1414,
     "status": "ok",
     "timestamp": 1583849595955,
     "user": {
      "displayName": "Krupal Patel",
      "photoUrl": "",
      "userId": "17355120415385159700"
     },
     "user_tz": 240
    },
    "id": "1CGEIV9DwCQM",
    "outputId": "b8bd3c4b-bb54-46f1-a96d-240fa6be73e4"
   },
   "outputs": [
    {
     "name": "stdout",
     "output_type": "stream",
     "text": [
      "Mounted at drive\n"
     ]
    }
   ],
   "source": [
    "from google.colab import drive\n",
    "drive.mount('drive', force_remount=True)"
   ]
  },
  {
   "cell_type": "code",
   "execution_count": null,
   "metadata": {
    "colab": {},
    "colab_type": "code",
    "id": "pHzNAqtTv2_2"
   },
   "outputs": [],
   "source": [
    "df_date.to_csv('Date.csv')\n",
    "df_open.to_csv('Open.csv')\n",
    "df_high.to_csv('High.csv')\n",
    "df_low.to_csv('Low.csv')\n",
    "df_close.to_csv('Close.csv')\n",
    "df_adj_close.to_csv('Adj_close.csv')\n",
    "df_volume.to_csv('Volume.csv')\n",
    "\n",
    "\n",
    "!cp Date.csv \"drive/My Drive/Other/stocks_dataset/\"\n",
    "!cp Open.csv \"drive/My Drive/Other/stocks_dataset/\"\n",
    "!cp High.csv \"drive/My Drive/Other/stocks_dataset/\"\n",
    "!cp Low.csv \"drive/My Drive/Other/stocks_dataset/\"\n",
    "!cp Close.csv \"drive/My Drive/Other/stocks_dataset/\"\n",
    "!cp Adj_close.csv \"drive/My Drive/Other/stocks_dataset/\"\n",
    "!cp Volume.csv \"drive/My Drive/Other/stocks_dataset/\""
   ]
  },
  {
   "cell_type": "code",
   "execution_count": null,
   "metadata": {
    "colab": {},
    "colab_type": "code",
    "id": "XSBRbDzcOkh9"
   },
   "outputs": [],
   "source": [
    "df_volume.to_csv('Volume.csv')\n",
    "df_date.to_csv('Date.csv')\n",
    "\n",
    "!cp Date.csv \"drive/My Drive/Other/stocks_dataset/\"\n",
    "!cp Volume.csv \"drive/My Drive/Other/stocks_dataset/\"\n"
   ]
  },
  {
   "cell_type": "code",
   "execution_count": null,
   "metadata": {
    "colab": {},
    "colab_type": "code",
    "id": "dBFtIQDTQHmG"
   },
   "outputs": [],
   "source": [
    "counter = 0\n",
    "failed_stocks = []\n",
    "\n",
    "for x in range(len(df['A'])):\n",
    "    try:\n",
    "        url = 'https://query2.finance.yahoo.com/v7/finance/quote?formatted=true&crumb=GcJrJyjL%2FGZ&lang=en-US&region=US&symbols={0}&corsDomain=finance.yahoo.com'.format(\n",
    "            df['A'].iloc[x])\n",
    "        response = requests.get(url)\n",
    "        if response.status_code == 200:\n",
    "            data = json.loads(response.text)\n",
    "            marketCap = data['quoteResponse']['result'][0]['marketCap']['raw']\n",
    "            eps = data['quoteResponse']['result'][0]['epsTrailingTwelveMonths'][\n",
    "                'raw']\n",
    "            sharesOutstanding = data['quoteResponse']['result'][0][\n",
    "                'sharesOutstanding']['raw']\n",
    "            df_fundamentals.loc[df['A'].iloc[x]] = [\n",
    "                marketCap, eps, sharesOutstanding\n",
    "            ]\n",
    "\n",
    "            counter += 1\n",
    "            print('Successfully added', df['A'].iloc[x])\n",
    "    except:\n",
    "        print('Failed to get data for', df['A'].iloc[x])\n",
    "        failed_stocks.append([df['A'].iloc[x]])"
   ]
  },
  {
   "cell_type": "code",
   "execution_count": 88,
   "metadata": {
    "colab": {
     "base_uri": "https://localhost:8080/",
     "height": 419
    },
    "colab_type": "code",
    "executionInfo": {
     "elapsed": 366,
     "status": "ok",
     "timestamp": 1583869375386,
     "user": {
      "displayName": "Krupal Patel",
      "photoUrl": "",
      "userId": "17355120415385159700"
     },
     "user_tz": 240
    },
    "id": "NGA9pTtX7gdc",
    "outputId": "c95db310-e53f-453a-8ba7-d19b1e1af1cc"
   },
   "outputs": [
    {
     "data": {
      "text/html": [
       "<div>\n",
       "<style scoped>\n",
       "    .dataframe tbody tr th:only-of-type {\n",
       "        vertical-align: middle;\n",
       "    }\n",
       "\n",
       "    .dataframe tbody tr th {\n",
       "        vertical-align: top;\n",
       "    }\n",
       "\n",
       "    .dataframe thead th {\n",
       "        text-align: right;\n",
       "    }\n",
       "</style>\n",
       "<table border=\"1\" class=\"dataframe\">\n",
       "  <thead>\n",
       "    <tr style=\"text-align: right;\">\n",
       "      <th></th>\n",
       "      <th>Market Cap</th>\n",
       "      <th>EPS</th>\n",
       "      <th>Shares Outstanding</th>\n",
       "    </tr>\n",
       "  </thead>\n",
       "  <tbody>\n",
       "    <tr>\n",
       "      <th>AA</th>\n",
       "      <td>1.679742e+09</td>\n",
       "      <td>-6.081</td>\n",
       "      <td>1.855800e+08</td>\n",
       "    </tr>\n",
       "    <tr>\n",
       "      <th>AACAY</th>\n",
       "      <td>8.162476e+09</td>\n",
       "      <td>0.570</td>\n",
       "      <td>1.208500e+09</td>\n",
       "    </tr>\n",
       "    <tr>\n",
       "      <th>AAGIY</th>\n",
       "      <td>1.211558e+11</td>\n",
       "      <td>1.512</td>\n",
       "      <td>3.022250e+09</td>\n",
       "    </tr>\n",
       "    <tr>\n",
       "      <th>AAL</th>\n",
       "      <td>7.182715e+09</td>\n",
       "      <td>3.790</td>\n",
       "      <td>4.282000e+08</td>\n",
       "    </tr>\n",
       "    <tr>\n",
       "      <th>AAN</th>\n",
       "      <td>2.137017e+09</td>\n",
       "      <td>0.460</td>\n",
       "      <td>6.674450e+07</td>\n",
       "    </tr>\n",
       "    <tr>\n",
       "      <th>...</th>\n",
       "      <td>...</td>\n",
       "      <td>...</td>\n",
       "      <td>...</td>\n",
       "    </tr>\n",
       "    <tr>\n",
       "      <th>ZTO</th>\n",
       "      <td>2.244085e+10</td>\n",
       "      <td>0.896</td>\n",
       "      <td>7.819470e+08</td>\n",
       "    </tr>\n",
       "    <tr>\n",
       "      <th>ZTS</th>\n",
       "      <td>6.254406e+10</td>\n",
       "      <td>3.110</td>\n",
       "      <td>4.762990e+08</td>\n",
       "    </tr>\n",
       "    <tr>\n",
       "      <th>ZUMZ</th>\n",
       "      <td>5.668636e+08</td>\n",
       "      <td>2.304</td>\n",
       "      <td>2.580290e+07</td>\n",
       "    </tr>\n",
       "    <tr>\n",
       "      <th>ZUO</th>\n",
       "      <td>1.231050e+09</td>\n",
       "      <td>-0.763</td>\n",
       "      <td>9.370000e+07</td>\n",
       "    </tr>\n",
       "    <tr>\n",
       "      <th>ZYME</th>\n",
       "      <td>1.593617e+09</td>\n",
       "      <td>-3.830</td>\n",
       "      <td>4.551890e+07</td>\n",
       "    </tr>\n",
       "  </tbody>\n",
       "</table>\n",
       "<p>2908 rows × 3 columns</p>\n",
       "</div>"
      ],
      "text/plain": [
       "         Market Cap    EPS  Shares Outstanding\n",
       "AA     1.679742e+09 -6.081        1.855800e+08\n",
       "AACAY  8.162476e+09  0.570        1.208500e+09\n",
       "AAGIY  1.211558e+11  1.512        3.022250e+09\n",
       "AAL    7.182715e+09  3.790        4.282000e+08\n",
       "AAN    2.137017e+09  0.460        6.674450e+07\n",
       "...             ...    ...                 ...\n",
       "ZTO    2.244085e+10  0.896        7.819470e+08\n",
       "ZTS    6.254406e+10  3.110        4.762990e+08\n",
       "ZUMZ   5.668636e+08  2.304        2.580290e+07\n",
       "ZUO    1.231050e+09 -0.763        9.370000e+07\n",
       "ZYME   1.593617e+09 -3.830        4.551890e+07\n",
       "\n",
       "[2908 rows x 3 columns]"
      ]
     },
     "execution_count": 88,
     "metadata": {
      "tags": []
     },
     "output_type": "execute_result"
    }
   ],
   "source": [
    "df_fundamentals"
   ]
  },
  {
   "cell_type": "code",
   "execution_count": null,
   "metadata": {
    "colab": {},
    "colab_type": "code",
    "id": "h2UiCyYx98OY"
   },
   "outputs": [],
   "source": [
    "counter\n",
    "failed_stocks"
   ]
  },
  {
   "cell_type": "code",
   "execution_count": null,
   "metadata": {
    "colab": {},
    "colab_type": "code",
    "id": "7p0Tl3iv72Nw"
   },
   "outputs": [],
   "source": [
    "df_fundamentals.to_csv('Fundamentals.csv')\n",
    "\n",
    "!cp Fundamentals.csv \"drive/My Drive/Other/stocks_dataset/\""
   ]
  },
  {
   "cell_type": "code",
   "execution_count": null,
   "metadata": {
    "colab": {},
    "colab_type": "code",
    "id": "kRVgupxo-Sg_"
   },
   "outputs": [],
   "source": []
  }
 ],
 "metadata": {
  "colab": {
   "authorship_tag": "ABX9TyM6K6uROxV3gQh5LcB2IdyZ",
   "collapsed_sections": [],
   "name": "3250 Group Project.ipynb",
   "provenance": []
  },
  "kernelspec": {
   "display_name": "Python 3",
   "language": "python",
   "name": "python3"
  },
  "language_info": {
   "codemirror_mode": {
    "name": "ipython",
    "version": 3
   },
   "file_extension": ".py",
   "mimetype": "text/x-python",
   "name": "python",
   "nbconvert_exporter": "python",
   "pygments_lexer": "ipython3",
   "version": "3.8.5"
  }
 },
 "nbformat": 4,
 "nbformat_minor": 4
}
