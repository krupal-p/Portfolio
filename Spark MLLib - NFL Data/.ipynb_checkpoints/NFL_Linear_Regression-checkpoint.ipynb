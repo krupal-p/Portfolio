{
 "cells": [
  {
   "cell_type": "code",
   "execution_count": null,
   "metadata": {
    "application/vnd.databricks.v1+cell": {
     "inputWidgets": {},
     "nuid": "eabf9f35-244b-45b8-b63f-29043183a760",
     "showTitle": false,
     "title": ""
    }
   },
   "outputs": [
    {
     "data": {
      "text/html": [
       "<style scoped>\n",
       "  .ansiout {\n",
       "    display: block;\n",
       "    unicode-bidi: embed;\n",
       "    white-space: pre-wrap;\n",
       "    word-wrap: break-word;\n",
       "    word-break: break-all;\n",
       "    font-family: \"Source Code Pro\", \"Menlo\", monospace;;\n",
       "    font-size: 13px;\n",
       "    color: #555;\n",
       "    margin-left: 4px;\n",
       "    line-height: 19px;\n",
       "  }\n",
       "</style>\n",
       "<div class=\"ansiout\"></div>"
      ]
     },
     "metadata": {
      "application/vnd.databricks.v1+output": {
       "addedWidgets": {},
       "arguments": {},
       "data": "<div class=\"ansiout\"></div>",
       "datasetInfos": [],
       "removedWidgets": [],
       "type": "html"
      }
     },
     "output_type": "display_data"
    }
   ],
   "source": [
    "from pyspark.ml.feature import VectorAssembler\n",
    "from pyspark.ml.tuning import ParamGridBuilder, CrossValidator\n",
    "from pyspark.ml.evaluation import RegressionEvaluator\n",
    "from pyspark.mllib.evaluation import RegressionMetrics\n",
    "from pyspark.ml.regression import LinearRegression\n",
    "from pyspark.ml.regression import RandomForestRegressor\n",
    "from pyspark.ml import Pipeline"
   ]
  },
  {
   "cell_type": "code",
   "execution_count": null,
   "metadata": {
    "application/vnd.databricks.v1+cell": {
     "inputWidgets": {},
     "nuid": "eeb98106-1fc7-4e6b-a91f-7538e82e7f40",
     "showTitle": false,
     "title": ""
    }
   },
   "outputs": [
    {
     "data": {
      "text/html": [
       "<style scoped>\n",
       "  .ansiout {\n",
       "    display: block;\n",
       "    unicode-bidi: embed;\n",
       "    white-space: pre-wrap;\n",
       "    word-wrap: break-word;\n",
       "    word-break: break-all;\n",
       "    font-family: \"Source Code Pro\", \"Menlo\", monospace;;\n",
       "    font-size: 13px;\n",
       "    color: #555;\n",
       "    margin-left: 4px;\n",
       "    line-height: 19px;\n",
       "  }\n",
       "</style>\n",
       "<div class=\"ansiout\"></div>"
      ]
     },
     "metadata": {
      "application/vnd.databricks.v1+output": {
       "addedWidgets": {},
       "arguments": {},
       "data": "<div class=\"ansiout\"></div>",
       "datasetInfos": [
        {
         "name": "plays_raw",
         "schema": {
          "fields": [
           {
            "metadata": {},
            "name": "gameId",
            "nullable": true,
            "type": "integer"
           },
           {
            "metadata": {},
            "name": "playId",
            "nullable": true,
            "type": "integer"
           },
           {
            "metadata": {},
            "name": "quarter",
            "nullable": true,
            "type": "integer"
           },
           {
            "metadata": {},
            "name": "down",
            "nullable": true,
            "type": "integer"
           },
           {
            "metadata": {},
            "name": "absoluteYardlineNumber",
            "nullable": true,
            "type": "integer"
           },
           {
            "metadata": {},
            "name": "gameClock",
            "nullable": true,
            "type": "string"
           },
           {
            "metadata": {},
            "name": "preSnapVisitorScore",
            "nullable": true,
            "type": "integer"
           },
           {
            "metadata": {},
            "name": "preSnapHomeScore",
            "nullable": true,
            "type": "integer"
           },
           {
            "metadata": {},
            "name": "possessionTeam",
            "nullable": true,
            "type": "string"
           },
           {
            "metadata": {},
            "name": "defendersInTheBox",
            "nullable": true,
            "type": "integer"
           },
           {
            "metadata": {},
            "name": "numberOfPassRushers",
            "nullable": true,
            "type": "integer"
           },
           {
            "metadata": {},
            "name": "offenseFormation",
            "nullable": true,
            "type": "string"
           },
           {
            "metadata": {},
            "name": "personnelO",
            "nullable": true,
            "type": "string"
           },
           {
            "metadata": {},
            "name": "personnelD",
            "nullable": true,
            "type": "string"
           },
           {
            "metadata": {},
            "name": "netYardsGained",
            "nullable": true,
            "type": "integer"
           },
           {
            "metadata": {},
            "name": "passResult",
            "nullable": true,
            "type": "string"
           },
           {
            "metadata": {},
            "name": "expectedPointsAdded",
            "nullable": true,
            "type": "double"
           },
           {
            "metadata": {
             "ml_attr": {
              "name": "passResultIndex",
              "type": "nominal",
              "vals": [
               "C",
               "I",
               "S",
               "IN",
               "R"
              ]
             }
            },
            "name": "passResultIndex",
            "nullable": true,
            "type": "double"
           },
           {
            "metadata": {
             "ml_attr": {
              "name": "offenseFormationIndex",
              "type": "nominal",
              "vals": [
               "SHOTGUN",
               "SINGLEBACK",
               "EMPTY",
               "I_FORM",
               "PISTOL",
               "JUMBO",
               "WILDCAT"
              ]
             }
            },
            "name": "offenseFormationIndex",
            "nullable": true,
            "type": "double"
           },
           {
            "metadata": {},
            "name": "num_offense_runningbacks",
            "nullable": true,
            "type": "integer"
           },
           {
            "metadata": {},
            "name": "num_offense_tightends",
            "nullable": true,
            "type": "integer"
           },
           {
            "metadata": {},
            "name": "num_offense_widereceivers",
            "nullable": true,
            "type": "integer"
           },
           {
            "metadata": {},
            "name": "num_def_defline",
            "nullable": true,
            "type": "integer"
           },
           {
            "metadata": {},
            "name": "num_def_linebackers",
            "nullable": true,
            "type": "integer"
           },
           {
            "metadata": {},
            "name": "num_def_defbacks",
            "nullable": true,
            "type": "integer"
           },
           {
            "metadata": {},
            "name": "delta_defline_offreceivers",
            "nullable": true,
            "type": "integer"
           }
          ],
          "type": "struct"
         },
         "tableIdentifier": null,
         "typeStr": "pyspark.sql.dataframe.DataFrame"
        }
       ],
       "removedWidgets": [],
       "type": "html"
      }
     },
     "output_type": "display_data"
    }
   ],
   "source": [
    "plays_raw = spark.sql(\"SELECT * FROM nfl_plays_cleaned\")"
   ]
  },
  {
   "cell_type": "code",
   "execution_count": null,
   "metadata": {
    "application/vnd.databricks.v1+cell": {
     "inputWidgets": {},
     "nuid": "b9ab6975-5906-411f-9cef-1bccb46ddca9",
     "showTitle": false,
     "title": ""
    }
   },
   "outputs": [
    {
     "data": {
      "text/html": [
       "<style scoped>\n",
       "  .ansiout {\n",
       "    display: block;\n",
       "    unicode-bidi: embed;\n",
       "    white-space: pre-wrap;\n",
       "    word-wrap: break-word;\n",
       "    word-break: break-all;\n",
       "    font-family: \"Source Code Pro\", \"Menlo\", monospace;;\n",
       "    font-size: 13px;\n",
       "    color: #555;\n",
       "    margin-left: 4px;\n",
       "    line-height: 19px;\n",
       "  }\n",
       "</style>\n",
       "<div class=\"ansiout\"></div>"
      ]
     },
     "metadata": {
      "application/vnd.databricks.v1+output": {
       "addedWidgets": {},
       "arguments": {},
       "data": "<div class=\"ansiout\"></div>",
       "datasetInfos": [
        {
         "name": "plays",
         "schema": {
          "fields": [
           {
            "metadata": {},
            "name": "gameId",
            "nullable": true,
            "type": "integer"
           },
           {
            "metadata": {},
            "name": "playId",
            "nullable": true,
            "type": "integer"
           },
           {
            "metadata": {},
            "name": "quarter",
            "nullable": true,
            "type": "integer"
           },
           {
            "metadata": {},
            "name": "down",
            "nullable": true,
            "type": "integer"
           },
           {
            "metadata": {},
            "name": "absoluteYardlineNumber",
            "nullable": true,
            "type": "integer"
           },
           {
            "metadata": {},
            "name": "gameClock",
            "nullable": true,
            "type": "string"
           },
           {
            "metadata": {},
            "name": "preSnapVisitorScore",
            "nullable": true,
            "type": "integer"
           },
           {
            "metadata": {},
            "name": "preSnapHomeScore",
            "nullable": true,
            "type": "integer"
           },
           {
            "metadata": {},
            "name": "possessionTeam",
            "nullable": true,
            "type": "string"
           },
           {
            "metadata": {},
            "name": "defendersInTheBox",
            "nullable": true,
            "type": "integer"
           },
           {
            "metadata": {},
            "name": "numberOfPassRushers",
            "nullable": true,
            "type": "integer"
           },
           {
            "metadata": {},
            "name": "offenseFormation",
            "nullable": true,
            "type": "string"
           },
           {
            "metadata": {},
            "name": "personnelO",
            "nullable": true,
            "type": "string"
           },
           {
            "metadata": {},
            "name": "personnelD",
            "nullable": true,
            "type": "string"
           },
           {
            "metadata": {},
            "name": "netYardsGained",
            "nullable": true,
            "type": "integer"
           },
           {
            "metadata": {},
            "name": "passResult",
            "nullable": true,
            "type": "string"
           },
           {
            "metadata": {},
            "name": "expectedPointsAdded",
            "nullable": true,
            "type": "double"
           },
           {
            "metadata": {
             "ml_attr": {
              "name": "passResultIndex",
              "type": "nominal",
              "vals": [
               "C",
               "I",
               "S",
               "IN",
               "R"
              ]
             }
            },
            "name": "passResultIndex",
            "nullable": true,
            "type": "double"
           },
           {
            "metadata": {
             "ml_attr": {
              "name": "offenseFormationIndex",
              "type": "nominal",
              "vals": [
               "SHOTGUN",
               "SINGLEBACK",
               "EMPTY",
               "I_FORM",
               "PISTOL",
               "JUMBO",
               "WILDCAT"
              ]
             }
            },
            "name": "offenseFormationIndex",
            "nullable": true,
            "type": "double"
           },
           {
            "metadata": {},
            "name": "num_offense_runningbacks",
            "nullable": true,
            "type": "integer"
           },
           {
            "metadata": {},
            "name": "num_offense_tightends",
            "nullable": true,
            "type": "integer"
           },
           {
            "metadata": {},
            "name": "num_offense_widereceivers",
            "nullable": true,
            "type": "integer"
           },
           {
            "metadata": {},
            "name": "num_def_defline",
            "nullable": true,
            "type": "integer"
           },
           {
            "metadata": {},
            "name": "num_def_linebackers",
            "nullable": true,
            "type": "integer"
           },
           {
            "metadata": {},
            "name": "num_def_defbacks",
            "nullable": true,
            "type": "integer"
           },
           {
            "metadata": {},
            "name": "delta_defline_offreceivers",
            "nullable": true,
            "type": "integer"
           },
           {
            "metadata": {
             "ml_attr": {
              "attrs": {
               "nominal": [
                {
                 "idx": 0,
                 "name": "offenseFormationIndex",
                 "vals": [
                  "SHOTGUN",
                  "SINGLEBACK",
                  "EMPTY",
                  "I_FORM",
                  "PISTOL",
                  "JUMBO",
                  "WILDCAT"
                 ]
                }
               ],
               "numeric": [
                {
                 "idx": 1,
                 "name": "num_offense_runningbacks"
                },
                {
                 "idx": 2,
                 "name": "num_offense_tightends"
                },
                {
                 "idx": 3,
                 "name": "num_offense_widereceivers"
                },
                {
                 "idx": 4,
                 "name": "num_def_defline"
                },
                {
                 "idx": 5,
                 "name": "num_def_linebackers"
                },
                {
                 "idx": 6,
                 "name": "num_def_defbacks"
                },
                {
                 "idx": 7,
                 "name": "delta_defline_offreceivers"
                }
               ]
              },
              "num_attrs": 8
             }
            },
            "name": "features",
            "nullable": true,
            "type": {
             "class": "org.apache.spark.ml.linalg.VectorUDT",
             "pyClass": "pyspark.ml.linalg.VectorUDT",
             "sqlType": {
              "fields": [
               {
                "metadata": {},
                "name": "type",
                "nullable": false,
                "type": "byte"
               },
               {
                "metadata": {},
                "name": "size",
                "nullable": true,
                "type": "integer"
               },
               {
                "metadata": {},
                "name": "indices",
                "nullable": true,
                "type": {
                 "containsNull": false,
                 "elementType": "integer",
                 "type": "array"
                }
               },
               {
                "metadata": {},
                "name": "values",
                "nullable": true,
                "type": {
                 "containsNull": false,
                 "elementType": "double",
                 "type": "array"
                }
               }
              ],
              "type": "struct"
             },
             "type": "udt"
            }
           }
          ],
          "type": "struct"
         },
         "tableIdentifier": null,
         "typeStr": "pyspark.sql.dataframe.DataFrame"
        },
        {
         "name": "plays_training",
         "schema": {
          "fields": [
           {
            "metadata": {},
            "name": "gameId",
            "nullable": true,
            "type": "integer"
           },
           {
            "metadata": {},
            "name": "playId",
            "nullable": true,
            "type": "integer"
           },
           {
            "metadata": {},
            "name": "quarter",
            "nullable": true,
            "type": "integer"
           },
           {
            "metadata": {},
            "name": "down",
            "nullable": true,
            "type": "integer"
           },
           {
            "metadata": {},
            "name": "absoluteYardlineNumber",
            "nullable": true,
            "type": "integer"
           },
           {
            "metadata": {},
            "name": "gameClock",
            "nullable": true,
            "type": "string"
           },
           {
            "metadata": {},
            "name": "preSnapVisitorScore",
            "nullable": true,
            "type": "integer"
           },
           {
            "metadata": {},
            "name": "preSnapHomeScore",
            "nullable": true,
            "type": "integer"
           },
           {
            "metadata": {},
            "name": "possessionTeam",
            "nullable": true,
            "type": "string"
           },
           {
            "metadata": {},
            "name": "defendersInTheBox",
            "nullable": true,
            "type": "integer"
           },
           {
            "metadata": {},
            "name": "numberOfPassRushers",
            "nullable": true,
            "type": "integer"
           },
           {
            "metadata": {},
            "name": "offenseFormation",
            "nullable": true,
            "type": "string"
           },
           {
            "metadata": {},
            "name": "personnelO",
            "nullable": true,
            "type": "string"
           },
           {
            "metadata": {},
            "name": "personnelD",
            "nullable": true,
            "type": "string"
           },
           {
            "metadata": {},
            "name": "netYardsGained",
            "nullable": true,
            "type": "integer"
           },
           {
            "metadata": {},
            "name": "passResult",
            "nullable": true,
            "type": "string"
           },
           {
            "metadata": {},
            "name": "expectedPointsAdded",
            "nullable": true,
            "type": "double"
           },
           {
            "metadata": {
             "ml_attr": {
              "name": "passResultIndex",
              "type": "nominal",
              "vals": [
               "C",
               "I",
               "S",
               "IN",
               "R"
              ]
             }
            },
            "name": "passResultIndex",
            "nullable": true,
            "type": "double"
           },
           {
            "metadata": {
             "ml_attr": {
              "name": "offenseFormationIndex",
              "type": "nominal",
              "vals": [
               "SHOTGUN",
               "SINGLEBACK",
               "EMPTY",
               "I_FORM",
               "PISTOL",
               "JUMBO",
               "WILDCAT"
              ]
             }
            },
            "name": "offenseFormationIndex",
            "nullable": true,
            "type": "double"
           },
           {
            "metadata": {},
            "name": "num_offense_runningbacks",
            "nullable": true,
            "type": "integer"
           },
           {
            "metadata": {},
            "name": "num_offense_tightends",
            "nullable": true,
            "type": "integer"
           },
           {
            "metadata": {},
            "name": "num_offense_widereceivers",
            "nullable": true,
            "type": "integer"
           },
           {
            "metadata": {},
            "name": "num_def_defline",
            "nullable": true,
            "type": "integer"
           },
           {
            "metadata": {},
            "name": "num_def_linebackers",
            "nullable": true,
            "type": "integer"
           },
           {
            "metadata": {},
            "name": "num_def_defbacks",
            "nullable": true,
            "type": "integer"
           },
           {
            "metadata": {},
            "name": "delta_defline_offreceivers",
            "nullable": true,
            "type": "integer"
           },
           {
            "metadata": {
             "ml_attr": {
              "attrs": {
               "nominal": [
                {
                 "idx": 0,
                 "name": "offenseFormationIndex",
                 "vals": [
                  "SHOTGUN",
                  "SINGLEBACK",
                  "EMPTY",
                  "I_FORM",
                  "PISTOL",
                  "JUMBO",
                  "WILDCAT"
                 ]
                }
               ],
               "numeric": [
                {
                 "idx": 1,
                 "name": "num_offense_runningbacks"
                },
                {
                 "idx": 2,
                 "name": "num_offense_tightends"
                },
                {
                 "idx": 3,
                 "name": "num_offense_widereceivers"
                },
                {
                 "idx": 4,
                 "name": "num_def_defline"
                },
                {
                 "idx": 5,
                 "name": "num_def_linebackers"
                },
                {
                 "idx": 6,
                 "name": "num_def_defbacks"
                },
                {
                 "idx": 7,
                 "name": "delta_defline_offreceivers"
                }
               ]
              },
              "num_attrs": 8
             }
            },
            "name": "features",
            "nullable": true,
            "type": {
             "class": "org.apache.spark.ml.linalg.VectorUDT",
             "pyClass": "pyspark.ml.linalg.VectorUDT",
             "sqlType": {
              "fields": [
               {
                "metadata": {},
                "name": "type",
                "nullable": false,
                "type": "byte"
               },
               {
                "metadata": {},
                "name": "size",
                "nullable": true,
                "type": "integer"
               },
               {
                "metadata": {},
                "name": "indices",
                "nullable": true,
                "type": {
                 "containsNull": false,
                 "elementType": "integer",
                 "type": "array"
                }
               },
               {
                "metadata": {},
                "name": "values",
                "nullable": true,
                "type": {
                 "containsNull": false,
                 "elementType": "double",
                 "type": "array"
                }
               }
              ],
              "type": "struct"
             },
             "type": "udt"
            }
           }
          ],
          "type": "struct"
         },
         "tableIdentifier": null,
         "typeStr": "pyspark.sql.dataframe.DataFrame"
        },
        {
         "name": "plays_test",
         "schema": {
          "fields": [
           {
            "metadata": {},
            "name": "gameId",
            "nullable": true,
            "type": "integer"
           },
           {
            "metadata": {},
            "name": "playId",
            "nullable": true,
            "type": "integer"
           },
           {
            "metadata": {},
            "name": "quarter",
            "nullable": true,
            "type": "integer"
           },
           {
            "metadata": {},
            "name": "down",
            "nullable": true,
            "type": "integer"
           },
           {
            "metadata": {},
            "name": "absoluteYardlineNumber",
            "nullable": true,
            "type": "integer"
           },
           {
            "metadata": {},
            "name": "gameClock",
            "nullable": true,
            "type": "string"
           },
           {
            "metadata": {},
            "name": "preSnapVisitorScore",
            "nullable": true,
            "type": "integer"
           },
           {
            "metadata": {},
            "name": "preSnapHomeScore",
            "nullable": true,
            "type": "integer"
           },
           {
            "metadata": {},
            "name": "possessionTeam",
            "nullable": true,
            "type": "string"
           },
           {
            "metadata": {},
            "name": "defendersInTheBox",
            "nullable": true,
            "type": "integer"
           },
           {
            "metadata": {},
            "name": "numberOfPassRushers",
            "nullable": true,
            "type": "integer"
           },
           {
            "metadata": {},
            "name": "offenseFormation",
            "nullable": true,
            "type": "string"
           },
           {
            "metadata": {},
            "name": "personnelO",
            "nullable": true,
            "type": "string"
           },
           {
            "metadata": {},
            "name": "personnelD",
            "nullable": true,
            "type": "string"
           },
           {
            "metadata": {},
            "name": "netYardsGained",
            "nullable": true,
            "type": "integer"
           },
           {
            "metadata": {},
            "name": "passResult",
            "nullable": true,
            "type": "string"
           },
           {
            "metadata": {},
            "name": "expectedPointsAdded",
            "nullable": true,
            "type": "double"
           },
           {
            "metadata": {
             "ml_attr": {
              "name": "passResultIndex",
              "type": "nominal",
              "vals": [
               "C",
               "I",
               "S",
               "IN",
               "R"
              ]
             }
            },
            "name": "passResultIndex",
            "nullable": true,
            "type": "double"
           },
           {
            "metadata": {
             "ml_attr": {
              "name": "offenseFormationIndex",
              "type": "nominal",
              "vals": [
               "SHOTGUN",
               "SINGLEBACK",
               "EMPTY",
               "I_FORM",
               "PISTOL",
               "JUMBO",
               "WILDCAT"
              ]
             }
            },
            "name": "offenseFormationIndex",
            "nullable": true,
            "type": "double"
           },
           {
            "metadata": {},
            "name": "num_offense_runningbacks",
            "nullable": true,
            "type": "integer"
           },
           {
            "metadata": {},
            "name": "num_offense_tightends",
            "nullable": true,
            "type": "integer"
           },
           {
            "metadata": {},
            "name": "num_offense_widereceivers",
            "nullable": true,
            "type": "integer"
           },
           {
            "metadata": {},
            "name": "num_def_defline",
            "nullable": true,
            "type": "integer"
           },
           {
            "metadata": {},
            "name": "num_def_linebackers",
            "nullable": true,
            "type": "integer"
           },
           {
            "metadata": {},
            "name": "num_def_defbacks",
            "nullable": true,
            "type": "integer"
           },
           {
            "metadata": {},
            "name": "delta_defline_offreceivers",
            "nullable": true,
            "type": "integer"
           },
           {
            "metadata": {
             "ml_attr": {
              "attrs": {
               "nominal": [
                {
                 "idx": 0,
                 "name": "offenseFormationIndex",
                 "vals": [
                  "SHOTGUN",
                  "SINGLEBACK",
                  "EMPTY",
                  "I_FORM",
                  "PISTOL",
                  "JUMBO",
                  "WILDCAT"
                 ]
                }
               ],
               "numeric": [
                {
                 "idx": 1,
                 "name": "num_offense_runningbacks"
                },
                {
                 "idx": 2,
                 "name": "num_offense_tightends"
                },
                {
                 "idx": 3,
                 "name": "num_offense_widereceivers"
                },
                {
                 "idx": 4,
                 "name": "num_def_defline"
                },
                {
                 "idx": 5,
                 "name": "num_def_linebackers"
                },
                {
                 "idx": 6,
                 "name": "num_def_defbacks"
                },
                {
                 "idx": 7,
                 "name": "delta_defline_offreceivers"
                }
               ]
              },
              "num_attrs": 8
             }
            },
            "name": "features",
            "nullable": true,
            "type": {
             "class": "org.apache.spark.ml.linalg.VectorUDT",
             "pyClass": "pyspark.ml.linalg.VectorUDT",
             "sqlType": {
              "fields": [
               {
                "metadata": {},
                "name": "type",
                "nullable": false,
                "type": "byte"
               },
               {
                "metadata": {},
                "name": "size",
                "nullable": true,
                "type": "integer"
               },
               {
                "metadata": {},
                "name": "indices",
                "nullable": true,
                "type": {
                 "containsNull": false,
                 "elementType": "integer",
                 "type": "array"
                }
               },
               {
                "metadata": {},
                "name": "values",
                "nullable": true,
                "type": {
                 "containsNull": false,
                 "elementType": "double",
                 "type": "array"
                }
               }
              ],
              "type": "struct"
             },
             "type": "udt"
            }
           }
          ],
          "type": "struct"
         },
         "tableIdentifier": null,
         "typeStr": "pyspark.sql.dataframe.DataFrame"
        }
       ],
       "removedWidgets": [],
       "type": "html"
      }
     },
     "output_type": "display_data"
    }
   ],
   "source": [
    "feature_cols = [\n",
    "    \"offenseFormationIndex\", 'num_offense_runningbacks',\n",
    "    'num_offense_tightends', 'num_offense_widereceivers', 'num_def_defline',\n",
    "    'num_def_linebackers', 'num_def_defbacks', 'delta_defline_offreceivers'\n",
    "]\n",
    "target_col = \"netYardsGained\"\n",
    "\n",
    "assembler = (\n",
    "    VectorAssembler().setInputCols(feature_cols).setOutputCol(\"features\"))\n",
    "\n",
    "plays = assembler.transform(plays_raw)\n",
    "plays_training, plays_test = plays.randomSplit([0.7, 0.3])\n",
    "plays_training.cache()\n",
    "plays_test.cache();"
   ]
  },
  {
   "cell_type": "markdown",
   "metadata": {
    "application/vnd.databricks.v1+cell": {
     "inputWidgets": {},
     "nuid": "5dd74ce0-8b75-4b98-a6af-af64845895be",
     "showTitle": false,
     "title": ""
    }
   },
   "source": [
    "### Simple linear regression"
   ]
  },
  {
   "cell_type": "code",
   "execution_count": null,
   "metadata": {
    "application/vnd.databricks.v1+cell": {
     "inputWidgets": {},
     "nuid": "a3d7dac4-6b48-440f-96c2-b2228c2ce7c7",
     "showTitle": false,
     "title": ""
    }
   },
   "outputs": [
    {
     "data": {
      "text/html": [
       "<style scoped>\n",
       "  .ansiout {\n",
       "    display: block;\n",
       "    unicode-bidi: embed;\n",
       "    white-space: pre-wrap;\n",
       "    word-wrap: break-word;\n",
       "    word-break: break-all;\n",
       "    font-family: \"Source Code Pro\", \"Menlo\", monospace;;\n",
       "    font-size: 13px;\n",
       "    color: #555;\n",
       "    margin-left: 4px;\n",
       "    line-height: 19px;\n",
       "  }\n",
       "</style>\n",
       "<div class=\"ansiout\">/databricks/spark/python/pyspark/ml/util.py:762: UserWarning: Cannot find mlflow module. To enable MLflow logging, install mlflow from PyPI.\n",
       "  warnings.warn(_MLflowInstrumentation._NO_MLFLOW_WARNING)\n",
       "</div>"
      ]
     },
     "metadata": {
      "application/vnd.databricks.v1+output": {
       "addedWidgets": {},
       "arguments": {},
       "data": "<div class=\"ansiout\">/databricks/spark/python/pyspark/ml/util.py:762: UserWarning: Cannot find mlflow module. To enable MLflow logging, install mlflow from PyPI.\n  warnings.warn(_MLflowInstrumentation._NO_MLFLOW_WARNING)\n</div>",
       "datasetInfos": [],
       "removedWidgets": [],
       "type": "html"
      }
     },
     "output_type": "display_data"
    }
   ],
   "source": [
    "plays_reg_model = (\n",
    "    LinearRegression().setLabelCol(target_col).setFeaturesCol(\"features\"))\n",
    "\n",
    "elasticNetParamGrid = [0., 0.5]\n",
    "\n",
    "paramGrid = (ParamGridBuilder().addGrid(plays_reg_model.elasticNetParam,\n",
    "                                        elasticNetParamGrid).build())\n",
    "\n",
    "# What other stages exist?\n",
    "stages = [plays_reg_model]\n",
    "\n",
    "pipeline = Pipeline().setStages(stages)\n",
    "\n",
    "cv = (CrossValidator().setEstimator(pipeline).setEstimatorParamMaps(\n",
    "    paramGrid).setEvaluator(RegressionEvaluator().setLabelCol(target_col)))\n",
    "\n",
    "plays_fitted_model = cv.fit(plays_training)"
   ]
  },
  {
   "cell_type": "code",
   "execution_count": null,
   "metadata": {
    "application/vnd.databricks.v1+cell": {
     "inputWidgets": {},
     "nuid": "64ed9d1c-4792-4e41-a786-2dce6083b1ca",
     "showTitle": false,
     "title": ""
    }
   },
   "outputs": [
    {
     "data": {
      "text/html": [
       "<style scoped>\n",
       "  .ansiout {\n",
       "    display: block;\n",
       "    unicode-bidi: embed;\n",
       "    white-space: pre-wrap;\n",
       "    word-wrap: break-word;\n",
       "    word-break: break-all;\n",
       "    font-family: \"Source Code Pro\", \"Menlo\", monospace;;\n",
       "    font-size: 13px;\n",
       "    color: #555;\n",
       "    margin-left: 4px;\n",
       "    line-height: 19px;\n",
       "  }\n",
       "</style>\n",
       "<div class=\"ansiout\">MSE:  112.22510102314017\n",
       "MAE:  7.46149126960734\n",
       "RMSE Squared:  10.593634929670749\n",
       "R Squared:  0.0001442552876234071\n",
       "Explained Variance:  0.4096969068034041 \n",
       "\n",
       "</div>"
      ]
     },
     "metadata": {
      "application/vnd.databricks.v1+output": {
       "addedWidgets": {},
       "arguments": {},
       "data": "<div class=\"ansiout\">MSE:  112.22510102314017\nMAE:  7.46149126960734\nRMSE Squared:  10.593634929670749\nR Squared:  0.0001442552876234071\nExplained Variance:  0.4096969068034041 \n\n</div>",
       "datasetInfos": [
        {
         "name": "holdout",
         "schema": {
          "fields": [
           {
            "metadata": {},
            "name": "prediction",
            "nullable": false,
            "type": "double"
           },
           {
            "metadata": {},
            "name": "netYardsGained",
            "nullable": true,
            "type": "double"
           }
          ],
          "type": "struct"
         },
         "tableIdentifier": null,
         "typeStr": "pyspark.sql.dataframe.DataFrame"
        }
       ],
       "removedWidgets": [],
       "type": "html"
      }
     },
     "output_type": "display_data"
    }
   ],
   "source": [
    "holdout = plays_fitted_model.transform(plays_test).selectExpr(\n",
    "    \"double(prediction) as prediction\",\n",
    "    \"double(netYardsGained) as netYardsGained\")\n",
    "rm = RegressionMetrics(\n",
    "    holdout.select(\"prediction\",\n",
    "                   \"netYardsGained\").rdd.map(lambda x: (x[0], x[1])))\n",
    "\n",
    "print(\"MSE: \", rm.meanSquaredError)\n",
    "print(\"MAE: \", rm.meanAbsoluteError)\n",
    "print(\"RMSE Squared: \", rm.rootMeanSquaredError)\n",
    "print(\"R Squared: \", rm.r2)\n",
    "print(\"Explained Variance: \", rm.explainedVariance, \"\\n\")"
   ]
  },
  {
   "cell_type": "code",
   "execution_count": null,
   "metadata": {
    "application/vnd.databricks.v1+cell": {
     "inputWidgets": {},
     "nuid": "1dec707a-ca61-40c3-ac11-73bd19cfdf82",
     "showTitle": false,
     "title": ""
    }
   },
   "outputs": [
    {
     "data": {
      "text/html": [
       "<style scoped>\n",
       "  .table-result-container {\n",
       "    max-height: 300px;\n",
       "    overflow: auto;\n",
       "  }\n",
       "  table, th, td {\n",
       "    border: 1px solid black;\n",
       "    border-collapse: collapse;\n",
       "  }\n",
       "  th, td {\n",
       "    padding: 5px;\n",
       "  }\n",
       "  th {\n",
       "    text-align: left;\n",
       "  }\n",
       "</style><div class='table-result-container'><table class='table-result'><thead style='background-color: white'><tr><th>prediction</th><th>netYardsGained</th></tr></thead><tbody><tr><td>7.731653847931227</td><td>10.0</td></tr><tr><td>5.976338010339347</td><td>33.0</td></tr><tr><td>8.737610167176223</td><td>0.0</td></tr><tr><td>6.162576206974366</td><td>4.0</td></tr><tr><td>6.5381148413318595</td><td>0.0</td></tr><tr><td>8.04072743708992</td><td>0.0</td></tr><tr><td>6.162576206974366</td><td>10.0</td></tr><tr><td>6.5381148413318595</td><td>23.0</td></tr><tr><td>6.285411599498039</td><td>7.0</td></tr><tr><td>6.285411599498039</td><td>0.0</td></tr><tr><td>6.285411599498039</td><td>0.0</td></tr><tr><td>6.285411599498039</td><td>0.0</td></tr><tr><td>5.976338010339347</td><td>7.0</td></tr><tr><td>5.976338010339347</td><td>0.0</td></tr><tr><td>6.285411599498039</td><td>0.0</td></tr><tr><td>6.162576206974366</td><td>4.0</td></tr><tr><td>7.4383629227135835</td><td>4.0</td></tr><tr><td>5.976338010339347</td><td>0.0</td></tr><tr><td>6.285411599498039</td><td>0.0</td></tr><tr><td>6.594485188656732</td><td>0.0</td></tr><tr><td>6.285411599498039</td><td>5.0</td></tr><tr><td>7.339108571111016</td><td>18.0</td></tr><tr><td>6.285411599498039</td><td>-5.0</td></tr><tr><td>5.976338010339347</td><td>-7.0</td></tr><tr><td>5.976338010339347</td><td>10.0</td></tr><tr><td>6.987150977674629</td><td>0.0</td></tr><tr><td>6.481744494006989</td><td>0.0</td></tr><tr><td>6.481744494006989</td><td>0.0</td></tr><tr><td>6.481744494006989</td><td>0.0</td></tr><tr><td>6.039740814450694</td><td>0.0</td></tr><tr><td>6.039740814450694</td><td>0.0</td></tr><tr><td>6.285411599498039</td><td>4.0</td></tr><tr><td>7.142775676602069</td><td>0.0</td></tr><tr><td>6.545147298118334</td><td>-5.0</td></tr><tr><td>6.84073454422985</td><td>10.0</td></tr><tr><td>6.285411599498039</td><td>20.0</td></tr><tr><td>6.162576206974366</td><td>12.0</td></tr><tr><td>6.285411599498039</td><td>13.0</td></tr><tr><td>6.667982690642006</td><td>-1.0</td></tr><tr><td>6.162576206974366</td><td>-8.0</td></tr><tr><td>7.2726435259122155</td><td>0.0</td></tr><tr><td>6.471649796133059</td><td>0.0</td></tr><tr><td>6.285411599498039</td><td>0.0</td></tr><tr><td>6.039740814450694</td><td>0.0</td></tr><tr><td>6.039740814450694</td><td>0.0</td></tr><tr><td>5.607831832768326</td><td>24.0</td></tr><tr><td>6.039740814450694</td><td>10.0</td></tr><tr><td>6.039740814450694</td><td>0.0</td></tr><tr><td>6.039740814450694</td><td>0.0</td></tr><tr><td>6.285411599498039</td><td>5.0</td></tr><tr><td>6.471649796133059</td><td>0.0</td></tr><tr><td>7.159782319064787</td><td>0.0</td></tr><tr><td>5.730667225292001</td><td>0.0</td></tr><tr><td>6.594485188656732</td><td>37.0</td></tr><tr><td>8.336314683201437</td><td>0.0</td></tr><tr><td>6.162576206974366</td><td>11.0</td></tr><tr><td>6.162576206974366</td><td>8.0</td></tr><tr><td>6.285411599498039</td><td>22.0</td></tr><tr><td>7.019940284078395</td><td>8.0</td></tr><tr><td>7.019940284078395</td><td>0.0</td></tr><tr><td>5.730667225292001</td><td>-5.0</td></tr><tr><td>6.84073454422985</td><td>0.0</td></tr><tr><td>5.730667225292001</td><td>39.0</td></tr><tr><td>7.5559602654536135</td><td>0.0</td></tr><tr><td>6.039740814450694</td><td>0.0</td></tr><tr><td>6.162576206974366</td><td>6.0</td></tr><tr><td>5.4744436840426385</td><td>0.0</td></tr><tr><td>6.039740814450694</td><td>6.0</td></tr><tr><td>6.039740814450694</td><td>0.0</td></tr><tr><td>6.039740814450694</td><td>0.0</td></tr><tr><td>6.039740814450694</td><td>0.0</td></tr><tr><td>6.767237042244574</td><td>0.0</td></tr><tr><td>6.285411599498039</td><td>17.0</td></tr><tr><td>6.594485188656732</td><td>3.0</td></tr><tr><td>6.162576206974366</td><td>1.0</td></tr><tr><td>6.039740814450694</td><td>7.0</td></tr><tr><td>6.162576206974366</td><td>-10.0</td></tr><tr><td>6.667982690642006</td><td>10.0</td></tr><tr><td>6.667982690642006</td><td>12.0</td></tr><tr><td>5.4744436840426385</td><td>10.0</td></tr><tr><td>5.730667225292001</td><td>0.0</td></tr><tr><td>5.730667225292001</td><td>0.0</td></tr><tr><td>6.285411599498039</td><td>21.0</td></tr><tr><td>7.142775676602069</td><td>5.0</td></tr><tr><td>6.973544122429766</td><td>6.0</td></tr><tr><td>6.79081808316568</td><td>8.0</td></tr><tr><td>7.648182160269709</td><td>8.0</td></tr><tr><td>6.890072434768248</td><td>9.0</td></tr><tr><td>7.395478918435888</td><td>26.0</td></tr><tr><td>6.5381148413318595</td><td>11.0</td></tr><tr><td>5.550359407988094</td><td>0.0</td></tr><tr><td>7.185659680879764</td><td>13.0</td></tr><tr><td>6.285411599498039</td><td>1.0</td></tr><tr><td>6.285411599498039</td><td>-6.0</td></tr><tr><td>7.395478918435888</td><td>8.0</td></tr><tr><td>7.395478918435888</td><td>0.0</td></tr><tr><td>6.890072434768248</td><td>0.0</td></tr><tr><td>7.142775676602069</td><td>4.0</td></tr><tr><td>6.5381148413318595</td><td>0.0</td></tr><tr><td>6.833702087443376</td><td>38.0</td></tr><tr><td>6.580998845609555</td><td>0.0</td></tr><tr><td>6.285411599498039</td><td>8.0</td></tr><tr><td>6.79081808316568</td><td>0.0</td></tr><tr><td>6.285411599498039</td><td>5.0</td></tr><tr><td>6.285411599498039</td><td>4.0</td></tr><tr><td>6.79081808316568</td><td>8.0</td></tr><tr><td>6.285411599498039</td><td>8.0</td></tr><tr><td>6.285411599498039</td><td>-5.0</td></tr><tr><td>6.285411599498039</td><td>17.0</td></tr><tr><td>7.665188802732427</td><td>7.0</td></tr><tr><td>6.5381148413318595</td><td>0.0</td></tr><tr><td>6.285411599498039</td><td>0.0</td></tr><tr><td>6.039740814450694</td><td>7.0</td></tr><tr><td>6.285411599498039</td><td>13.0</td></tr><tr><td>5.916905421927019</td><td>0.0</td></tr><tr><td>6.285411599498039</td><td>0.0</td></tr><tr><td>6.292444056284513</td><td>0.0</td></tr><tr><td>7.648182160269709</td><td>0.0</td></tr><tr><td>6.285411599498039</td><td>6.0</td></tr><tr><td>6.292444056284513</td><td>0.0</td></tr><tr><td>7.019940284078395</td><td>75.0</td></tr><tr><td>6.292444056284513</td><td>0.0</td></tr><tr><td>5.916905421927019</td><td>0.0</td></tr><tr><td>6.285411599498039</td><td>0.0</td></tr><tr><td>6.285411599498039</td><td>0.0</td></tr><tr><td>6.162576206974366</td><td>0.0</td></tr><tr><td>8.04072743708992</td><td>5.0</td></tr><tr><td>6.4581634530858825</td><td>0.0</td></tr><tr><td>6.833702087443376</td><td>0.0</td></tr><tr><td>6.710866694919702</td><td>-4.0</td></tr><tr><td>5.976338010339347</td><td>0.0</td></tr><tr><td>7.103411971739913</td><td>5.0</td></tr><tr><td>6.850708729906092</td><td>0.0</td></tr><tr><td>6.149089863927189</td><td>0.0</td></tr><tr><td>5.976338010339347</td><td>12.0</td></tr><tr><td>5.853502617815675</td><td>14.0</td></tr><tr><td>6.162576206974366</td><td>12.0</td></tr><tr><td>6.415279448808187</td><td>13.0</td></tr><tr><td>7.282617711588459</td><td>0.0</td></tr><tr><td>7.086405329277195</td><td>13.0</td></tr><tr><td>7.086405329277195</td><td>14.0</td></tr><tr><td>7.578204957699974</td><td>9.0</td></tr><tr><td>6.890072434768248</td><td>8.0</td></tr><tr><td>8.04072743708992</td><td>10.0</td></tr><tr><td>6.580998845609555</td><td>0.0</td></tr><tr><td>6.285411599498039</td><td>0.0</td></tr><tr><td>5.5444290286569835</td><td>14.0</td></tr><tr><td>6.02610862634284</td><td>0.0</td></tr><tr><td>6.285411599498039</td><td>4.0</td></tr><tr><td>6.79081808316568</td><td>14.0</td></tr><tr><td>6.5381148413318595</td><td>58.0</td></tr><tr><td>7.395478918435888</td><td>11.0</td></tr><tr><td>7.395478918435888</td><td>11.0</td></tr><tr><td>8.04072743708992</td><td>0.0</td></tr><tr><td>6.285411599498039</td><td>0.0</td></tr><tr><td>7.282617711588459</td><td>0.0</td></tr><tr><td>6.285411599498039</td><td>19.0</td></tr><tr><td>6.285411599498039</td><td>9.0</td></tr><tr><td>6.79081808316568</td><td>6.0</td></tr><tr><td>6.285411599498039</td><td>0.0</td></tr><tr><td>6.79081808316568</td><td>23.0</td></tr><tr><td>6.285411599498039</td><td>6.0</td></tr><tr><td>7.648182160269709</td><td>0.0</td></tr><tr><td>6.285411599498039</td><td>11.0</td></tr><tr><td>6.285411599498039</td><td>7.0</td></tr><tr><td>6.79081808316568</td><td>0.0</td></tr><tr><td>6.162576206974366</td><td>50.0</td></tr><tr><td>6.285411599498039</td><td>0.0</td></tr><tr><td>6.285411599498039</td><td>35.0</td></tr><tr><td>6.285411599498039</td><td>13.0</td></tr><tr><td>6.79081808316568</td><td>21.0</td></tr><tr><td>6.79081808316568</td><td>9.0</td></tr><tr><td>6.039740814450694</td><td>31.0</td></tr><tr><td>6.039740814450694</td><td>0.0</td></tr><tr><td>7.4383629227135835</td><td>16.0</td></tr><tr><td>6.039740814450694</td><td>0.0</td></tr><tr><td>6.5381148413318595</td><td>13.0</td></tr><tr><td>6.285411599498039</td><td>7.0</td></tr><tr><td>6.162576206974366</td><td>0.0</td></tr><tr><td>6.162576206974366</td><td>13.0</td></tr><tr><td>6.79081808316568</td><td>0.0</td></tr><tr><td>6.162576206974366</td><td>5.0</td></tr><tr><td>6.162576206974366</td><td>0.0</td></tr><tr><td>6.162576206974366</td><td>0.0</td></tr><tr><td>6.920685932475827</td><td>18.0</td></tr><tr><td>6.833702087443376</td><td>0.0</td></tr><tr><td>6.162576206974366</td><td>14.0</td></tr><tr><td>5.484996440244654</td><td>0.0</td></tr><tr><td>5.916905421927019</td><td>4.0</td></tr><tr><td>6.162576206974366</td><td>21.0</td></tr><tr><td>7.173389174309648</td><td>19.0</td></tr><tr><td>6.580998845609555</td><td>31.0</td></tr><tr><td>7.019940284078395</td><td>0.0</td></tr><tr><td>6.545147298118334</td><td>4.0</td></tr><tr><td>6.285411599498039</td><td>0.0</td></tr><tr><td>6.039740814450694</td><td>3.0</td></tr><tr><td>6.285411599498039</td><td>11.0</td></tr><tr><td>6.285411599498039</td><td>10.0</td></tr><tr><td>6.79081808316568</td><td>23.0</td></tr><tr><td>6.5381148413318595</td><td>18.0</td></tr><tr><td>6.285411599498039</td><td>6.0</td></tr><tr><td>6.79081808316568</td><td>5.0</td></tr><tr><td>6.292444056284513</td><td>27.0</td></tr><tr><td>6.833702087443376</td><td>0.0</td></tr><tr><td>6.039740814450694</td><td>0.0</td></tr><tr><td>6.039740814450694</td><td>0.0</td></tr><tr><td>6.285411599498039</td><td>17.0</td></tr><tr><td>6.79081808316568</td><td>0.0</td></tr><tr><td>6.039740814450694</td><td>7.0</td></tr><tr><td>6.039740814450694</td><td>6.0</td></tr><tr><td>6.039740814450694</td><td>1.0</td></tr><tr><td>6.039740814450694</td><td>0.0</td></tr><tr><td>6.039740814450694</td><td>3.0</td></tr><tr><td>6.039740814450694</td><td>0.0</td></tr><tr><td>6.545147298118334</td><td>6.0</td></tr><tr><td>6.039740814450694</td><td>3.0</td></tr><tr><td>6.973544122429766</td><td>8.0</td></tr><tr><td>6.285411599498039</td><td>5.0</td></tr><tr><td>6.580998845609555</td><td>0.0</td></tr><tr><td>6.973544122429766</td><td>7.0</td></tr><tr><td>6.285411599498039</td><td>14.0</td></tr><tr><td>7.043521324999501</td><td>0.0</td></tr><tr><td>6.285411599498039</td><td>4.0</td></tr><tr><td>6.79081808316568</td><td>12.0</td></tr><tr><td>6.79081808316568</td><td>-7.0</td></tr><tr><td>6.285411599498039</td><td>-5.0</td></tr><tr><td>6.285411599498039</td><td>13.0</td></tr><tr><td>6.285411599498039</td><td>0.0</td></tr><tr><td>6.285411599498039</td><td>0.0</td></tr><tr><td>6.162576206974366</td><td>0.0</td></tr><tr><td>6.41879974822373</td><td>8.0</td></tr><tr><td>6.2360737089596405</td><td>0.0</td></tr><tr><td>6.92420623189137</td><td>20.0</td></tr><tr><td>5.298758243609635</td><td>-5.0</td></tr><tr><td>6.162576206974366</td><td>-9.0</td></tr><tr><td>5.804164727277277</td><td>-9.0</td></tr><tr><td>6.162576206974366</td><td>29.0</td></tr><tr><td>6.162576206974366</td><td>11.0</td></tr><tr><td>6.162576206974366</td><td>2.0</td></tr><tr><td>5.730667225292001</td><td>-2.0</td></tr><tr><td>6.285411599498039</td><td>0.0</td></tr><tr><td>6.162576206974366</td><td>3.0</td></tr><tr><td>5.298758243609635</td><td>9.0</td></tr><tr><td>5.298758243609635</td><td>0.0</td></tr><tr><td>6.4581634530858825</td><td>9.0</td></tr><tr><td>6.4581634530858825</td><td>2.0</td></tr><tr><td>6.162576206974366</td><td>15.0</td></tr><tr><td>6.162576206974366</td><td>10.0</td></tr><tr><td>7.173389174309648</td><td>6.0</td></tr><tr><td>6.026254471403517</td><td>7.0</td></tr><tr><td>5.853502617815675</td><td>75.0</td></tr><tr><td>5.607831832768326</td><td>6.0</td></tr><tr><td>5.298758243609635</td><td>0.0</td></tr><tr><td>6.162576206974366</td><td>15.0</td></tr><tr><td>7.691066164547404</td><td>3.0</td></tr><tr><td>7.395478918435888</td><td>0.0</td></tr><tr><td>5.853502617815675</td><td>0.0</td></tr><tr><td>5.86698896086285</td><td>0.0</td></tr><tr><td>5.730667225292001</td><td>11.0</td></tr><tr><td>6.162576206974366</td><td>10.0</td></tr><tr><td>6.162576206974366</td><td>0.0</td></tr><tr><td>7.665188802732427</td><td>24.0</td></tr><tr><td>6.162576206974366</td><td>0.0</td></tr><tr><td>6.162576206974366</td><td>0.0</td></tr><tr><td>7.006453941031218</td><td>0.0</td></tr><tr><td>6.039740814450694</td><td>2.0</td></tr><tr><td>6.162576206974366</td><td>5.0</td></tr><tr><td>6.162576206974366</td><td>8.0</td></tr><tr><td>5.86698896086285</td><td>2.0</td></tr><tr><td>5.86698896086285</td><td>6.0</td></tr><tr><td>5.86698896086285</td><td>0.0</td></tr><tr><td>5.86698896086285</td><td>4.0</td></tr><tr><td>6.162576206974366</td><td>0.0</td></tr><tr><td>6.162576206974366</td><td>0.0</td></tr><tr><td>6.162576206974366</td><td>0.0</td></tr><tr><td>6.847188430490553</td><td>17.0</td></tr><tr><td>6.5381148413318595</td><td>20.0</td></tr><tr><td>7.2726435259122155</td><td>12.0</td></tr><tr><td>5.853502617815675</td><td>6.0</td></tr><tr><td>6.5381148413318595</td><td>0.0</td></tr><tr><td>6.79081808316568</td><td>0.0</td></tr><tr><td>5.853502617815675</td><td>0.0</td></tr><tr><td>6.285411599498039</td><td>11.0</td></tr><tr><td>7.2726435259122155</td><td>0.0</td></tr><tr><td>5.853502617815675</td><td>0.0</td></tr><tr><td>6.5381148413318595</td><td>8.0</td></tr><tr><td>6.667982690642006</td><td>4.0</td></tr><tr><td>5.853502617815675</td><td>0.0</td></tr><tr><td>6.5381148413318595</td><td>3.0</td></tr><tr><td>6.415279448808187</td><td>9.0</td></tr><tr><td>5.853502617815675</td><td>0.0</td></tr><tr><td>5.853502617815675</td><td>32.0</td></tr><tr><td>5.853502617815675</td><td>0.0</td></tr><tr><td>6.335328060562208</td><td>8.0</td></tr><tr><td>6.335328060562208</td><td>0.0</td></tr><tr><td>7.29622456683332</td><td>5.0</td></tr><tr><td>6.890072434768248</td><td>0.0</td></tr><tr><td>5.607831832768326</td><td>0.0</td></tr><tr><td>5.607831832768326</td><td>0.0</td></tr><tr><td>5.607831832768326</td><td>0.0</td></tr><tr><td>6.285411599498039</td><td>0.0</td></tr><tr><td>6.285411599498039</td><td>11.0</td></tr><tr><td>7.691066164547404</td><td>0.0</td></tr><tr><td>6.79081808316568</td><td>1.0</td></tr><tr><td>6.335328060562208</td><td>16.0</td></tr><tr><td>5.607831832768326</td><td>0.0</td></tr><tr><td>7.142775676602069</td><td>25.0</td></tr><tr><td>6.79081808316568</td><td>1.0</td></tr><tr><td>6.767237042244574</td><td>0.0</td></tr><tr><td>4.988582576995581</td><td>0.0</td></tr><tr><td>6.285411599498039</td><td>17.0</td></tr><tr><td>6.285411599498039</td><td>10.0</td></tr><tr><td>6.580998845609555</td><td>16.0</td></tr><tr><td>6.285411599498039</td><td>21.0</td></tr><tr><td>5.607831832768326</td><td>8.0</td></tr><tr><td>6.285411599498039</td><td>0.0</td></tr><tr><td>6.285411599498039</td><td>5.0</td></tr><tr><td>6.285411599498039</td><td>4.0</td></tr><tr><td>6.285411599498039</td><td>11.0</td></tr><tr><td>6.285411599498039</td><td>9.0</td></tr><tr><td>6.162576206974366</td><td>-12.0</td></tr><tr><td>7.142775676602069</td><td>18.0</td></tr><tr><td>6.162576206974366</td><td>0.0</td></tr><tr><td>6.890072434768248</td><td>11.0</td></tr><tr><td>6.4581634530858825</td><td>-5.0</td></tr><tr><td>6.162576206974366</td><td>22.0</td></tr><tr><td>6.162576206974366</td><td>1.0</td></tr><tr><td>6.667982690642006</td><td>0.0</td></tr><tr><td>6.79081808316568</td><td>22.0</td></tr><tr><td>6.667982690642006</td><td>6.0</td></tr><tr><td>6.162576206974366</td><td>0.0</td></tr><tr><td>6.162576206974366</td><td>3.0</td></tr><tr><td>7.315527530189911</td><td>30.0</td></tr><tr><td>6.285411599498039</td><td>0.0</td></tr><tr><td>6.285411599498039</td><td>26.0</td></tr><tr><td>6.162576206974366</td><td>10.0</td></tr><tr><td>6.162576206974366</td><td>0.0</td></tr><tr><td>6.162576206974366</td><td>4.0</td></tr><tr><td>6.667982690642006</td><td>16.0</td></tr><tr><td>6.162576206974366</td><td>2.0</td></tr><tr><td>7.90088540210353</td><td>11.0</td></tr><tr><td>6.833702087443376</td><td>22.0</td></tr><tr><td>6.285411599498039</td><td>2.0</td></tr><tr><td>5.853502617815675</td><td>0.0</td></tr><tr><td>5.5444290286569835</td><td>0.0</td></tr><tr><td>5.84594665409961</td><td>0.0</td></tr><tr><td>6.162576206974366</td><td>9.0</td></tr><tr><td>6.285411599498039</td><td>0.0</td></tr><tr><td>5.976338010339347</td><td>0.0</td></tr><tr><td>5.853502617815675</td><td>30.0</td></tr><tr><td>6.79081808316568</td><td>2.0</td></tr><tr><td>6.285411599498039</td><td>-7.0</td></tr><tr><td>7.019940284078395</td><td>13.0</td></tr><tr><td>6.162576206974366</td><td>1.0</td></tr><tr><td>6.667982690642006</td><td>7.0</td></tr><tr><td>7.019940284078395</td><td>2.0</td></tr><tr><td>6.285411599498039</td><td>8.0</td></tr><tr><td>6.162576206974366</td><td>0.0</td></tr><tr><td>5.853502617815675</td><td>5.0</td></tr><tr><td>6.039740814450694</td><td>1.0</td></tr><tr><td>6.285411599498039</td><td>8.0</td></tr><tr><td>6.106205859649494</td><td>9.0</td></tr><tr><td>6.4581634530858825</td><td>5.0</td></tr><tr><td>7.591811812944837</td><td>4.0</td></tr><tr><td>6.285411599498039</td><td>7.0</td></tr><tr><td>6.285411599498039</td><td>0.0</td></tr><tr><td>6.149089863927189</td><td>4.0</td></tr><tr><td>7.29622456683332</td><td>22.0</td></tr><tr><td>6.79081808316568</td><td>0.0</td></tr><tr><td>6.285411599498039</td><td>0.0</td></tr><tr><td>5.607831832768326</td><td>12.0</td></tr><tr><td>6.79081808316568</td><td>0.0</td></tr><tr><td>6.285411599498039</td><td>27.0</td></tr><tr><td>5.853502617815675</td><td>3.0</td></tr><tr><td>5.298758243609635</td><td>0.0</td></tr><tr><td>6.285411599498039</td><td>6.0</td></tr><tr><td>6.398272806345469</td><td>-7.0</td></tr><tr><td>6.767237042244574</td><td>8.0</td></tr><tr><td>7.142775676602069</td><td>3.0</td></tr><tr><td>6.162576206974366</td><td>8.0</td></tr><tr><td>6.285411599498039</td><td>7.0</td></tr><tr><td>6.162576206974366</td><td>-1.0</td></tr><tr><td>6.724353037966878</td><td>2.0</td></tr><tr><td>6.039740814450694</td><td>-3.0</td></tr><tr><td>7.142775676602069</td><td>25.0</td></tr><tr><td>7.282617711588459</td><td>14.0</td></tr><tr><td>6.162576206974366</td><td>7.0</td></tr><tr><td>7.648182160269709</td><td>22.0</td></tr><tr><td>6.039740814450694</td><td>-2.0</td></tr><tr><td>6.162576206974366</td><td>18.0</td></tr><tr><td>6.285411599498039</td><td>4.0</td></tr><tr><td>6.5381148413318595</td><td>5.0</td></tr><tr><td>6.162576206974366</td><td>-10.0</td></tr><tr><td>6.285411599498039</td><td>0.0</td></tr><tr><td>6.285411599498039</td><td>0.0</td></tr><tr><td>6.285411599498039</td><td>0.0</td></tr><tr><td>7.4383629227135835</td><td>0.0</td></tr><tr><td>6.285411599498039</td><td>0.0</td></tr><tr><td>6.285411599498039</td><td>23.0</td></tr><tr><td>6.285411599498039</td><td>7.0</td></tr><tr><td>6.039740814450694</td><td>8.0</td></tr><tr><td>5.5444290286569835</td><td>16.0</td></tr><tr><td>6.285411599498039</td><td>0.0</td></tr><tr><td>6.162576206974366</td><td>-15.0</td></tr><tr><td>6.79081808316568</td><td>0.0</td></tr><tr><td>6.162576206974366</td><td>29.0</td></tr><tr><td>7.648182160269709</td><td>0.0</td></tr><tr><td>6.545147298118334</td><td>4.0</td></tr><tr><td>6.545147298118334</td><td>0.0</td></tr><tr><td>6.79081808316568</td><td>13.0</td></tr><tr><td>7.142775676602069</td><td>17.0</td></tr><tr><td>6.285411599498039</td><td>0.0</td></tr><tr><td>6.039740814450694</td><td>0.0</td></tr><tr><td>7.648182160269709</td><td>21.0</td></tr><tr><td>6.285411599498039</td><td>0.0</td></tr><tr><td>6.039740814450694</td><td>5.0</td></tr><tr><td>6.162576206974366</td><td>16.0</td></tr><tr><td>6.79081808316568</td><td>18.0</td></tr><tr><td>6.285411599498039</td><td>0.0</td></tr><tr><td>6.285411599498039</td><td>11.0</td></tr><tr><td>6.285411599498039</td><td>0.0</td></tr><tr><td>6.162576206974366</td><td>19.0</td></tr><tr><td>6.162576206974366</td><td>19.0</td></tr><tr><td>6.162576206974366</td><td>0.0</td></tr><tr><td>6.162576206974366</td><td>0.0</td></tr><tr><td>5.730667225292001</td><td>5.0</td></tr><tr><td>6.162576206974366</td><td>6.0</td></tr><tr><td>6.162576206974366</td><td>12.0</td></tr><tr><td>8.213479290677762</td><td>-4.0</td></tr><tr><td>5.361702989392894</td><td>4.0</td></tr><tr><td>5.361702989392894</td><td>20.0</td></tr><tr><td>6.039740814450694</td><td>0.0</td></tr><tr><td>6.667982690642006</td><td>32.0</td></tr><tr><td>6.162576206974366</td><td>10.0</td></tr><tr><td>6.667982690642006</td><td>0.0</td></tr><tr><td>5.547941186027915</td><td>13.0</td></tr><tr><td>6.2360737089596405</td><td>25.0</td></tr><tr><td>6.545147298118334</td><td>2.0</td></tr><tr><td>6.162576206974366</td><td>2.0</td></tr><tr><td>6.162576206974366</td><td>11.0</td></tr><tr><td>6.162576206974366</td><td>0.0</td></tr><tr><td>5.730667225292001</td><td>-5.0</td></tr><tr><td>5.730667225292001</td><td>18.0</td></tr><tr><td>5.730667225292001</td><td>2.0</td></tr><tr><td>7.648182160269709</td><td>75.0</td></tr><tr><td>6.285411599498039</td><td>3.0</td></tr><tr><td>6.285411599498039</td><td>9.0</td></tr><tr><td>7.142775676602069</td><td>0.0</td></tr><tr><td>6.285411599498039</td><td>-7.0</td></tr><tr><td>6.285411599498039</td><td>13.0</td></tr><tr><td>6.79081808316568</td><td>0.0</td></tr><tr><td>6.398272806345469</td><td>5.0</td></tr><tr><td>6.833702087443376</td><td>-4.0</td></tr><tr><td>6.890072434768248</td><td>16.0</td></tr><tr><td>6.580998845609555</td><td>6.0</td></tr><tr><td>6.285411599498039</td><td>3.0</td></tr><tr><td>6.285411599498039</td><td>17.0</td></tr><tr><td>5.976338010339347</td><td>9.0</td></tr><tr><td>5.976338010339347</td><td>9.0</td></tr><tr><td>5.976338010339347</td><td>8.0</td></tr><tr><td>6.580998845609555</td><td>8.0</td></tr><tr><td>6.580998845609555</td><td>12.0</td></tr><tr><td>6.285411599498039</td><td>0.0</td></tr><tr><td>5.976338010339347</td><td>7.0</td></tr><tr><td>6.285411599498039</td><td>50.0</td></tr><tr><td>6.890072434768248</td><td>2.0</td></tr><tr><td>6.847188430490553</td><td>8.0</td></tr><tr><td>6.833702087443376</td><td>8.0</td></tr><tr><td>6.285411599498039</td><td>4.0</td></tr><tr><td>5.976338010339347</td><td>3.0</td></tr><tr><td>6.580998845609555</td><td>4.0</td></tr><tr><td>6.580998845609555</td><td>8.0</td></tr><tr><td>7.086405329277195</td><td>0.0</td></tr><tr><td>6.6307694616130455</td><td>-5.0</td></tr><tr><td>6.039740814450694</td><td>9.0</td></tr><tr><td>5.916905421927019</td><td>-2.0</td></tr><tr><td>6.039740814450694</td><td>19.0</td></tr><tr><td>6.039740814450694</td><td>17.0</td></tr><tr><td>6.84073454422985</td><td>8.0</td></tr><tr><td>5.916905421927019</td><td>28.0</td></tr><tr><td>6.162576206974366</td><td>0.0</td></tr><tr><td>6.588031302396029</td><td>15.0</td></tr><tr><td>7.019940284078395</td><td>4.0</td></tr><tr><td>6.335328060562208</td><td>13.0</td></tr><tr><td>6.039740814450694</td><td>39.0</td></tr><tr><td>6.162576206974366</td><td>14.0</td></tr><tr><td>6.415279448808187</td><td>0.0</td></tr><tr><td>6.545147298118334</td><td>5.0</td></tr><tr><td>6.039740814450694</td><td>1.0</td></tr><tr><td>6.039740814450694</td><td>1.0</td></tr><tr><td>5.916905421927019</td><td>19.0</td></tr><tr><td>6.335328060562208</td><td>0.0</td></tr><tr><td>6.039740814450694</td><td>0.0</td></tr><tr><td>7.06282428835609</td><td>0.0</td></tr><tr><td>7.019940284078395</td><td>32.0</td></tr><tr><td>5.976338010339347</td><td>0.0</td></tr><tr><td>6.335328060562208</td><td>10.0</td></tr><tr><td>6.285411599498039</td><td>8.0</td></tr><tr><td>6.285411599498039</td><td>0.0</td></tr><tr><td>5.976338010339347</td><td>11.0</td></tr><tr><td>6.481744494006989</td><td>0.0</td></tr><tr><td>6.039740814450694</td><td>0.0</td></tr><tr><td>5.976338010339347</td><td>11.0</td></tr><tr><td>5.976338010339347</td><td>0.0</td></tr><tr><td>6.285411599498039</td><td>7.0</td></tr><tr><td>6.79081808316568</td><td>9.0</td></tr><tr><td>7.043521324999501</td><td>-10.0</td></tr><tr><td>5.976338010339347</td><td>7.0</td></tr><tr><td>5.976338010339347</td><td>0.0</td></tr><tr><td>5.976338010339347</td><td>7.0</td></tr><tr><td>6.481744494006989</td><td>12.0</td></tr><tr><td>6.285411599498039</td><td>7.0</td></tr><tr><td>7.019940284078395</td><td>8.0</td></tr><tr><td>5.853502617815675</td><td>0.0</td></tr><tr><td>6.285411599498039</td><td>13.0</td></tr><tr><td>6.5381148413318595</td><td>22.0</td></tr><tr><td>7.2726435259122155</td><td>0.0</td></tr><tr><td>5.853502617815675</td><td>11.0</td></tr><tr><td>5.976338010339347</td><td>4.0</td></tr><tr><td>5.976338010339347</td><td>0.0</td></tr><tr><td>6.654496347594831</td><td>4.0</td></tr><tr><td>5.853502617815675</td><td>0.0</td></tr><tr><td>6.5381148413318595</td><td>6.0</td></tr><tr><td>6.481744494006989</td><td>11.0</td></tr><tr><td>6.285411599498039</td><td>0.0</td></tr><tr><td>6.285411599498039</td><td>0.0</td></tr><tr><td>5.853502617815675</td><td>9.0</td></tr><tr><td>5.853502617815675</td><td>6.0</td></tr><tr><td>7.019940284078395</td><td>0.0</td></tr><tr><td>5.730667225292001</td><td>0.0</td></tr><tr><td>6.285411599498039</td><td>0.0</td></tr><tr><td>6.285411599498039</td><td>10.0</td></tr><tr><td>6.79081808316568</td><td>3.0</td></tr><tr><td>6.039740814450694</td><td>3.0</td></tr><tr><td>6.2360737089596405</td><td>7.0</td></tr><tr><td>6.285411599498039</td><td>4.0</td></tr><tr><td>6.5381148413318595</td><td>0.0</td></tr><tr><td>6.588031302396029</td><td>5.0</td></tr><tr><td>6.285411599498039</td><td>0.0</td></tr><tr><td>7.142775676602069</td><td>4.0</td></tr><tr><td>5.607831832768326</td><td>-10.0</td></tr><tr><td>6.285411599498039</td><td>9.0</td></tr><tr><td>6.285411599498039</td><td>-3.0</td></tr><tr><td>5.976338010339347</td><td>2.0</td></tr><tr><td>6.113238316435968</td><td>0.0</td></tr><tr><td>5.607831832768326</td><td>-9.0</td></tr><tr><td>5.989824353386524</td><td>0.0</td></tr><tr><td>6.67795687631825</td><td>18.0</td></tr><tr><td>6.285411599498039</td><td>13.0</td></tr><tr><td>6.883618548507544</td><td>11.0</td></tr><tr><td>6.5381148413318595</td><td>0.0</td></tr><tr><td>6.285411599498039</td><td>-7.0</td></tr><tr><td>5.607831832768326</td><td>0.0</td></tr><tr><td>7.142775676602069</td><td>13.0</td></tr><tr><td>7.788024195256099</td><td>0.0</td></tr><tr><td>5.853502617815675</td><td>0.0</td></tr><tr><td>6.285411599498039</td><td>5.0</td></tr><tr><td>7.48598306288388</td><td>-4.0</td></tr><tr><td>5.607831832768326</td><td>3.0</td></tr><tr><td>5.989824353386524</td><td>0.0</td></tr><tr><td>6.285411599498039</td><td>0.0</td></tr><tr><td>6.285411599498039</td><td>15.0</td></tr><tr><td>6.162576206974366</td><td>13.0</td></tr><tr><td>6.667982690642006</td><td>4.0</td></tr><tr><td>6.285411599498039</td><td>0.0</td></tr><tr><td>5.853502617815675</td><td>0.0</td></tr><tr><td>7.788024195256099</td><td>0.0</td></tr><tr><td>6.415279448808187</td><td>0.0</td></tr><tr><td>6.285411599498039</td><td>4.0</td></tr><tr><td>6.415279448808187</td><td>7.0</td></tr><tr><td>8.04072743708992</td><td>5.0</td></tr><tr><td>6.5381148413318595</td><td>0.0</td></tr><tr><td>6.285411599498039</td><td>0.0</td></tr><tr><td>6.162576206974366</td><td>20.0</td></tr><tr><td>6.285411599498039</td><td>0.0</td></tr><tr><td>6.335182215501531</td><td>20.0</td></tr><tr><td>7.142775676602069</td><td>21.0</td></tr><tr><td>6.79081808316568</td><td>11.0</td></tr><tr><td>6.890072434768248</td><td>5.0</td></tr><tr><td>6.5381148413318595</td><td>3.0</td></tr><tr><td>6.162576206974366</td><td>20.0</td></tr><tr><td>7.436066601819711</td><td>0.0</td></tr><tr><td>6.285411599498039</td><td>20.0</td></tr><tr><td>6.285411599498039</td><td>0.0</td></tr><tr><td>7.185659680879764</td><td>4.0</td></tr><tr><td>6.162576206974366</td><td>7.0</td></tr><tr><td>6.743898414587463</td><td>0.0</td></tr><tr><td>6.285411599498039</td><td>6.0</td></tr><tr><td>7.436066601819711</td><td>11.0</td></tr><tr><td>6.285411599498039</td><td>0.0</td></tr><tr><td>6.285411599498039</td><td>0.0</td></tr><tr><td>6.285411599498039</td><td>14.0</td></tr><tr><td>7.339108571111016</td><td>23.0</td></tr><tr><td>6.285411599498039</td><td>0.0</td></tr><tr><td>6.285411599498039</td><td>11.0</td></tr><tr><td>7.043521324999501</td><td>15.0</td></tr><tr><td>6.79081808316568</td><td>13.0</td></tr><tr><td>6.973544122429766</td><td>17.0</td></tr><tr><td>8.04072743708992</td><td>24.0</td></tr><tr><td>7.12928933355489</td><td>0.0</td></tr><tr><td>6.79081808316568</td><td>12.0</td></tr><tr><td>5.853502617815675</td><td>12.0</td></tr><tr><td>6.833702087443376</td><td>14.0</td></tr><tr><td>7.478950606097406</td><td>17.0</td></tr><tr><td>6.973544122429766</td><td>0.0</td></tr><tr><td>6.285411599498039</td><td>0.0</td></tr><tr><td>6.162576206974366</td><td>0.0</td></tr><tr><td>6.285411599498039</td><td>0.0</td></tr><tr><td>6.162576206974366</td><td>0.0</td></tr><tr><td>6.162576206974366</td><td>0.0</td></tr><tr><td>6.162576206974366</td><td>11.0</td></tr><tr><td>7.142775676602069</td><td>6.0</td></tr><tr><td>6.285411599498039</td><td>11.0</td></tr><tr><td>6.667982690642006</td><td>0.0</td></tr><tr><td>6.285411599498039</td><td>6.0</td></tr><tr><td>6.833702087443376</td><td>9.0</td></tr><tr><td>6.162576206974366</td><td>0.0</td></tr><tr><td>6.79081808316568</td><td>6.0</td></tr><tr><td>6.580998845609555</td><td>-8.0</td></tr><tr><td>6.79081808316568</td><td>3.0</td></tr><tr><td>6.285411599498039</td><td>61.0</td></tr><tr><td>6.162576206974366</td><td>-6.0</td></tr><tr><td>6.285411599498039</td><td>29.0</td></tr><tr><td>7.4383629227135835</td><td>22.0</td></tr><tr><td>6.285411599498039</td><td>0.0</td></tr><tr><td>8.606024567497972</td><td>64.0</td></tr><tr><td>7.142775676602069</td><td>6.0</td></tr><tr><td>6.285411599498039</td><td>8.0</td></tr><tr><td>7.019940284078395</td><td>3.0</td></tr><tr><td>6.285411599498039</td><td>0.0</td></tr><tr><td>6.605037944858745</td><td>0.0</td></tr><tr><td>7.648182160269709</td><td>2.0</td></tr><tr><td>6.285411599498039</td><td>5.0</td></tr><tr><td>8.336314683201437</td><td>-11.0</td></tr><tr><td>6.861261486108109</td><td>0.0</td></tr><tr><td>6.285411599498039</td><td>-9.0</td></tr><tr><td>6.79081808316568</td><td>5.0</td></tr><tr><td>6.285411599498039</td><td>0.0</td></tr><tr><td>5.916905421927019</td><td>5.0</td></tr><tr><td>5.976338010339347</td><td>-10.0</td></tr><tr><td>5.916905421927019</td><td>10.0</td></tr><tr><td>6.285411599498039</td><td>0.0</td></tr><tr><td>6.285411599498039</td><td>11.0</td></tr><tr><td>6.285411599498039</td><td>0.0</td></tr><tr><td>6.285411599498039</td><td>7.0</td></tr><tr><td>6.79081808316568</td><td>18.0</td></tr><tr><td>6.415279448808187</td><td>0.0</td></tr><tr><td>8.04072743708992</td><td>6.0</td></tr><tr><td>6.162576206974366</td><td>0.0</td></tr><tr><td>6.162576206974366</td><td>8.0</td></tr><tr><td>6.481744494006989</td><td>0.0</td></tr><tr><td>6.415279448808187</td><td>0.0</td></tr><tr><td>6.149089863927189</td><td>5.0</td></tr><tr><td>6.594485188656732</td><td>6.0</td></tr><tr><td>6.285411599498039</td><td>-6.0</td></tr><tr><td>6.2360737089596405</td><td>8.0</td></tr><tr><td>6.2360737089596405</td><td>0.0</td></tr><tr><td>6.890072434768248</td><td>14.0</td></tr><tr><td>6.162576206974366</td><td>0.0</td></tr><tr><td>6.890072434768248</td><td>6.0</td></tr><tr><td>5.853502617815675</td><td>10.0</td></tr><tr><td>7.265611069125741</td><td>0.0</td></tr><tr><td>6.285411599498039</td><td>-1.0</td></tr><tr><td>6.594485188656732</td><td>10.0</td></tr><tr><td>6.285411599498039</td><td>5.0</td></tr><tr><td>6.162576206974366</td><td>8.0</td></tr><tr><td>6.162576206974366</td><td>34.0</td></tr><tr><td>6.162576206974366</td><td>6.0</td></tr><tr><td>5.730667225292001</td><td>8.0</td></tr><tr><td>5.853502617815675</td><td>0.0</td></tr><tr><td>7.648182160269709</td><td>0.0</td></tr><tr><td>5.744153568339177</td><td>-6.0</td></tr><tr><td>7.4383629227135835</td><td>0.0</td></tr><tr><td>6.162576206974366</td><td>0.0</td></tr><tr><td>6.039740814450694</td><td>17.0</td></tr><tr><td>7.943769406381225</td><td>7.0</td></tr><tr><td>5.744153568339177</td><td>10.0</td></tr><tr><td>6.162576206974366</td><td>19.0</td></tr><tr><td>6.039740814450694</td><td>5.0</td></tr><tr><td>7.142775676602069</td><td>14.0</td></tr><tr><td>6.285411599498039</td><td>0.0</td></tr><tr><td>6.162576206974366</td><td>0.0</td></tr><tr><td>5.86698896086285</td><td>14.0</td></tr><tr><td>6.162576206974366</td><td>4.0</td></tr><tr><td>6.415279448808187</td><td>0.0</td></tr><tr><td>5.853502617815675</td><td>10.0</td></tr><tr><td>5.86698896086285</td><td>5.0</td></tr><tr><td>5.86698896086285</td><td>0.0</td></tr><tr><td>5.86698896086285</td><td>0.0</td></tr><tr><td>5.86698896086285</td><td>25.0</td></tr><tr><td>6.4581634530858825</td><td>11.0</td></tr><tr><td>6.102685560233953</td><td>5.0</td></tr><tr><td>6.5381148413318595</td><td>18.0</td></tr><tr><td>6.963569936753522</td><td>-8.0</td></tr><tr><td>7.788024195256099</td><td>0.0</td></tr><tr><td>5.421593636133309</td><td>10.0</td></tr><tr><td>8.04072743708992</td><td>17.0</td></tr><tr><td>6.285411599498039</td><td>0.0</td></tr><tr><td>6.963569936753522</td><td>27.0</td></tr><tr><td>6.667982690642006</td><td>9.0</td></tr><tr><td>6.285411599498039</td><td>75.0</td></tr><tr><td>5.853502617815675</td><td>0.0</td></tr><tr><td>6.285411599498039</td><td>0.0</td></tr><tr><td>5.853502617815675</td><td>19.0</td></tr><tr><td>6.5381148413318595</td><td>11.0</td></tr><tr><td>6.850708729906092</td><td>3.0</td></tr><tr><td>6.833702087443376</td><td>13.0</td></tr><tr><td>7.4383629227135835</td><td>11.0</td></tr><tr><td>6.833702087443376</td><td>18.0</td></tr><tr><td>8.04072743708992</td><td>7.0</td></tr><tr><td>6.285411599498039</td><td>5.0</td></tr><tr><td>6.285411599498039</td><td>-6.0</td></tr><tr><td>6.162576206974366</td><td>14.0</td></tr><tr><td>6.963569936753522</td><td>9.0</td></tr><tr><td>6.415279448808187</td><td>15.0</td></tr><tr><td>6.285411599498039</td><td>0.0</td></tr><tr><td>6.162576206974366</td><td>9.0</td></tr><tr><td>6.415279448808187</td><td>9.0</td></tr><tr><td>6.162576206974366</td><td>0.0</td></tr><tr><td>6.667982690642006</td><td>6.0</td></tr><tr><td>6.850708729906092</td><td>2.0</td></tr><tr><td>7.648182160269709</td><td>-6.0</td></tr><tr><td>5.5579153717041585</td><td>15.0</td></tr><tr><td>5.853502617815675</td><td>2.0</td></tr><tr><td>6.162576206974366</td><td>1.0</td></tr><tr><td>5.730667225292001</td><td>19.0</td></tr><tr><td>6.162576206974366</td><td>8.0</td></tr><tr><td>8.459150075725109</td><td>3.0</td></tr><tr><td>4.683021145207821</td><td>0.0</td></tr><tr><td>5.607831832768326</td><td>5.0</td></tr><tr><td>6.292444056284513</td><td>-27.0</td></tr><tr><td>5.730667225292001</td><td>0.0</td></tr><tr><td>5.730667225292001</td><td>-6.0</td></tr><tr><td>5.1759228510859625</td><td>0.0</td></tr><tr><td>5.435079979180486</td><td>9.0</td></tr><tr><td>5.730667225292001</td><td>29.0</td></tr><tr><td>6.039740814450694</td><td>5.0</td></tr><tr><td>6.039740814450694</td><td>4.0</td></tr><tr><td>6.039740814450694</td><td>0.0</td></tr><tr><td>5.5579153717041585</td><td>0.0</td></tr><tr><td>5.607831832768326</td><td>21.0</td></tr><tr><td>7.395478918435888</td><td>-3.0</td></tr><tr><td>5.730667225292001</td><td>0.0</td></tr><tr><td>5.607831832768326</td><td>5.0</td></tr><tr><td>6.285411599498039</td><td>23.0</td></tr><tr><td>7.4383629227135835</td><td>6.0</td></tr><tr><td>6.580998845609555</td><td>11.0</td></tr><tr><td>7.142775676602069</td><td>0.0</td></tr><tr><td>6.285411599498039</td><td>0.0</td></tr><tr><td>6.285411599498039</td><td>3.0</td></tr><tr><td>6.5381148413318595</td><td>0.0</td></tr><tr><td>6.285411599498039</td><td>0.0</td></tr><tr><td>6.285411599498039</td><td>11.0</td></tr><tr><td>6.285411599498039</td><td>0.0</td></tr><tr><td>7.29622456683332</td><td>-12.0</td></tr><tr><td>5.597279076566313</td><td>0.0</td></tr><tr><td>6.890072434768248</td><td>27.0</td></tr><tr><td>6.79081808316568</td><td>3.0</td></tr><tr><td>8.04072743708992</td><td>-3.0</td></tr><tr><td>7.142775676602069</td><td>16.0</td></tr><tr><td>6.890072434768248</td><td>49.0</td></tr><tr><td>6.79081808316568</td><td>0.0</td></tr><tr><td>6.285411599498039</td><td>0.0</td></tr><tr><td>6.285411599498039</td><td>11.0</td></tr><tr><td>6.285411599498039</td><td>4.0</td></tr><tr><td>6.285411599498039</td><td>8.0</td></tr><tr><td>6.79081808316568</td><td>0.0</td></tr><tr><td>6.833702087443376</td><td>18.0</td></tr><tr><td>6.039740814450694</td><td>0.0</td></tr><tr><td>6.963569936753522</td><td>6.0</td></tr><tr><td>7.142775676602069</td><td>19.0</td></tr><tr><td>6.79081808316568</td><td>17.0</td></tr><tr><td>6.79081808316568</td><td>16.0</td></tr><tr><td>6.039740814450694</td><td>11.0</td></tr><tr><td>6.039740814450694</td><td>0.0</td></tr><tr><td>6.335328060562208</td><td>0.0</td></tr><tr><td>6.335328060562208</td><td>8.0</td></tr><tr><td>6.963569936753522</td><td>15.0</td></tr><tr><td>6.039740814450694</td><td>37.0</td></tr><tr><td>6.039740814450694</td><td>0.0</td></tr><tr><td>6.039740814450694</td><td>-10.0</td></tr><tr><td>6.039740814450694</td><td>12.0</td></tr><tr><td>6.039740814450694</td><td>16.0</td></tr><tr><td>6.039740814450694</td><td>18.0</td></tr><tr><td>6.039740814450694</td><td>4.0</td></tr><tr><td>6.285411599498039</td><td>8.0</td></tr><tr><td>6.79081808316568</td><td>-9.0</td></tr><tr><td>6.285411599498039</td><td>0.0</td></tr><tr><td>6.039740814450694</td><td>7.0</td></tr><tr><td>6.039740814450694</td><td>4.0</td></tr><tr><td>6.285411599498039</td><td>0.0</td></tr><tr><td>6.5381148413318595</td><td>0.0</td></tr><tr><td>6.039740814450694</td><td>0.0</td></tr><tr><td>6.039740814450694</td><td>7.0</td></tr><tr><td>7.917892044566248</td><td>5.0</td></tr><tr><td>7.019940284078395</td><td>-2.0</td></tr><tr><td>6.039740814450694</td><td>7.0</td></tr><tr><td>5.916905421927019</td><td>8.0</td></tr><tr><td>6.285411599498039</td><td>12.0</td></tr><tr><td>6.833702087443376</td><td>0.0</td></tr><tr><td>5.298758243609635</td><td>-3.0</td></tr><tr><td>7.53532095342228</td><td>0.0</td></tr><tr><td>6.890072434768248</td><td>0.0</td></tr><tr><td>7.788024195256099</td><td>13.0</td></tr><tr><td>6.847188430490553</td><td>0.0</td></tr><tr><td>6.285411599498039</td><td>0.0</td></tr><tr><td>6.285411599498039</td><td>17.0</td></tr><tr><td>6.285411599498039</td><td>-6.0</td></tr><tr><td>6.162576206974366</td><td>7.0</td></tr><tr><td>6.890072434768248</td><td>25.0</td></tr><tr><td>8.04072743708992</td><td>0.0</td></tr><tr><td>6.285411599498039</td><td>0.0</td></tr><tr><td>6.4581634530858825</td><td>21.0</td></tr><tr><td>5.853502617815675</td><td>0.0</td></tr><tr><td>6.162576206974366</td><td>0.0</td></tr><tr><td>6.162576206974366</td><td>14.0</td></tr><tr><td>6.162576206974366</td><td>7.0</td></tr><tr><td>6.4581634530858825</td><td>13.0</td></tr><tr><td>8.04072743708992</td><td>11.0</td></tr><tr><td>6.162576206974366</td><td>13.0</td></tr><tr><td>6.580998845609555</td><td>15.0</td></tr><tr><td>6.79081808316568</td><td>8.0</td></tr><tr><td>7.608818455407555</td><td>8.0</td></tr><tr><td>6.285411599498039</td><td>-8.0</td></tr><tr><td>6.285411599498039</td><td>8.0</td></tr><tr><td>6.594485188656732</td><td>14.0</td></tr><tr><td>6.285411599498039</td><td>1.0</td></tr><tr><td>6.285411599498039</td><td>-7.0</td></tr><tr><td>6.285411599498039</td><td>34.0</td></tr><tr><td>6.594485188656732</td><td>0.0</td></tr><tr><td>6.285411599498039</td><td>7.0</td></tr><tr><td>6.285411599498039</td><td>16.0</td></tr><tr><td>6.833702087443376</td><td>21.0</td></tr><tr><td>7.4383629227135835</td><td>0.0</td></tr><tr><td>6.667982690642006</td><td>-9.0</td></tr><tr><td>7.142775676602069</td><td>8.0</td></tr><tr><td>6.285411599498039</td><td>12.0</td></tr><tr><td>6.594485188656732</td><td>3.0</td></tr><tr><td>6.5381148413318595</td><td>15.0</td></tr><tr><td>6.162576206974366</td><td>36.0</td></tr><tr><td>6.285411599498039</td><td>0.0</td></tr><tr><td>5.853502617815675</td><td>0.0</td></tr><tr><td>6.920685932475827</td><td>52.0</td></tr><tr><td>6.79081808316568</td><td>14.0</td></tr><tr><td>6.594485188656732</td><td>0.0</td></tr><tr><td>6.285411599498039</td><td>3.0</td></tr><tr><td>6.5381148413318595</td><td>16.0</td></tr><tr><td>6.580998845609555</td><td>3.0</td></tr><tr><td>6.162576206974366</td><td>-2.0</td></tr><tr><td>6.580998845609555</td><td>3.0</td></tr><tr><td>7.043521324999501</td><td>55.0</td></tr><tr><td>6.5381148413318595</td><td>3.0</td></tr><tr><td>7.142775676602069</td><td>22.0</td></tr><tr><td>6.162576206974366</td><td>8.0</td></tr><tr><td>6.79081808316568</td><td>0.0</td></tr><tr><td>6.162576206974366</td><td>-8.0</td></tr><tr><td>6.285411599498039</td><td>14.0</td></tr><tr><td>6.285411599498039</td><td>7.0</td></tr><tr><td>6.162576206974366</td><td>11.0</td></tr><tr><td>6.162576206974366</td><td>0.0</td></tr><tr><td>6.162576206974366</td><td>7.0</td></tr><tr><td>6.285411599498039</td><td>6.0</td></tr><tr><td>6.162576206974366</td><td>4.0</td></tr><tr><td>6.162576206974366</td><td>8.0</td></tr><tr><td>6.162576206974366</td><td>6.0</td></tr><tr><td>6.162576206974366</td><td>14.0</td></tr><tr><td>7.863672173074569</td><td>10.0</td></tr><tr><td>7.185659680879764</td><td>8.0</td></tr><tr><td>6.79081808316568</td><td>1.0</td></tr><tr><td>7.691066164547404</td><td>13.0</td></tr><tr><td>5.976338010339347</td><td>0.0</td></tr><tr><td>5.976338010339347</td><td>2.0</td></tr><tr><td>6.580998845609555</td><td>0.0</td></tr><tr><td>6.580998845609555</td><td>0.0</td></tr><tr><td>5.976338010339347</td><td>0.0</td></tr><tr><td>5.976338010339347</td><td>0.0</td></tr><tr><td>6.285411599498039</td><td>5.0</td></tr><tr><td>5.976338010339347</td><td>-3.0</td></tr><tr><td>5.976338010339347</td><td>6.0</td></tr><tr><td>6.285411599498039</td><td>0.0</td></tr><tr><td>5.550359407988094</td><td>29.0</td></tr><tr><td>5.976338010339347</td><td>6.0</td></tr><tr><td>6.285411599498039</td><td>1.0</td></tr><tr><td>6.580998845609555</td><td>0.0</td></tr><tr><td>7.381992575388711</td><td>0.0</td></tr><tr><td>6.580998845609555</td><td>3.0</td></tr><tr><td>6.777331740118504</td><td>6.0</td></tr><tr><td>6.833702087443376</td><td>-9.0</td></tr><tr><td>6.285411599498039</td><td>10.0</td></tr><tr><td>6.285411599498039</td><td>12.0</td></tr><tr><td>6.285411599498039</td><td>0.0</td></tr><tr><td>7.943769406381225</td><td>-16.0</td></tr><tr><td>5.84594665409961</td><td>8.0</td></tr><tr><td>6.285411599498039</td><td>10.0</td></tr><tr><td>6.285411599498039</td><td>8.0</td></tr><tr><td>7.7780500095798555</td><td>-7.0</td></tr><tr><td>7.7780500095798555</td><td>11.0</td></tr><tr><td>6.039740814450694</td><td>0.0</td></tr><tr><td>7.019940284078395</td><td>0.0</td></tr><tr><td>6.584511002980488</td><td>64.0</td></tr><tr><td>6.039740814450694</td><td>7.0</td></tr><tr><td>6.113238316435968</td><td>14.0</td></tr><tr><td>1.2244430593828146</td><td>0.0</td></tr><tr><td>6.545147298118334</td><td>9.0</td></tr><tr><td>6.039740814450694</td><td>5.0</td></tr><tr><td>6.039740814450694</td><td>16.0</td></tr><tr><td>6.039740814450694</td><td>2.0</td></tr><tr><td>6.039740814450694</td><td>4.0</td></tr><tr><td>6.039740814450694</td><td>2.0</td></tr><tr><td>5.857014775186606</td><td>0.0</td></tr><tr><td>5.730667225292001</td><td>0.0</td></tr><tr><td>7.050553781785974</td><td>4.0</td></tr><tr><td>6.039740814450694</td><td>4.0</td></tr><tr><td>6.039740814450694</td><td>0.0</td></tr><tr><td>6.2360737089596405</td><td>6.0</td></tr><tr><td>5.730667225292001</td><td>0.0</td></tr><tr><td>5.730667225292001</td><td>0.0</td></tr><tr><td>6.039740814450694</td><td>0.0</td></tr><tr><td>6.5381148413318595</td><td>0.0</td></tr><tr><td>6.5381148413318595</td><td>10.0</td></tr><tr><td>6.5381148413318595</td><td>16.0</td></tr><tr><td>6.5381148413318595</td><td>15.0</td></tr><tr><td>6.5381148413318595</td><td>-1.0</td></tr><tr><td>5.853502617815675</td><td>11.0</td></tr><tr><td>7.525346767746036</td><td>1.0</td></tr><tr><td>5.853502617815675</td><td>0.0</td></tr><tr><td>6.5381148413318595</td><td>0.0</td></tr><tr><td>6.415279448808187</td><td>20.0</td></tr><tr><td>8.213479290677762</td><td>3.0</td></tr><tr><td>7.2726435259122155</td><td>0.0</td></tr><tr><td>5.853502617815675</td><td>11.0</td></tr><tr><td>6.79081808316568</td><td>6.0</td></tr><tr><td>7.2726435259122155</td><td>0.0</td></tr><tr><td>5.976338010339347</td><td>-4.0</td></tr><tr><td>5.976338010339347</td><td>12.0</td></tr><tr><td>6.973544122429766</td><td>0.0</td></tr><tr><td>6.162576206974366</td><td>6.0</td></tr><tr><td>6.285411599498039</td><td>-1.0</td></tr><tr><td>6.79081808316568</td><td>5.0</td></tr><tr><td>6.285411599498039</td><td>0.0</td></tr><tr><td>6.271925256450864</td><td>7.0</td></tr><tr><td>6.580998845609555</td><td>0.0</td></tr><tr><td>8.04072743708992</td><td>12.0</td></tr><tr><td>6.667982690642006</td><td>-1.0</td></tr><tr><td>6.285411599498039</td><td>39.0</td></tr><tr><td>6.973544122429766</td><td>1.0</td></tr><tr><td>6.285411599498039</td><td>0.0</td></tr><tr><td>6.285411599498039</td><td>32.0</td></tr><tr><td>6.973544122429766</td><td>5.0</td></tr><tr><td>6.285411599498039</td><td>15.0</td></tr><tr><td>6.285411599498039</td><td>2.0</td></tr><tr><td>6.358909101483315</td><td>6.0</td></tr><tr><td>6.285411599498039</td><td>10.0</td></tr><tr><td>5.730667225292001</td><td>9.0</td></tr><tr><td>7.282617711588459</td><td>0.0</td></tr><tr><td>6.162576206974366</td><td>8.0</td></tr><tr><td>6.36888328715956</td><td>0.0</td></tr><tr><td>6.285411599498039</td><td>4.0</td></tr><tr><td>6.162576206974366</td><td>0.0</td></tr><tr><td>6.667982690642006</td><td>6.0</td></tr><tr><td>6.285411599498039</td><td>12.0</td></tr><tr><td>6.890072434768248</td><td>0.0</td></tr><tr><td>6.285411599498039</td><td>19.0</td></tr><tr><td>6.5381148413318595</td><td>16.0</td></tr><tr><td>6.285411599498039</td><td>52.0</td></tr><tr><td>5.976338010339347</td><td>0.0</td></tr><tr><td>6.285411599498039</td><td>4.0</td></tr><tr><td>6.285411599498039</td><td>3.0</td></tr><tr><td>6.285411599498039</td><td>-2.0</td></tr><tr><td>6.285411599498039</td><td>12.0</td></tr><tr><td>8.37919868747913</td><td>0.0</td></tr><tr><td>6.285411599498039</td><td>27.0</td></tr><tr><td>6.5381148413318595</td><td>8.0</td></tr><tr><td>6.285411599498039</td><td>0.0</td></tr><tr><td>6.285411599498039</td><td>3.0</td></tr><tr><td>7.29622456683332</td><td>0.0</td></tr><tr><td>7.282617711588459</td><td>3.0</td></tr><tr><td>6.162576206974366</td><td>31.0</td></tr><tr><td>5.853502617815675</td><td>0.0</td></tr><tr><td>5.853502617815675</td><td>0.0</td></tr><tr><td>5.976338010339347</td><td>-12.0</td></tr><tr><td>6.664470533271077</td><td>20.0</td></tr><tr><td>6.162576206974366</td><td>8.0</td></tr><tr><td>6.162576206974366</td><td>18.0</td></tr><tr><td>6.7278733373824195</td><td>-1.0</td></tr><tr><td>6.588031302396029</td><td>0.0</td></tr><tr><td>5.681329334753604</td><td>0.0</td></tr><tr><td>6.162576206974366</td><td>5.0</td></tr><tr><td>6.162576206974366</td><td>15.0</td></tr><tr><td>6.162576206974366</td><td>5.0</td></tr><tr><td>6.162576206974366</td><td>0.0</td></tr><tr><td>6.039740814450694</td><td>0.0</td></tr><tr><td>5.86698896086285</td><td>11.0</td></tr><tr><td>6.372395444530492</td><td>0.0</td></tr><tr><td>5.853502617815675</td><td>0.0</td></tr><tr><td>6.588031302396029</td><td>19.0</td></tr><tr><td>7.2332798210500595</td><td>0.0</td></tr><tr><td>6.415279448808187</td><td>-7.0</td></tr><tr><td>6.162576206974366</td><td>8.0</td></tr><tr><td>6.555121483794576</td><td>16.0</td></tr></tbody></table>Showing the first 1000 rows.</div>"
      ]
     },
     "metadata": {
      "application/vnd.databricks.v1+output": {
       "addedWidgets": {},
       "aggData": [],
       "aggError": "",
       "aggOverflow": false,
       "aggSchema": [],
       "aggSeriesLimitReached": false,
       "aggType": "",
       "arguments": {},
       "columnCustomDisplayInfos": {},
       "data": [
        [
         7.731653847931227,
         10
        ],
        [
         5.976338010339347,
         33
        ],
        [
         8.737610167176223,
         0
        ],
        [
         6.162576206974366,
         4
        ],
        [
         6.5381148413318595,
         0
        ],
        [
         8.04072743708992,
         0
        ],
        [
         6.162576206974366,
         10
        ],
        [
         6.5381148413318595,
         23
        ],
        [
         6.285411599498039,
         7
        ],
        [
         6.285411599498039,
         0
        ],
        [
         6.285411599498039,
         0
        ],
        [
         6.285411599498039,
         0
        ],
        [
         5.976338010339347,
         7
        ],
        [
         5.976338010339347,
         0
        ],
        [
         6.285411599498039,
         0
        ],
        [
         6.162576206974366,
         4
        ],
        [
         7.4383629227135835,
         4
        ],
        [
         5.976338010339347,
         0
        ],
        [
         6.285411599498039,
         0
        ],
        [
         6.594485188656732,
         0
        ],
        [
         6.285411599498039,
         5
        ],
        [
         7.339108571111016,
         18
        ],
        [
         6.285411599498039,
         -5
        ],
        [
         5.976338010339347,
         -7
        ],
        [
         5.976338010339347,
         10
        ],
        [
         6.987150977674629,
         0
        ],
        [
         6.481744494006989,
         0
        ],
        [
         6.481744494006989,
         0
        ],
        [
         6.481744494006989,
         0
        ],
        [
         6.039740814450694,
         0
        ],
        [
         6.039740814450694,
         0
        ],
        [
         6.285411599498039,
         4
        ],
        [
         7.142775676602069,
         0
        ],
        [
         6.545147298118334,
         -5
        ],
        [
         6.84073454422985,
         10
        ],
        [
         6.285411599498039,
         20
        ],
        [
         6.162576206974366,
         12
        ],
        [
         6.285411599498039,
         13
        ],
        [
         6.667982690642006,
         -1
        ],
        [
         6.162576206974366,
         -8
        ],
        [
         7.2726435259122155,
         0
        ],
        [
         6.471649796133059,
         0
        ],
        [
         6.285411599498039,
         0
        ],
        [
         6.039740814450694,
         0
        ],
        [
         6.039740814450694,
         0
        ],
        [
         5.607831832768326,
         24
        ],
        [
         6.039740814450694,
         10
        ],
        [
         6.039740814450694,
         0
        ],
        [
         6.039740814450694,
         0
        ],
        [
         6.285411599498039,
         5
        ],
        [
         6.471649796133059,
         0
        ],
        [
         7.159782319064787,
         0
        ],
        [
         5.730667225292001,
         0
        ],
        [
         6.594485188656732,
         37
        ],
        [
         8.336314683201437,
         0
        ],
        [
         6.162576206974366,
         11
        ],
        [
         6.162576206974366,
         8
        ],
        [
         6.285411599498039,
         22
        ],
        [
         7.019940284078395,
         8
        ],
        [
         7.019940284078395,
         0
        ],
        [
         5.730667225292001,
         -5
        ],
        [
         6.84073454422985,
         0
        ],
        [
         5.730667225292001,
         39
        ],
        [
         7.5559602654536135,
         0
        ],
        [
         6.039740814450694,
         0
        ],
        [
         6.162576206974366,
         6
        ],
        [
         5.4744436840426385,
         0
        ],
        [
         6.039740814450694,
         6
        ],
        [
         6.039740814450694,
         0
        ],
        [
         6.039740814450694,
         0
        ],
        [
         6.039740814450694,
         0
        ],
        [
         6.767237042244574,
         0
        ],
        [
         6.285411599498039,
         17
        ],
        [
         6.594485188656732,
         3
        ],
        [
         6.162576206974366,
         1
        ],
        [
         6.039740814450694,
         7
        ],
        [
         6.162576206974366,
         -10
        ],
        [
         6.667982690642006,
         10
        ],
        [
         6.667982690642006,
         12
        ],
        [
         5.4744436840426385,
         10
        ],
        [
         5.730667225292001,
         0
        ],
        [
         5.730667225292001,
         0
        ],
        [
         6.285411599498039,
         21
        ],
        [
         7.142775676602069,
         5
        ],
        [
         6.973544122429766,
         6
        ],
        [
         6.79081808316568,
         8
        ],
        [
         7.648182160269709,
         8
        ],
        [
         6.890072434768248,
         9
        ],
        [
         7.395478918435888,
         26
        ],
        [
         6.5381148413318595,
         11
        ],
        [
         5.550359407988094,
         0
        ],
        [
         7.185659680879764,
         13
        ],
        [
         6.285411599498039,
         1
        ],
        [
         6.285411599498039,
         -6
        ],
        [
         7.395478918435888,
         8
        ],
        [
         7.395478918435888,
         0
        ],
        [
         6.890072434768248,
         0
        ],
        [
         7.142775676602069,
         4
        ],
        [
         6.5381148413318595,
         0
        ],
        [
         6.833702087443376,
         38
        ],
        [
         6.580998845609555,
         0
        ],
        [
         6.285411599498039,
         8
        ],
        [
         6.79081808316568,
         0
        ],
        [
         6.285411599498039,
         5
        ],
        [
         6.285411599498039,
         4
        ],
        [
         6.79081808316568,
         8
        ],
        [
         6.285411599498039,
         8
        ],
        [
         6.285411599498039,
         -5
        ],
        [
         6.285411599498039,
         17
        ],
        [
         7.665188802732427,
         7
        ],
        [
         6.5381148413318595,
         0
        ],
        [
         6.285411599498039,
         0
        ],
        [
         6.039740814450694,
         7
        ],
        [
         6.285411599498039,
         13
        ],
        [
         5.916905421927019,
         0
        ],
        [
         6.285411599498039,
         0
        ],
        [
         6.292444056284513,
         0
        ],
        [
         7.648182160269709,
         0
        ],
        [
         6.285411599498039,
         6
        ],
        [
         6.292444056284513,
         0
        ],
        [
         7.019940284078395,
         75
        ],
        [
         6.292444056284513,
         0
        ],
        [
         5.916905421927019,
         0
        ],
        [
         6.285411599498039,
         0
        ],
        [
         6.285411599498039,
         0
        ],
        [
         6.162576206974366,
         0
        ],
        [
         8.04072743708992,
         5
        ],
        [
         6.4581634530858825,
         0
        ],
        [
         6.833702087443376,
         0
        ],
        [
         6.710866694919702,
         -4
        ],
        [
         5.976338010339347,
         0
        ],
        [
         7.103411971739913,
         5
        ],
        [
         6.850708729906092,
         0
        ],
        [
         6.149089863927189,
         0
        ],
        [
         5.976338010339347,
         12
        ],
        [
         5.853502617815675,
         14
        ],
        [
         6.162576206974366,
         12
        ],
        [
         6.415279448808187,
         13
        ],
        [
         7.282617711588459,
         0
        ],
        [
         7.086405329277195,
         13
        ],
        [
         7.086405329277195,
         14
        ],
        [
         7.578204957699974,
         9
        ],
        [
         6.890072434768248,
         8
        ],
        [
         8.04072743708992,
         10
        ],
        [
         6.580998845609555,
         0
        ],
        [
         6.285411599498039,
         0
        ],
        [
         5.5444290286569835,
         14
        ],
        [
         6.02610862634284,
         0
        ],
        [
         6.285411599498039,
         4
        ],
        [
         6.79081808316568,
         14
        ],
        [
         6.5381148413318595,
         58
        ],
        [
         7.395478918435888,
         11
        ],
        [
         7.395478918435888,
         11
        ],
        [
         8.04072743708992,
         0
        ],
        [
         6.285411599498039,
         0
        ],
        [
         7.282617711588459,
         0
        ],
        [
         6.285411599498039,
         19
        ],
        [
         6.285411599498039,
         9
        ],
        [
         6.79081808316568,
         6
        ],
        [
         6.285411599498039,
         0
        ],
        [
         6.79081808316568,
         23
        ],
        [
         6.285411599498039,
         6
        ],
        [
         7.648182160269709,
         0
        ],
        [
         6.285411599498039,
         11
        ],
        [
         6.285411599498039,
         7
        ],
        [
         6.79081808316568,
         0
        ],
        [
         6.162576206974366,
         50
        ],
        [
         6.285411599498039,
         0
        ],
        [
         6.285411599498039,
         35
        ],
        [
         6.285411599498039,
         13
        ],
        [
         6.79081808316568,
         21
        ],
        [
         6.79081808316568,
         9
        ],
        [
         6.039740814450694,
         31
        ],
        [
         6.039740814450694,
         0
        ],
        [
         7.4383629227135835,
         16
        ],
        [
         6.039740814450694,
         0
        ],
        [
         6.5381148413318595,
         13
        ],
        [
         6.285411599498039,
         7
        ],
        [
         6.162576206974366,
         0
        ],
        [
         6.162576206974366,
         13
        ],
        [
         6.79081808316568,
         0
        ],
        [
         6.162576206974366,
         5
        ],
        [
         6.162576206974366,
         0
        ],
        [
         6.162576206974366,
         0
        ],
        [
         6.920685932475827,
         18
        ],
        [
         6.833702087443376,
         0
        ],
        [
         6.162576206974366,
         14
        ],
        [
         5.484996440244654,
         0
        ],
        [
         5.916905421927019,
         4
        ],
        [
         6.162576206974366,
         21
        ],
        [
         7.173389174309648,
         19
        ],
        [
         6.580998845609555,
         31
        ],
        [
         7.019940284078395,
         0
        ],
        [
         6.545147298118334,
         4
        ],
        [
         6.285411599498039,
         0
        ],
        [
         6.039740814450694,
         3
        ],
        [
         6.285411599498039,
         11
        ],
        [
         6.285411599498039,
         10
        ],
        [
         6.79081808316568,
         23
        ],
        [
         6.5381148413318595,
         18
        ],
        [
         6.285411599498039,
         6
        ],
        [
         6.79081808316568,
         5
        ],
        [
         6.292444056284513,
         27
        ],
        [
         6.833702087443376,
         0
        ],
        [
         6.039740814450694,
         0
        ],
        [
         6.039740814450694,
         0
        ],
        [
         6.285411599498039,
         17
        ],
        [
         6.79081808316568,
         0
        ],
        [
         6.039740814450694,
         7
        ],
        [
         6.039740814450694,
         6
        ],
        [
         6.039740814450694,
         1
        ],
        [
         6.039740814450694,
         0
        ],
        [
         6.039740814450694,
         3
        ],
        [
         6.039740814450694,
         0
        ],
        [
         6.545147298118334,
         6
        ],
        [
         6.039740814450694,
         3
        ],
        [
         6.973544122429766,
         8
        ],
        [
         6.285411599498039,
         5
        ],
        [
         6.580998845609555,
         0
        ],
        [
         6.973544122429766,
         7
        ],
        [
         6.285411599498039,
         14
        ],
        [
         7.043521324999501,
         0
        ],
        [
         6.285411599498039,
         4
        ],
        [
         6.79081808316568,
         12
        ],
        [
         6.79081808316568,
         -7
        ],
        [
         6.285411599498039,
         -5
        ],
        [
         6.285411599498039,
         13
        ],
        [
         6.285411599498039,
         0
        ],
        [
         6.285411599498039,
         0
        ],
        [
         6.162576206974366,
         0
        ],
        [
         6.41879974822373,
         8
        ],
        [
         6.2360737089596405,
         0
        ],
        [
         6.92420623189137,
         20
        ],
        [
         5.298758243609635,
         -5
        ],
        [
         6.162576206974366,
         -9
        ],
        [
         5.804164727277277,
         -9
        ],
        [
         6.162576206974366,
         29
        ],
        [
         6.162576206974366,
         11
        ],
        [
         6.162576206974366,
         2
        ],
        [
         5.730667225292001,
         -2
        ],
        [
         6.285411599498039,
         0
        ],
        [
         6.162576206974366,
         3
        ],
        [
         5.298758243609635,
         9
        ],
        [
         5.298758243609635,
         0
        ],
        [
         6.4581634530858825,
         9
        ],
        [
         6.4581634530858825,
         2
        ],
        [
         6.162576206974366,
         15
        ],
        [
         6.162576206974366,
         10
        ],
        [
         7.173389174309648,
         6
        ],
        [
         6.026254471403517,
         7
        ],
        [
         5.853502617815675,
         75
        ],
        [
         5.607831832768326,
         6
        ],
        [
         5.298758243609635,
         0
        ],
        [
         6.162576206974366,
         15
        ],
        [
         7.691066164547404,
         3
        ],
        [
         7.395478918435888,
         0
        ],
        [
         5.853502617815675,
         0
        ],
        [
         5.86698896086285,
         0
        ],
        [
         5.730667225292001,
         11
        ],
        [
         6.162576206974366,
         10
        ],
        [
         6.162576206974366,
         0
        ],
        [
         7.665188802732427,
         24
        ],
        [
         6.162576206974366,
         0
        ],
        [
         6.162576206974366,
         0
        ],
        [
         7.006453941031218,
         0
        ],
        [
         6.039740814450694,
         2
        ],
        [
         6.162576206974366,
         5
        ],
        [
         6.162576206974366,
         8
        ],
        [
         5.86698896086285,
         2
        ],
        [
         5.86698896086285,
         6
        ],
        [
         5.86698896086285,
         0
        ],
        [
         5.86698896086285,
         4
        ],
        [
         6.162576206974366,
         0
        ],
        [
         6.162576206974366,
         0
        ],
        [
         6.162576206974366,
         0
        ],
        [
         6.847188430490553,
         17
        ],
        [
         6.5381148413318595,
         20
        ],
        [
         7.2726435259122155,
         12
        ],
        [
         5.853502617815675,
         6
        ],
        [
         6.5381148413318595,
         0
        ],
        [
         6.79081808316568,
         0
        ],
        [
         5.853502617815675,
         0
        ],
        [
         6.285411599498039,
         11
        ],
        [
         7.2726435259122155,
         0
        ],
        [
         5.853502617815675,
         0
        ],
        [
         6.5381148413318595,
         8
        ],
        [
         6.667982690642006,
         4
        ],
        [
         5.853502617815675,
         0
        ],
        [
         6.5381148413318595,
         3
        ],
        [
         6.415279448808187,
         9
        ],
        [
         5.853502617815675,
         0
        ],
        [
         5.853502617815675,
         32
        ],
        [
         5.853502617815675,
         0
        ],
        [
         6.335328060562208,
         8
        ],
        [
         6.335328060562208,
         0
        ],
        [
         7.29622456683332,
         5
        ],
        [
         6.890072434768248,
         0
        ],
        [
         5.607831832768326,
         0
        ],
        [
         5.607831832768326,
         0
        ],
        [
         5.607831832768326,
         0
        ],
        [
         6.285411599498039,
         0
        ],
        [
         6.285411599498039,
         11
        ],
        [
         7.691066164547404,
         0
        ],
        [
         6.79081808316568,
         1
        ],
        [
         6.335328060562208,
         16
        ],
        [
         5.607831832768326,
         0
        ],
        [
         7.142775676602069,
         25
        ],
        [
         6.79081808316568,
         1
        ],
        [
         6.767237042244574,
         0
        ],
        [
         4.988582576995581,
         0
        ],
        [
         6.285411599498039,
         17
        ],
        [
         6.285411599498039,
         10
        ],
        [
         6.580998845609555,
         16
        ],
        [
         6.285411599498039,
         21
        ],
        [
         5.607831832768326,
         8
        ],
        [
         6.285411599498039,
         0
        ],
        [
         6.285411599498039,
         5
        ],
        [
         6.285411599498039,
         4
        ],
        [
         6.285411599498039,
         11
        ],
        [
         6.285411599498039,
         9
        ],
        [
         6.162576206974366,
         -12
        ],
        [
         7.142775676602069,
         18
        ],
        [
         6.162576206974366,
         0
        ],
        [
         6.890072434768248,
         11
        ],
        [
         6.4581634530858825,
         -5
        ],
        [
         6.162576206974366,
         22
        ],
        [
         6.162576206974366,
         1
        ],
        [
         6.667982690642006,
         0
        ],
        [
         6.79081808316568,
         22
        ],
        [
         6.667982690642006,
         6
        ],
        [
         6.162576206974366,
         0
        ],
        [
         6.162576206974366,
         3
        ],
        [
         7.315527530189911,
         30
        ],
        [
         6.285411599498039,
         0
        ],
        [
         6.285411599498039,
         26
        ],
        [
         6.162576206974366,
         10
        ],
        [
         6.162576206974366,
         0
        ],
        [
         6.162576206974366,
         4
        ],
        [
         6.667982690642006,
         16
        ],
        [
         6.162576206974366,
         2
        ],
        [
         7.90088540210353,
         11
        ],
        [
         6.833702087443376,
         22
        ],
        [
         6.285411599498039,
         2
        ],
        [
         5.853502617815675,
         0
        ],
        [
         5.5444290286569835,
         0
        ],
        [
         5.84594665409961,
         0
        ],
        [
         6.162576206974366,
         9
        ],
        [
         6.285411599498039,
         0
        ],
        [
         5.976338010339347,
         0
        ],
        [
         5.853502617815675,
         30
        ],
        [
         6.79081808316568,
         2
        ],
        [
         6.285411599498039,
         -7
        ],
        [
         7.019940284078395,
         13
        ],
        [
         6.162576206974366,
         1
        ],
        [
         6.667982690642006,
         7
        ],
        [
         7.019940284078395,
         2
        ],
        [
         6.285411599498039,
         8
        ],
        [
         6.162576206974366,
         0
        ],
        [
         5.853502617815675,
         5
        ],
        [
         6.039740814450694,
         1
        ],
        [
         6.285411599498039,
         8
        ],
        [
         6.106205859649494,
         9
        ],
        [
         6.4581634530858825,
         5
        ],
        [
         7.591811812944837,
         4
        ],
        [
         6.285411599498039,
         7
        ],
        [
         6.285411599498039,
         0
        ],
        [
         6.149089863927189,
         4
        ],
        [
         7.29622456683332,
         22
        ],
        [
         6.79081808316568,
         0
        ],
        [
         6.285411599498039,
         0
        ],
        [
         5.607831832768326,
         12
        ],
        [
         6.79081808316568,
         0
        ],
        [
         6.285411599498039,
         27
        ],
        [
         5.853502617815675,
         3
        ],
        [
         5.298758243609635,
         0
        ],
        [
         6.285411599498039,
         6
        ],
        [
         6.398272806345469,
         -7
        ],
        [
         6.767237042244574,
         8
        ],
        [
         7.142775676602069,
         3
        ],
        [
         6.162576206974366,
         8
        ],
        [
         6.285411599498039,
         7
        ],
        [
         6.162576206974366,
         -1
        ],
        [
         6.724353037966878,
         2
        ],
        [
         6.039740814450694,
         -3
        ],
        [
         7.142775676602069,
         25
        ],
        [
         7.282617711588459,
         14
        ],
        [
         6.162576206974366,
         7
        ],
        [
         7.648182160269709,
         22
        ],
        [
         6.039740814450694,
         -2
        ],
        [
         6.162576206974366,
         18
        ],
        [
         6.285411599498039,
         4
        ],
        [
         6.5381148413318595,
         5
        ],
        [
         6.162576206974366,
         -10
        ],
        [
         6.285411599498039,
         0
        ],
        [
         6.285411599498039,
         0
        ],
        [
         6.285411599498039,
         0
        ],
        [
         7.4383629227135835,
         0
        ],
        [
         6.285411599498039,
         0
        ],
        [
         6.285411599498039,
         23
        ],
        [
         6.285411599498039,
         7
        ],
        [
         6.039740814450694,
         8
        ],
        [
         5.5444290286569835,
         16
        ],
        [
         6.285411599498039,
         0
        ],
        [
         6.162576206974366,
         -15
        ],
        [
         6.79081808316568,
         0
        ],
        [
         6.162576206974366,
         29
        ],
        [
         7.648182160269709,
         0
        ],
        [
         6.545147298118334,
         4
        ],
        [
         6.545147298118334,
         0
        ],
        [
         6.79081808316568,
         13
        ],
        [
         7.142775676602069,
         17
        ],
        [
         6.285411599498039,
         0
        ],
        [
         6.039740814450694,
         0
        ],
        [
         7.648182160269709,
         21
        ],
        [
         6.285411599498039,
         0
        ],
        [
         6.039740814450694,
         5
        ],
        [
         6.162576206974366,
         16
        ],
        [
         6.79081808316568,
         18
        ],
        [
         6.285411599498039,
         0
        ],
        [
         6.285411599498039,
         11
        ],
        [
         6.285411599498039,
         0
        ],
        [
         6.162576206974366,
         19
        ],
        [
         6.162576206974366,
         19
        ],
        [
         6.162576206974366,
         0
        ],
        [
         6.162576206974366,
         0
        ],
        [
         5.730667225292001,
         5
        ],
        [
         6.162576206974366,
         6
        ],
        [
         6.162576206974366,
         12
        ],
        [
         8.213479290677762,
         -4
        ],
        [
         5.361702989392894,
         4
        ],
        [
         5.361702989392894,
         20
        ],
        [
         6.039740814450694,
         0
        ],
        [
         6.667982690642006,
         32
        ],
        [
         6.162576206974366,
         10
        ],
        [
         6.667982690642006,
         0
        ],
        [
         5.547941186027915,
         13
        ],
        [
         6.2360737089596405,
         25
        ],
        [
         6.545147298118334,
         2
        ],
        [
         6.162576206974366,
         2
        ],
        [
         6.162576206974366,
         11
        ],
        [
         6.162576206974366,
         0
        ],
        [
         5.730667225292001,
         -5
        ],
        [
         5.730667225292001,
         18
        ],
        [
         5.730667225292001,
         2
        ],
        [
         7.648182160269709,
         75
        ],
        [
         6.285411599498039,
         3
        ],
        [
         6.285411599498039,
         9
        ],
        [
         7.142775676602069,
         0
        ],
        [
         6.285411599498039,
         -7
        ],
        [
         6.285411599498039,
         13
        ],
        [
         6.79081808316568,
         0
        ],
        [
         6.398272806345469,
         5
        ],
        [
         6.833702087443376,
         -4
        ],
        [
         6.890072434768248,
         16
        ],
        [
         6.580998845609555,
         6
        ],
        [
         6.285411599498039,
         3
        ],
        [
         6.285411599498039,
         17
        ],
        [
         5.976338010339347,
         9
        ],
        [
         5.976338010339347,
         9
        ],
        [
         5.976338010339347,
         8
        ],
        [
         6.580998845609555,
         8
        ],
        [
         6.580998845609555,
         12
        ],
        [
         6.285411599498039,
         0
        ],
        [
         5.976338010339347,
         7
        ],
        [
         6.285411599498039,
         50
        ],
        [
         6.890072434768248,
         2
        ],
        [
         6.847188430490553,
         8
        ],
        [
         6.833702087443376,
         8
        ],
        [
         6.285411599498039,
         4
        ],
        [
         5.976338010339347,
         3
        ],
        [
         6.580998845609555,
         4
        ],
        [
         6.580998845609555,
         8
        ],
        [
         7.086405329277195,
         0
        ],
        [
         6.6307694616130455,
         -5
        ],
        [
         6.039740814450694,
         9
        ],
        [
         5.916905421927019,
         -2
        ],
        [
         6.039740814450694,
         19
        ],
        [
         6.039740814450694,
         17
        ],
        [
         6.84073454422985,
         8
        ],
        [
         5.916905421927019,
         28
        ],
        [
         6.162576206974366,
         0
        ],
        [
         6.588031302396029,
         15
        ],
        [
         7.019940284078395,
         4
        ],
        [
         6.335328060562208,
         13
        ],
        [
         6.039740814450694,
         39
        ],
        [
         6.162576206974366,
         14
        ],
        [
         6.415279448808187,
         0
        ],
        [
         6.545147298118334,
         5
        ],
        [
         6.039740814450694,
         1
        ],
        [
         6.039740814450694,
         1
        ],
        [
         5.916905421927019,
         19
        ],
        [
         6.335328060562208,
         0
        ],
        [
         6.039740814450694,
         0
        ],
        [
         7.06282428835609,
         0
        ],
        [
         7.019940284078395,
         32
        ],
        [
         5.976338010339347,
         0
        ],
        [
         6.335328060562208,
         10
        ],
        [
         6.285411599498039,
         8
        ],
        [
         6.285411599498039,
         0
        ],
        [
         5.976338010339347,
         11
        ],
        [
         6.481744494006989,
         0
        ],
        [
         6.039740814450694,
         0
        ],
        [
         5.976338010339347,
         11
        ],
        [
         5.976338010339347,
         0
        ],
        [
         6.285411599498039,
         7
        ],
        [
         6.79081808316568,
         9
        ],
        [
         7.043521324999501,
         -10
        ],
        [
         5.976338010339347,
         7
        ],
        [
         5.976338010339347,
         0
        ],
        [
         5.976338010339347,
         7
        ],
        [
         6.481744494006989,
         12
        ],
        [
         6.285411599498039,
         7
        ],
        [
         7.019940284078395,
         8
        ],
        [
         5.853502617815675,
         0
        ],
        [
         6.285411599498039,
         13
        ],
        [
         6.5381148413318595,
         22
        ],
        [
         7.2726435259122155,
         0
        ],
        [
         5.853502617815675,
         11
        ],
        [
         5.976338010339347,
         4
        ],
        [
         5.976338010339347,
         0
        ],
        [
         6.654496347594831,
         4
        ],
        [
         5.853502617815675,
         0
        ],
        [
         6.5381148413318595,
         6
        ],
        [
         6.481744494006989,
         11
        ],
        [
         6.285411599498039,
         0
        ],
        [
         6.285411599498039,
         0
        ],
        [
         5.853502617815675,
         9
        ],
        [
         5.853502617815675,
         6
        ],
        [
         7.019940284078395,
         0
        ],
        [
         5.730667225292001,
         0
        ],
        [
         6.285411599498039,
         0
        ],
        [
         6.285411599498039,
         10
        ],
        [
         6.79081808316568,
         3
        ],
        [
         6.039740814450694,
         3
        ],
        [
         6.2360737089596405,
         7
        ],
        [
         6.285411599498039,
         4
        ],
        [
         6.5381148413318595,
         0
        ],
        [
         6.588031302396029,
         5
        ],
        [
         6.285411599498039,
         0
        ],
        [
         7.142775676602069,
         4
        ],
        [
         5.607831832768326,
         -10
        ],
        [
         6.285411599498039,
         9
        ],
        [
         6.285411599498039,
         -3
        ],
        [
         5.976338010339347,
         2
        ],
        [
         6.113238316435968,
         0
        ],
        [
         5.607831832768326,
         -9
        ],
        [
         5.989824353386524,
         0
        ],
        [
         6.67795687631825,
         18
        ],
        [
         6.285411599498039,
         13
        ],
        [
         6.883618548507544,
         11
        ],
        [
         6.5381148413318595,
         0
        ],
        [
         6.285411599498039,
         -7
        ],
        [
         5.607831832768326,
         0
        ],
        [
         7.142775676602069,
         13
        ],
        [
         7.788024195256099,
         0
        ],
        [
         5.853502617815675,
         0
        ],
        [
         6.285411599498039,
         5
        ],
        [
         7.48598306288388,
         -4
        ],
        [
         5.607831832768326,
         3
        ],
        [
         5.989824353386524,
         0
        ],
        [
         6.285411599498039,
         0
        ],
        [
         6.285411599498039,
         15
        ],
        [
         6.162576206974366,
         13
        ],
        [
         6.667982690642006,
         4
        ],
        [
         6.285411599498039,
         0
        ],
        [
         5.853502617815675,
         0
        ],
        [
         7.788024195256099,
         0
        ],
        [
         6.415279448808187,
         0
        ],
        [
         6.285411599498039,
         4
        ],
        [
         6.415279448808187,
         7
        ],
        [
         8.04072743708992,
         5
        ],
        [
         6.5381148413318595,
         0
        ],
        [
         6.285411599498039,
         0
        ],
        [
         6.162576206974366,
         20
        ],
        [
         6.285411599498039,
         0
        ],
        [
         6.335182215501531,
         20
        ],
        [
         7.142775676602069,
         21
        ],
        [
         6.79081808316568,
         11
        ],
        [
         6.890072434768248,
         5
        ],
        [
         6.5381148413318595,
         3
        ],
        [
         6.162576206974366,
         20
        ],
        [
         7.436066601819711,
         0
        ],
        [
         6.285411599498039,
         20
        ],
        [
         6.285411599498039,
         0
        ],
        [
         7.185659680879764,
         4
        ],
        [
         6.162576206974366,
         7
        ],
        [
         6.743898414587463,
         0
        ],
        [
         6.285411599498039,
         6
        ],
        [
         7.436066601819711,
         11
        ],
        [
         6.285411599498039,
         0
        ],
        [
         6.285411599498039,
         0
        ],
        [
         6.285411599498039,
         14
        ],
        [
         7.339108571111016,
         23
        ],
        [
         6.285411599498039,
         0
        ],
        [
         6.285411599498039,
         11
        ],
        [
         7.043521324999501,
         15
        ],
        [
         6.79081808316568,
         13
        ],
        [
         6.973544122429766,
         17
        ],
        [
         8.04072743708992,
         24
        ],
        [
         7.12928933355489,
         0
        ],
        [
         6.79081808316568,
         12
        ],
        [
         5.853502617815675,
         12
        ],
        [
         6.833702087443376,
         14
        ],
        [
         7.478950606097406,
         17
        ],
        [
         6.973544122429766,
         0
        ],
        [
         6.285411599498039,
         0
        ],
        [
         6.162576206974366,
         0
        ],
        [
         6.285411599498039,
         0
        ],
        [
         6.162576206974366,
         0
        ],
        [
         6.162576206974366,
         0
        ],
        [
         6.162576206974366,
         11
        ],
        [
         7.142775676602069,
         6
        ],
        [
         6.285411599498039,
         11
        ],
        [
         6.667982690642006,
         0
        ],
        [
         6.285411599498039,
         6
        ],
        [
         6.833702087443376,
         9
        ],
        [
         6.162576206974366,
         0
        ],
        [
         6.79081808316568,
         6
        ],
        [
         6.580998845609555,
         -8
        ],
        [
         6.79081808316568,
         3
        ],
        [
         6.285411599498039,
         61
        ],
        [
         6.162576206974366,
         -6
        ],
        [
         6.285411599498039,
         29
        ],
        [
         7.4383629227135835,
         22
        ],
        [
         6.285411599498039,
         0
        ],
        [
         8.606024567497972,
         64
        ],
        [
         7.142775676602069,
         6
        ],
        [
         6.285411599498039,
         8
        ],
        [
         7.019940284078395,
         3
        ],
        [
         6.285411599498039,
         0
        ],
        [
         6.605037944858745,
         0
        ],
        [
         7.648182160269709,
         2
        ],
        [
         6.285411599498039,
         5
        ],
        [
         8.336314683201437,
         -11
        ],
        [
         6.861261486108109,
         0
        ],
        [
         6.285411599498039,
         -9
        ],
        [
         6.79081808316568,
         5
        ],
        [
         6.285411599498039,
         0
        ],
        [
         5.916905421927019,
         5
        ],
        [
         5.976338010339347,
         -10
        ],
        [
         5.916905421927019,
         10
        ],
        [
         6.285411599498039,
         0
        ],
        [
         6.285411599498039,
         11
        ],
        [
         6.285411599498039,
         0
        ],
        [
         6.285411599498039,
         7
        ],
        [
         6.79081808316568,
         18
        ],
        [
         6.415279448808187,
         0
        ],
        [
         8.04072743708992,
         6
        ],
        [
         6.162576206974366,
         0
        ],
        [
         6.162576206974366,
         8
        ],
        [
         6.481744494006989,
         0
        ],
        [
         6.415279448808187,
         0
        ],
        [
         6.149089863927189,
         5
        ],
        [
         6.594485188656732,
         6
        ],
        [
         6.285411599498039,
         -6
        ],
        [
         6.2360737089596405,
         8
        ],
        [
         6.2360737089596405,
         0
        ],
        [
         6.890072434768248,
         14
        ],
        [
         6.162576206974366,
         0
        ],
        [
         6.890072434768248,
         6
        ],
        [
         5.853502617815675,
         10
        ],
        [
         7.265611069125741,
         0
        ],
        [
         6.285411599498039,
         -1
        ],
        [
         6.594485188656732,
         10
        ],
        [
         6.285411599498039,
         5
        ],
        [
         6.162576206974366,
         8
        ],
        [
         6.162576206974366,
         34
        ],
        [
         6.162576206974366,
         6
        ],
        [
         5.730667225292001,
         8
        ],
        [
         5.853502617815675,
         0
        ],
        [
         7.648182160269709,
         0
        ],
        [
         5.744153568339177,
         -6
        ],
        [
         7.4383629227135835,
         0
        ],
        [
         6.162576206974366,
         0
        ],
        [
         6.039740814450694,
         17
        ],
        [
         7.943769406381225,
         7
        ],
        [
         5.744153568339177,
         10
        ],
        [
         6.162576206974366,
         19
        ],
        [
         6.039740814450694,
         5
        ],
        [
         7.142775676602069,
         14
        ],
        [
         6.285411599498039,
         0
        ],
        [
         6.162576206974366,
         0
        ],
        [
         5.86698896086285,
         14
        ],
        [
         6.162576206974366,
         4
        ],
        [
         6.415279448808187,
         0
        ],
        [
         5.853502617815675,
         10
        ],
        [
         5.86698896086285,
         5
        ],
        [
         5.86698896086285,
         0
        ],
        [
         5.86698896086285,
         0
        ],
        [
         5.86698896086285,
         25
        ],
        [
         6.4581634530858825,
         11
        ],
        [
         6.102685560233953,
         5
        ],
        [
         6.5381148413318595,
         18
        ],
        [
         6.963569936753522,
         -8
        ],
        [
         7.788024195256099,
         0
        ],
        [
         5.421593636133309,
         10
        ],
        [
         8.04072743708992,
         17
        ],
        [
         6.285411599498039,
         0
        ],
        [
         6.963569936753522,
         27
        ],
        [
         6.667982690642006,
         9
        ],
        [
         6.285411599498039,
         75
        ],
        [
         5.853502617815675,
         0
        ],
        [
         6.285411599498039,
         0
        ],
        [
         5.853502617815675,
         19
        ],
        [
         6.5381148413318595,
         11
        ],
        [
         6.850708729906092,
         3
        ],
        [
         6.833702087443376,
         13
        ],
        [
         7.4383629227135835,
         11
        ],
        [
         6.833702087443376,
         18
        ],
        [
         8.04072743708992,
         7
        ],
        [
         6.285411599498039,
         5
        ],
        [
         6.285411599498039,
         -6
        ],
        [
         6.162576206974366,
         14
        ],
        [
         6.963569936753522,
         9
        ],
        [
         6.415279448808187,
         15
        ],
        [
         6.285411599498039,
         0
        ],
        [
         6.162576206974366,
         9
        ],
        [
         6.415279448808187,
         9
        ],
        [
         6.162576206974366,
         0
        ],
        [
         6.667982690642006,
         6
        ],
        [
         6.850708729906092,
         2
        ],
        [
         7.648182160269709,
         -6
        ],
        [
         5.5579153717041585,
         15
        ],
        [
         5.853502617815675,
         2
        ],
        [
         6.162576206974366,
         1
        ],
        [
         5.730667225292001,
         19
        ],
        [
         6.162576206974366,
         8
        ],
        [
         8.459150075725109,
         3
        ],
        [
         4.683021145207821,
         0
        ],
        [
         5.607831832768326,
         5
        ],
        [
         6.292444056284513,
         -27
        ],
        [
         5.730667225292001,
         0
        ],
        [
         5.730667225292001,
         -6
        ],
        [
         5.1759228510859625,
         0
        ],
        [
         5.435079979180486,
         9
        ],
        [
         5.730667225292001,
         29
        ],
        [
         6.039740814450694,
         5
        ],
        [
         6.039740814450694,
         4
        ],
        [
         6.039740814450694,
         0
        ],
        [
         5.5579153717041585,
         0
        ],
        [
         5.607831832768326,
         21
        ],
        [
         7.395478918435888,
         -3
        ],
        [
         5.730667225292001,
         0
        ],
        [
         5.607831832768326,
         5
        ],
        [
         6.285411599498039,
         23
        ],
        [
         7.4383629227135835,
         6
        ],
        [
         6.580998845609555,
         11
        ],
        [
         7.142775676602069,
         0
        ],
        [
         6.285411599498039,
         0
        ],
        [
         6.285411599498039,
         3
        ],
        [
         6.5381148413318595,
         0
        ],
        [
         6.285411599498039,
         0
        ],
        [
         6.285411599498039,
         11
        ],
        [
         6.285411599498039,
         0
        ],
        [
         7.29622456683332,
         -12
        ],
        [
         5.597279076566313,
         0
        ],
        [
         6.890072434768248,
         27
        ],
        [
         6.79081808316568,
         3
        ],
        [
         8.04072743708992,
         -3
        ],
        [
         7.142775676602069,
         16
        ],
        [
         6.890072434768248,
         49
        ],
        [
         6.79081808316568,
         0
        ],
        [
         6.285411599498039,
         0
        ],
        [
         6.285411599498039,
         11
        ],
        [
         6.285411599498039,
         4
        ],
        [
         6.285411599498039,
         8
        ],
        [
         6.79081808316568,
         0
        ],
        [
         6.833702087443376,
         18
        ],
        [
         6.039740814450694,
         0
        ],
        [
         6.963569936753522,
         6
        ],
        [
         7.142775676602069,
         19
        ],
        [
         6.79081808316568,
         17
        ],
        [
         6.79081808316568,
         16
        ],
        [
         6.039740814450694,
         11
        ],
        [
         6.039740814450694,
         0
        ],
        [
         6.335328060562208,
         0
        ],
        [
         6.335328060562208,
         8
        ],
        [
         6.963569936753522,
         15
        ],
        [
         6.039740814450694,
         37
        ],
        [
         6.039740814450694,
         0
        ],
        [
         6.039740814450694,
         -10
        ],
        [
         6.039740814450694,
         12
        ],
        [
         6.039740814450694,
         16
        ],
        [
         6.039740814450694,
         18
        ],
        [
         6.039740814450694,
         4
        ],
        [
         6.285411599498039,
         8
        ],
        [
         6.79081808316568,
         -9
        ],
        [
         6.285411599498039,
         0
        ],
        [
         6.039740814450694,
         7
        ],
        [
         6.039740814450694,
         4
        ],
        [
         6.285411599498039,
         0
        ],
        [
         6.5381148413318595,
         0
        ],
        [
         6.039740814450694,
         0
        ],
        [
         6.039740814450694,
         7
        ],
        [
         7.917892044566248,
         5
        ],
        [
         7.019940284078395,
         -2
        ],
        [
         6.039740814450694,
         7
        ],
        [
         5.916905421927019,
         8
        ],
        [
         6.285411599498039,
         12
        ],
        [
         6.833702087443376,
         0
        ],
        [
         5.298758243609635,
         -3
        ],
        [
         7.53532095342228,
         0
        ],
        [
         6.890072434768248,
         0
        ],
        [
         7.788024195256099,
         13
        ],
        [
         6.847188430490553,
         0
        ],
        [
         6.285411599498039,
         0
        ],
        [
         6.285411599498039,
         17
        ],
        [
         6.285411599498039,
         -6
        ],
        [
         6.162576206974366,
         7
        ],
        [
         6.890072434768248,
         25
        ],
        [
         8.04072743708992,
         0
        ],
        [
         6.285411599498039,
         0
        ],
        [
         6.4581634530858825,
         21
        ],
        [
         5.853502617815675,
         0
        ],
        [
         6.162576206974366,
         0
        ],
        [
         6.162576206974366,
         14
        ],
        [
         6.162576206974366,
         7
        ],
        [
         6.4581634530858825,
         13
        ],
        [
         8.04072743708992,
         11
        ],
        [
         6.162576206974366,
         13
        ],
        [
         6.580998845609555,
         15
        ],
        [
         6.79081808316568,
         8
        ],
        [
         7.608818455407555,
         8
        ],
        [
         6.285411599498039,
         -8
        ],
        [
         6.285411599498039,
         8
        ],
        [
         6.594485188656732,
         14
        ],
        [
         6.285411599498039,
         1
        ],
        [
         6.285411599498039,
         -7
        ],
        [
         6.285411599498039,
         34
        ],
        [
         6.594485188656732,
         0
        ],
        [
         6.285411599498039,
         7
        ],
        [
         6.285411599498039,
         16
        ],
        [
         6.833702087443376,
         21
        ],
        [
         7.4383629227135835,
         0
        ],
        [
         6.667982690642006,
         -9
        ],
        [
         7.142775676602069,
         8
        ],
        [
         6.285411599498039,
         12
        ],
        [
         6.594485188656732,
         3
        ],
        [
         6.5381148413318595,
         15
        ],
        [
         6.162576206974366,
         36
        ],
        [
         6.285411599498039,
         0
        ],
        [
         5.853502617815675,
         0
        ],
        [
         6.920685932475827,
         52
        ],
        [
         6.79081808316568,
         14
        ],
        [
         6.594485188656732,
         0
        ],
        [
         6.285411599498039,
         3
        ],
        [
         6.5381148413318595,
         16
        ],
        [
         6.580998845609555,
         3
        ],
        [
         6.162576206974366,
         -2
        ],
        [
         6.580998845609555,
         3
        ],
        [
         7.043521324999501,
         55
        ],
        [
         6.5381148413318595,
         3
        ],
        [
         7.142775676602069,
         22
        ],
        [
         6.162576206974366,
         8
        ],
        [
         6.79081808316568,
         0
        ],
        [
         6.162576206974366,
         -8
        ],
        [
         6.285411599498039,
         14
        ],
        [
         6.285411599498039,
         7
        ],
        [
         6.162576206974366,
         11
        ],
        [
         6.162576206974366,
         0
        ],
        [
         6.162576206974366,
         7
        ],
        [
         6.285411599498039,
         6
        ],
        [
         6.162576206974366,
         4
        ],
        [
         6.162576206974366,
         8
        ],
        [
         6.162576206974366,
         6
        ],
        [
         6.162576206974366,
         14
        ],
        [
         7.863672173074569,
         10
        ],
        [
         7.185659680879764,
         8
        ],
        [
         6.79081808316568,
         1
        ],
        [
         7.691066164547404,
         13
        ],
        [
         5.976338010339347,
         0
        ],
        [
         5.976338010339347,
         2
        ],
        [
         6.580998845609555,
         0
        ],
        [
         6.580998845609555,
         0
        ],
        [
         5.976338010339347,
         0
        ],
        [
         5.976338010339347,
         0
        ],
        [
         6.285411599498039,
         5
        ],
        [
         5.976338010339347,
         -3
        ],
        [
         5.976338010339347,
         6
        ],
        [
         6.285411599498039,
         0
        ],
        [
         5.550359407988094,
         29
        ],
        [
         5.976338010339347,
         6
        ],
        [
         6.285411599498039,
         1
        ],
        [
         6.580998845609555,
         0
        ],
        [
         7.381992575388711,
         0
        ],
        [
         6.580998845609555,
         3
        ],
        [
         6.777331740118504,
         6
        ],
        [
         6.833702087443376,
         -9
        ],
        [
         6.285411599498039,
         10
        ],
        [
         6.285411599498039,
         12
        ],
        [
         6.285411599498039,
         0
        ],
        [
         7.943769406381225,
         -16
        ],
        [
         5.84594665409961,
         8
        ],
        [
         6.285411599498039,
         10
        ],
        [
         6.285411599498039,
         8
        ],
        [
         7.7780500095798555,
         -7
        ],
        [
         7.7780500095798555,
         11
        ],
        [
         6.039740814450694,
         0
        ],
        [
         7.019940284078395,
         0
        ],
        [
         6.584511002980488,
         64
        ],
        [
         6.039740814450694,
         7
        ],
        [
         6.113238316435968,
         14
        ],
        [
         1.2244430593828146,
         0
        ],
        [
         6.545147298118334,
         9
        ],
        [
         6.039740814450694,
         5
        ],
        [
         6.039740814450694,
         16
        ],
        [
         6.039740814450694,
         2
        ],
        [
         6.039740814450694,
         4
        ],
        [
         6.039740814450694,
         2
        ],
        [
         5.857014775186606,
         0
        ],
        [
         5.730667225292001,
         0
        ],
        [
         7.050553781785974,
         4
        ],
        [
         6.039740814450694,
         4
        ],
        [
         6.039740814450694,
         0
        ],
        [
         6.2360737089596405,
         6
        ],
        [
         5.730667225292001,
         0
        ],
        [
         5.730667225292001,
         0
        ],
        [
         6.039740814450694,
         0
        ],
        [
         6.5381148413318595,
         0
        ],
        [
         6.5381148413318595,
         10
        ],
        [
         6.5381148413318595,
         16
        ],
        [
         6.5381148413318595,
         15
        ],
        [
         6.5381148413318595,
         -1
        ],
        [
         5.853502617815675,
         11
        ],
        [
         7.525346767746036,
         1
        ],
        [
         5.853502617815675,
         0
        ],
        [
         6.5381148413318595,
         0
        ],
        [
         6.415279448808187,
         20
        ],
        [
         8.213479290677762,
         3
        ],
        [
         7.2726435259122155,
         0
        ],
        [
         5.853502617815675,
         11
        ],
        [
         6.79081808316568,
         6
        ],
        [
         7.2726435259122155,
         0
        ],
        [
         5.976338010339347,
         -4
        ],
        [
         5.976338010339347,
         12
        ],
        [
         6.973544122429766,
         0
        ],
        [
         6.162576206974366,
         6
        ],
        [
         6.285411599498039,
         -1
        ],
        [
         6.79081808316568,
         5
        ],
        [
         6.285411599498039,
         0
        ],
        [
         6.271925256450864,
         7
        ],
        [
         6.580998845609555,
         0
        ],
        [
         8.04072743708992,
         12
        ],
        [
         6.667982690642006,
         -1
        ],
        [
         6.285411599498039,
         39
        ],
        [
         6.973544122429766,
         1
        ],
        [
         6.285411599498039,
         0
        ],
        [
         6.285411599498039,
         32
        ],
        [
         6.973544122429766,
         5
        ],
        [
         6.285411599498039,
         15
        ],
        [
         6.285411599498039,
         2
        ],
        [
         6.358909101483315,
         6
        ],
        [
         6.285411599498039,
         10
        ],
        [
         5.730667225292001,
         9
        ],
        [
         7.282617711588459,
         0
        ],
        [
         6.162576206974366,
         8
        ],
        [
         6.36888328715956,
         0
        ],
        [
         6.285411599498039,
         4
        ],
        [
         6.162576206974366,
         0
        ],
        [
         6.667982690642006,
         6
        ],
        [
         6.285411599498039,
         12
        ],
        [
         6.890072434768248,
         0
        ],
        [
         6.285411599498039,
         19
        ],
        [
         6.5381148413318595,
         16
        ],
        [
         6.285411599498039,
         52
        ],
        [
         5.976338010339347,
         0
        ],
        [
         6.285411599498039,
         4
        ],
        [
         6.285411599498039,
         3
        ],
        [
         6.285411599498039,
         -2
        ],
        [
         6.285411599498039,
         12
        ],
        [
         8.37919868747913,
         0
        ],
        [
         6.285411599498039,
         27
        ],
        [
         6.5381148413318595,
         8
        ],
        [
         6.285411599498039,
         0
        ],
        [
         6.285411599498039,
         3
        ],
        [
         7.29622456683332,
         0
        ],
        [
         7.282617711588459,
         3
        ],
        [
         6.162576206974366,
         31
        ],
        [
         5.853502617815675,
         0
        ],
        [
         5.853502617815675,
         0
        ],
        [
         5.976338010339347,
         -12
        ],
        [
         6.664470533271077,
         20
        ],
        [
         6.162576206974366,
         8
        ],
        [
         6.162576206974366,
         18
        ],
        [
         6.7278733373824195,
         -1
        ],
        [
         6.588031302396029,
         0
        ],
        [
         5.681329334753604,
         0
        ],
        [
         6.162576206974366,
         5
        ],
        [
         6.162576206974366,
         15
        ],
        [
         6.162576206974366,
         5
        ],
        [
         6.162576206974366,
         0
        ],
        [
         6.039740814450694,
         0
        ],
        [
         5.86698896086285,
         11
        ],
        [
         6.372395444530492,
         0
        ],
        [
         5.853502617815675,
         0
        ],
        [
         6.588031302396029,
         19
        ],
        [
         7.2332798210500595,
         0
        ],
        [
         6.415279448808187,
         -7
        ],
        [
         6.162576206974366,
         8
        ],
        [
         6.555121483794576,
         16
        ]
       ],
       "datasetInfos": [],
       "dbfsResultPath": null,
       "isJsonSchema": true,
       "overflow": true,
       "plotOptions": {
        "customPlotOptions": {},
        "displayType": "table",
        "pivotAggregation": null,
        "pivotColumns": null,
        "xColumns": null,
        "yColumns": null
       },
       "removedWidgets": [],
       "schema": [
        {
         "metadata": "{}",
         "name": "prediction",
         "type": "\"double\""
        },
        {
         "metadata": "{}",
         "name": "netYardsGained",
         "type": "\"double\""
        }
       ],
       "type": "table"
      }
     },
     "output_type": "display_data"
    }
   ],
   "source": [
    "display(holdout)"
   ]
  }
 ],
 "metadata": {
  "application/vnd.databricks.v1+notebook": {
   "dashboards": [],
   "language": "python",
   "notebookName": "NFL_Linear_Regression",
   "notebookOrigID": 3087509339238875,
   "widgets": {}
  },
  "kernelspec": {
   "display_name": "Python 3",
   "language": "python",
   "name": "python3"
  },
  "language_info": {
   "codemirror_mode": {
    "name": "ipython",
    "version": 3
   },
   "file_extension": ".py",
   "mimetype": "text/x-python",
   "name": "python",
   "nbconvert_exporter": "python",
   "pygments_lexer": "ipython3",
   "version": "3.8.5"
  }
 },
 "nbformat": 4,
 "nbformat_minor": 4
}
