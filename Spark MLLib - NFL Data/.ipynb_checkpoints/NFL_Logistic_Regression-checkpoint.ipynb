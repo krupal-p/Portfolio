{
 "cells": [
  {
   "cell_type": "markdown",
   "metadata": {
    "application/vnd.databricks.v1+cell": {
     "inputWidgets": {},
     "nuid": "15a7406d-7bbf-4bf6-b5bf-579c3e39de46",
     "showTitle": false,
     "title": ""
    }
   },
   "source": [
    "### Find all files from DBFS"
   ]
  },
  {
   "cell_type": "code",
   "execution_count": null,
   "metadata": {
    "application/vnd.databricks.v1+cell": {
     "inputWidgets": {},
     "nuid": "1217175e-0caa-427a-9fb1-9b23e280e47a",
     "showTitle": false,
     "title": ""
    }
   },
   "outputs": [
    {
     "data": {
      "text/html": [
       "<style scoped>\n",
       "  .table-result-container {\n",
       "    max-height: 300px;\n",
       "    overflow: auto;\n",
       "  }\n",
       "  table, th, td {\n",
       "    border: 1px solid black;\n",
       "    border-collapse: collapse;\n",
       "  }\n",
       "  th, td {\n",
       "    padding: 5px;\n",
       "  }\n",
       "  th {\n",
       "    text-align: left;\n",
       "  }\n",
       "</style><div class='table-result-container'><table class='table-result'><thead style='background-color: white'><tr><th>path</th><th>name</th><th>size</th></tr></thead><tbody><tr><td>dbfs:/FileStore/tables/nfl-big-data-bowl-2021/games.csv</td><td>games.csv</td><td>10451</td></tr><tr><td>dbfs:/FileStore/tables/nfl-big-data-bowl-2021/players.csv</td><td>players.csv</td><td>71358</td></tr><tr><td>dbfs:/FileStore/tables/nfl-big-data-bowl-2021/plays.csv</td><td>plays.csv</td><td>4979613</td></tr><tr><td>dbfs:/FileStore/tables/nfl-big-data-bowl-2021/week1.csv</td><td>week1.csv</td><td>125378352</td></tr><tr><td>dbfs:/FileStore/tables/nfl-big-data-bowl-2021/week10.csv</td><td>week10.csv</td><td>122774466</td></tr><tr><td>dbfs:/FileStore/tables/nfl-big-data-bowl-2021/week11.csv</td><td>week11.csv</td><td>118578223</td></tr><tr><td>dbfs:/FileStore/tables/nfl-big-data-bowl-2021/week12.csv</td><td>week12.csv</td><td>130340962</td></tr><tr><td>dbfs:/FileStore/tables/nfl-big-data-bowl-2021/week13.csv</td><td>week13.csv</td><td>149141557</td></tr><tr><td>dbfs:/FileStore/tables/nfl-big-data-bowl-2021/week14.csv</td><td>week14.csv</td><td>147823618</td></tr><tr><td>dbfs:/FileStore/tables/nfl-big-data-bowl-2021/week15.csv</td><td>week15.csv</td><td>137613898</td></tr><tr><td>dbfs:/FileStore/tables/nfl-big-data-bowl-2021/week16.csv</td><td>week16.csv</td><td>145614217</td></tr><tr><td>dbfs:/FileStore/tables/nfl-big-data-bowl-2021/week17.csv</td><td>week17.csv</td><td>133455817</td></tr><tr><td>dbfs:/FileStore/tables/nfl-big-data-bowl-2021/week2.csv</td><td>week2.csv</td><td>156777982</td></tr><tr><td>dbfs:/FileStore/tables/nfl-big-data-bowl-2021/week3.csv</td><td>week3.csv</td><td>148630299</td></tr><tr><td>dbfs:/FileStore/tables/nfl-big-data-bowl-2021/week4.csv</td><td>week4.csv</td><td>153463956</td></tr><tr><td>dbfs:/FileStore/tables/nfl-big-data-bowl-2021/week5.csv</td><td>week5.csv</td><td>149220235</td></tr><tr><td>dbfs:/FileStore/tables/nfl-big-data-bowl-2021/week6.csv</td><td>week6.csv</td><td>136472235</td></tr><tr><td>dbfs:/FileStore/tables/nfl-big-data-bowl-2021/week7.csv</td><td>week7.csv</td><td>124905285</td></tr><tr><td>dbfs:/FileStore/tables/nfl-big-data-bowl-2021/week8.csv</td><td>week8.csv</td><td>127376389</td></tr><tr><td>dbfs:/FileStore/tables/nfl-big-data-bowl-2021/week9.csv</td><td>week9.csv</td><td>121946210</td></tr></tbody></table></div>"
      ]
     },
     "metadata": {
      "application/vnd.databricks.v1+output": {
       "addedWidgets": {},
       "aggData": [],
       "aggError": "",
       "aggOverflow": false,
       "aggSchema": [],
       "aggSeriesLimitReached": false,
       "aggType": "",
       "arguments": {},
       "columnCustomDisplayInfos": {},
       "data": [
        [
         "dbfs:/FileStore/tables/nfl-big-data-bowl-2021/games.csv",
         "games.csv",
         10451
        ],
        [
         "dbfs:/FileStore/tables/nfl-big-data-bowl-2021/players.csv",
         "players.csv",
         71358
        ],
        [
         "dbfs:/FileStore/tables/nfl-big-data-bowl-2021/plays.csv",
         "plays.csv",
         4979613
        ],
        [
         "dbfs:/FileStore/tables/nfl-big-data-bowl-2021/week1.csv",
         "week1.csv",
         125378352
        ],
        [
         "dbfs:/FileStore/tables/nfl-big-data-bowl-2021/week10.csv",
         "week10.csv",
         122774466
        ],
        [
         "dbfs:/FileStore/tables/nfl-big-data-bowl-2021/week11.csv",
         "week11.csv",
         118578223
        ],
        [
         "dbfs:/FileStore/tables/nfl-big-data-bowl-2021/week12.csv",
         "week12.csv",
         130340962
        ],
        [
         "dbfs:/FileStore/tables/nfl-big-data-bowl-2021/week13.csv",
         "week13.csv",
         149141557
        ],
        [
         "dbfs:/FileStore/tables/nfl-big-data-bowl-2021/week14.csv",
         "week14.csv",
         147823618
        ],
        [
         "dbfs:/FileStore/tables/nfl-big-data-bowl-2021/week15.csv",
         "week15.csv",
         137613898
        ],
        [
         "dbfs:/FileStore/tables/nfl-big-data-bowl-2021/week16.csv",
         "week16.csv",
         145614217
        ],
        [
         "dbfs:/FileStore/tables/nfl-big-data-bowl-2021/week17.csv",
         "week17.csv",
         133455817
        ],
        [
         "dbfs:/FileStore/tables/nfl-big-data-bowl-2021/week2.csv",
         "week2.csv",
         156777982
        ],
        [
         "dbfs:/FileStore/tables/nfl-big-data-bowl-2021/week3.csv",
         "week3.csv",
         148630299
        ],
        [
         "dbfs:/FileStore/tables/nfl-big-data-bowl-2021/week4.csv",
         "week4.csv",
         153463956
        ],
        [
         "dbfs:/FileStore/tables/nfl-big-data-bowl-2021/week5.csv",
         "week5.csv",
         149220235
        ],
        [
         "dbfs:/FileStore/tables/nfl-big-data-bowl-2021/week6.csv",
         "week6.csv",
         136472235
        ],
        [
         "dbfs:/FileStore/tables/nfl-big-data-bowl-2021/week7.csv",
         "week7.csv",
         124905285
        ],
        [
         "dbfs:/FileStore/tables/nfl-big-data-bowl-2021/week8.csv",
         "week8.csv",
         127376389
        ],
        [
         "dbfs:/FileStore/tables/nfl-big-data-bowl-2021/week9.csv",
         "week9.csv",
         121946210
        ]
       ],
       "datasetInfos": [],
       "dbfsResultPath": null,
       "isJsonSchema": true,
       "overflow": false,
       "plotOptions": {
        "customPlotOptions": {},
        "displayType": "table",
        "pivotAggregation": null,
        "pivotColumns": null,
        "xColumns": null,
        "yColumns": null
       },
       "removedWidgets": [],
       "schema": [
        {
         "metadata": "{}",
         "name": "path",
         "type": "\"string\""
        },
        {
         "metadata": "{}",
         "name": "name",
         "type": "\"string\""
        },
        {
         "metadata": "{}",
         "name": "size",
         "type": "\"long\""
        }
       ],
       "type": "table"
      }
     },
     "output_type": "display_data"
    }
   ],
   "source": [
    "%fs ls dbfs:/FileStore/tables/nfl-big-data-bowl-2021/"
   ]
  },
  {
   "cell_type": "code",
   "execution_count": null,
   "metadata": {
    "application/vnd.databricks.v1+cell": {
     "inputWidgets": {},
     "nuid": "de7d625c-9f71-4253-9eab-1d6689241ace",
     "showTitle": false,
     "title": ""
    }
   },
   "outputs": [
    {
     "data": {
      "text/html": [
       "<style scoped>\n",
       "  .ansiout {\n",
       "    display: block;\n",
       "    unicode-bidi: embed;\n",
       "    white-space: pre-wrap;\n",
       "    word-wrap: break-word;\n",
       "    word-break: break-all;\n",
       "    font-family: \"Source Code Pro\", \"Menlo\", monospace;;\n",
       "    font-size: 13px;\n",
       "    color: #555;\n",
       "    margin-left: 4px;\n",
       "    line-height: 19px;\n",
       "  }\n",
       "</style>\n",
       "<div class=\"ansiout\"></div>"
      ]
     },
     "metadata": {
      "application/vnd.databricks.v1+output": {
       "addedWidgets": {},
       "arguments": {},
       "data": "<div class=\"ansiout\"></div>",
       "datasetInfos": [],
       "removedWidgets": [],
       "type": "html"
      }
     },
     "output_type": "display_data"
    }
   ],
   "source": [
    "#dbutils.fs.rm(\"dbfs:/FileStore/tables/nfl-big-data-bowl-2021/players.csv\")"
   ]
  },
  {
   "cell_type": "code",
   "execution_count": null,
   "metadata": {
    "application/vnd.databricks.v1+cell": {
     "inputWidgets": {},
     "nuid": "f46513b7-d97c-4a74-af61-ecbaa251e113",
     "showTitle": false,
     "title": ""
    }
   },
   "outputs": [
    {
     "data": {
      "text/html": [
       "<style scoped>\n",
       "  .ansiout {\n",
       "    display: block;\n",
       "    unicode-bidi: embed;\n",
       "    white-space: pre-wrap;\n",
       "    word-wrap: break-word;\n",
       "    word-break: break-all;\n",
       "    font-family: \"Source Code Pro\", \"Menlo\", monospace;;\n",
       "    font-size: 13px;\n",
       "    color: #555;\n",
       "    margin-left: 4px;\n",
       "    line-height: 19px;\n",
       "  }\n",
       "</style>\n",
       "<div class=\"ansiout\"></div>"
      ]
     },
     "metadata": {
      "application/vnd.databricks.v1+output": {
       "addedWidgets": {},
       "arguments": {},
       "data": "<div class=\"ansiout\"></div>",
       "datasetInfos": [],
       "removedWidgets": [],
       "type": "html"
      }
     },
     "output_type": "display_data"
    }
   ],
   "source": [
    "# Read data from csv files\n",
    "nfl_folder = dbutils.fs.ls(\"dbfs:/FileStore/tables/nfl-big-data-bowl-2021/\")\n",
    "files = [file[0] for file in nfl_folder]\n",
    "files\n",
    "\n",
    "games = spark.read.format('csv').option('inferSchema', True).option(\n",
    "    'header', True).option('sep', ',').load(\n",
    "        files.pop(\n",
    "            files.index(\n",
    "                'dbfs:/FileStore/tables/nfl-big-data-bowl-2021/games.csv')))\n",
    "players = spark.read.format('csv').option('inferSchema', True).option(\n",
    "    'header', True).option('sep', ',').load(\n",
    "        files.pop(\n",
    "            files.index(\n",
    "                'dbfs:/FileStore/tables/nfl-big-data-bowl-2021/players.csv')))\n",
    "plays = spark.read.format('csv').option('inferSchema', True).option(\n",
    "    'header', True).option('sep', ',').load(\n",
    "        files.pop(\n",
    "            files.index(\n",
    "                'dbfs:/FileStore/tables/nfl-big-data-bowl-2021/plays.csv')))\n",
    "weeks = [\n",
    "    spark.read.format('csv').option('inferSchema',\n",
    "                                    True).option('header',\n",
    "                                                 True).option('sep',\n",
    "                                                              ',').load(file)\n",
    "    for file in files\n",
    "]"
   ]
  },
  {
   "cell_type": "code",
   "execution_count": null,
   "metadata": {
    "application/vnd.databricks.v1+cell": {
     "inputWidgets": {},
     "nuid": "3d0ba8e6-7d21-4142-8f4c-2d631a96cdcc",
     "showTitle": false,
     "title": ""
    }
   },
   "outputs": [
    {
     "data": {
      "text/html": [
       "<style scoped>\n",
       "  .ansiout {\n",
       "    display: block;\n",
       "    unicode-bidi: embed;\n",
       "    white-space: pre-wrap;\n",
       "    word-wrap: break-word;\n",
       "    word-break: break-all;\n",
       "    font-family: \"Source Code Pro\", \"Menlo\", monospace;;\n",
       "    font-size: 13px;\n",
       "    color: #555;\n",
       "    margin-left: 4px;\n",
       "    line-height: 19px;\n",
       "  }\n",
       "</style>\n",
       "<div class=\"ansiout\"></div>"
      ]
     },
     "metadata": {
      "application/vnd.databricks.v1+output": {
       "addedWidgets": {},
       "arguments": {},
       "data": "<div class=\"ansiout\"></div>",
       "datasetInfos": [],
       "removedWidgets": [],
       "type": "html"
      }
     },
     "output_type": "display_data"
    }
   ],
   "source": [
    "tracking = weeks[0]\n",
    "for week in range(1, len(weeks)):\n",
    "    tracking = tracking.union(weeks[week])\n",
    "tracking = tracking.sort('time')"
   ]
  },
  {
   "cell_type": "code",
   "execution_count": null,
   "metadata": {
    "application/vnd.databricks.v1+cell": {
     "inputWidgets": {},
     "nuid": "8fba4634-419c-40e6-8de9-d115dfa2b0c5",
     "showTitle": false,
     "title": ""
    }
   },
   "outputs": [
    {
     "data": {
      "text/html": [
       "<style scoped>\n",
       "  .ansiout {\n",
       "    display: block;\n",
       "    unicode-bidi: embed;\n",
       "    white-space: pre-wrap;\n",
       "    word-wrap: break-word;\n",
       "    word-break: break-all;\n",
       "    font-family: \"Source Code Pro\", \"Menlo\", monospace;;\n",
       "    font-size: 13px;\n",
       "    color: #555;\n",
       "    margin-left: 4px;\n",
       "    line-height: 19px;\n",
       "  }\n",
       "</style>\n",
       "<div class=\"ansiout\"></div>"
      ]
     },
     "metadata": {
      "application/vnd.databricks.v1+output": {
       "addedWidgets": {},
       "arguments": {},
       "data": "<div class=\"ansiout\"></div>",
       "datasetInfos": [],
       "removedWidgets": [],
       "type": "html"
      }
     },
     "output_type": "display_data"
    }
   ],
   "source": [
    "passing = tracking.select(\n",
    "    ['event', 'nflId', 'jerseyNumber', 'position', 'team', 'gameId', 's',\n",
    "     'a']).filter((tracking.event != 'None') & (tracking.nflId.isNotNull()))"
   ]
  },
  {
   "cell_type": "code",
   "execution_count": null,
   "metadata": {
    "application/vnd.databricks.v1+cell": {
     "inputWidgets": {},
     "nuid": "d29c8347-4959-4236-bd8e-138cf8120aa1",
     "showTitle": false,
     "title": ""
    }
   },
   "outputs": [
    {
     "data": {
      "text/html": [
       "<style scoped>\n",
       "  .ansiout {\n",
       "    display: block;\n",
       "    unicode-bidi: embed;\n",
       "    white-space: pre-wrap;\n",
       "    word-wrap: break-word;\n",
       "    word-break: break-all;\n",
       "    font-family: \"Source Code Pro\", \"Menlo\", monospace;;\n",
       "    font-size: 13px;\n",
       "    color: #555;\n",
       "    margin-left: 4px;\n",
       "    line-height: 19px;\n",
       "  }\n",
       "</style>\n",
       "<div class=\"ansiout\"></div>"
      ]
     },
     "metadata": {
      "application/vnd.databricks.v1+output": {
       "addedWidgets": {},
       "arguments": {},
       "data": "<div class=\"ansiout\"></div>",
       "datasetInfos": [],
       "removedWidgets": [],
       "type": "html"
      }
     },
     "output_type": "display_data"
    }
   ],
   "source": [
    "from pyspark.sql.functions import *"
   ]
  },
  {
   "cell_type": "code",
   "execution_count": null,
   "metadata": {
    "application/vnd.databricks.v1+cell": {
     "inputWidgets": {},
     "nuid": "bb5e677a-6a73-4177-96f4-985e06e78f05",
     "showTitle": false,
     "title": ""
    }
   },
   "outputs": [
    {
     "data": {
      "text/html": [
       "<style scoped>\n",
       "  .ansiout {\n",
       "    display: block;\n",
       "    unicode-bidi: embed;\n",
       "    white-space: pre-wrap;\n",
       "    word-wrap: break-word;\n",
       "    word-break: break-all;\n",
       "    font-family: \"Source Code Pro\", \"Menlo\", monospace;;\n",
       "    font-size: 13px;\n",
       "    color: #555;\n",
       "    margin-left: 4px;\n",
       "    line-height: 19px;\n",
       "  }\n",
       "</style>\n",
       "<div class=\"ansiout\"></div>"
      ]
     },
     "metadata": {
      "application/vnd.databricks.v1+output": {
       "addedWidgets": {},
       "arguments": {},
       "data": "<div class=\"ansiout\"></div>",
       "datasetInfos": [],
       "removedWidgets": [],
       "type": "html"
      }
     },
     "output_type": "display_data"
    }
   ],
   "source": [
    "passing = passing.withColumn(\n",
    "    'offenseResult',\n",
    "    when((passing.event == 'pass_arrived') | (passing.event == 'handoff') |\n",
    "         (passing.event == 'pass_forward') |\n",
    "         (passing.event == 'pass_outcome_caught'), 1).otherwise(0))"
   ]
  },
  {
   "cell_type": "code",
   "execution_count": null,
   "metadata": {
    "application/vnd.databricks.v1+cell": {
     "inputWidgets": {},
     "nuid": "d2a0b5fc-4a10-4309-823d-48d734a647ba",
     "showTitle": false,
     "title": ""
    }
   },
   "outputs": [
    {
     "data": {
      "text/html": [
       "<style scoped>\n",
       "  .ansiout {\n",
       "    display: block;\n",
       "    unicode-bidi: embed;\n",
       "    white-space: pre-wrap;\n",
       "    word-wrap: break-word;\n",
       "    word-break: break-all;\n",
       "    font-family: \"Source Code Pro\", \"Menlo\", monospace;;\n",
       "    font-size: 13px;\n",
       "    color: #555;\n",
       "    margin-left: 4px;\n",
       "    line-height: 19px;\n",
       "  }\n",
       "</style>\n",
       "<div class=\"ansiout\"></div>"
      ]
     },
     "metadata": {
      "application/vnd.databricks.v1+output": {
       "addedWidgets": {},
       "arguments": {},
       "data": "<div class=\"ansiout\"></div>",
       "datasetInfos": [],
       "removedWidgets": [],
       "type": "html"
      }
     },
     "output_type": "display_data"
    }
   ],
   "source": [
    "#passing=passing.withColumn('Success',when(col('offenseResult')=='S',1).otherwise(0))\n",
    "#passing=passing.withColumn('Fail',when(col('offenseResult')=='F',1).otherwise(0))"
   ]
  },
  {
   "cell_type": "code",
   "execution_count": null,
   "metadata": {
    "application/vnd.databricks.v1+cell": {
     "inputWidgets": {},
     "nuid": "d663984b-b6f0-4b5a-a60a-7eb1e2410db6",
     "showTitle": false,
     "title": ""
    }
   },
   "outputs": [
    {
     "data": {
      "text/html": [
       "<style scoped>\n",
       "  .ansiout {\n",
       "    display: block;\n",
       "    unicode-bidi: embed;\n",
       "    white-space: pre-wrap;\n",
       "    word-wrap: break-word;\n",
       "    word-break: break-all;\n",
       "    font-family: \"Source Code Pro\", \"Menlo\", monospace;;\n",
       "    font-size: 13px;\n",
       "    color: #555;\n",
       "    margin-left: 4px;\n",
       "    line-height: 19px;\n",
       "  }\n",
       "</style>\n",
       "<div class=\"ansiout\"></div>"
      ]
     },
     "metadata": {
      "application/vnd.databricks.v1+output": {
       "addedWidgets": {},
       "arguments": {},
       "data": "<div class=\"ansiout\"></div>",
       "datasetInfos": [],
       "removedWidgets": [],
       "type": "html"
      }
     },
     "output_type": "display_data"
    }
   ],
   "source": [
    "#df=passing.groupBy('nflId').agg(sum('Success').alias('Success'),sum('Fail').alias('Fail'))"
   ]
  },
  {
   "cell_type": "code",
   "execution_count": null,
   "metadata": {
    "application/vnd.databricks.v1+cell": {
     "inputWidgets": {},
     "nuid": "ac9ef025-f479-4ed8-b176-b9287c903853",
     "showTitle": false,
     "title": ""
    }
   },
   "outputs": [
    {
     "data": {
      "text/html": [
       "<style scoped>\n",
       "  .ansiout {\n",
       "    display: block;\n",
       "    unicode-bidi: embed;\n",
       "    white-space: pre-wrap;\n",
       "    word-wrap: break-word;\n",
       "    word-break: break-all;\n",
       "    font-family: \"Source Code Pro\", \"Menlo\", monospace;;\n",
       "    font-size: 13px;\n",
       "    color: #555;\n",
       "    margin-left: 4px;\n",
       "    line-height: 19px;\n",
       "  }\n",
       "</style>\n",
       "<div class=\"ansiout\"></div>"
      ]
     },
     "metadata": {
      "application/vnd.databricks.v1+output": {
       "addedWidgets": {},
       "arguments": {},
       "data": "<div class=\"ansiout\"></div>",
       "datasetInfos": [],
       "removedWidgets": [],
       "type": "html"
      }
     },
     "output_type": "display_data"
    }
   ],
   "source": [
    "#df=df.withColumn('SuccessRate',df.Success/(df.Success+df.Fail))\n",
    "#df.show()"
   ]
  },
  {
   "cell_type": "code",
   "execution_count": null,
   "metadata": {
    "application/vnd.databricks.v1+cell": {
     "inputWidgets": {},
     "nuid": "a72be0aa-0fae-4b76-815d-08bf547e6e75",
     "showTitle": false,
     "title": ""
    }
   },
   "outputs": [
    {
     "data": {
      "text/html": [
       "<style scoped>\n",
       "  .ansiout {\n",
       "    display: block;\n",
       "    unicode-bidi: embed;\n",
       "    white-space: pre-wrap;\n",
       "    word-wrap: break-word;\n",
       "    word-break: break-all;\n",
       "    font-family: \"Source Code Pro\", \"Menlo\", monospace;;\n",
       "    font-size: 13px;\n",
       "    color: #555;\n",
       "    margin-left: 4px;\n",
       "    line-height: 19px;\n",
       "  }\n",
       "</style>\n",
       "<div class=\"ansiout\">+------------+-------+------------+--------+----+----------+----+----+-------------+\n",
       "       event|  nflId|jerseyNumber|position|team|    gameId|   s|   a|offenseResult|\n",
       "+------------+-------+------------+--------+----+----------+----+----+-------------+\n",
       "   ball_snap|2495454|          11|      WR|away|2018090600| 0.0|0.01|            0|\n",
       "   ball_snap|2552689|          21|      CB|home|2018090600|0.03|0.03|            0|\n",
       "   ball_snap|2559033|          30|      FB|away|2018090600| 0.0| 0.0|            0|\n",
       "   ball_snap|2534832|          23|      FS|home|2018090600|0.02|0.02|            0|\n",
       "   ball_snap|2543583|          24|      RB|away|2018090600| 0.0| 0.0|            0|\n",
       "   ball_snap|2552315|          58|     MLB|home|2018090600|0.07|0.07|            0|\n",
       "   ball_snap|2495613|          24|      FS|home|2018090600|0.18|0.07|            0|\n",
       "   ball_snap|    310|           2|      QB|away|2018090600| 0.0| 0.0|            0|\n",
       "   ball_snap|2555415|          81|      TE|away|2018090600| 0.0|0.01|            0|\n",
       "   ball_snap|  79848|          27|      SS|home|2018090600|0.01|0.01|            0|\n",
       "   ball_snap|2555383|          31|      CB|home|2018090600|0.06|0.05|            0|\n",
       "   ball_snap|2558175|          47|      LB|home|2018090600|0.01|0.02|            0|\n",
       "   ball_snap|2533040|          12|      WR|away|2018090600| 0.0| 0.0|            0|\n",
       "pass_forward|    310|           2|      QB|away|2018090600|0.84|2.05|            1|\n",
       "pass_forward|2543583|          24|      RB|away|2018090600|3.92|3.23|            1|\n",
       "pass_forward|2534832|          23|      FS|home|2018090600|2.93|2.65|            1|\n",
       "pass_forward|2552315|          58|     MLB|home|2018090600|3.75|1.49|            1|\n",
       "pass_forward|2495613|          24|      FS|home|2018090600|3.52|0.69|            1|\n",
       "pass_forward|2533040|          12|      WR|away|2018090600|6.35|1.21|            1|\n",
       "pass_forward|2495454|          11|      WR|away|2018090600|3.11|6.67|            1|\n",
       "+------------+-------+------------+--------+----+----------+----+----+-------------+\n",
       "only showing top 20 rows\n",
       "\n",
       "</div>"
      ]
     },
     "metadata": {
      "application/vnd.databricks.v1+output": {
       "addedWidgets": {},
       "arguments": {},
       "data": "<div class=\"ansiout\">+------------+-------+------------+--------+----+----------+----+----+-------------+\n|       event|  nflId|jerseyNumber|position|team|    gameId|   s|   a|offenseResult|\n+------------+-------+------------+--------+----+----------+----+----+-------------+\n|   ball_snap|2495454|          11|      WR|away|2018090600| 0.0|0.01|            0|\n|   ball_snap|2552689|          21|      CB|home|2018090600|0.03|0.03|            0|\n|   ball_snap|2559033|          30|      FB|away|2018090600| 0.0| 0.0|            0|\n|   ball_snap|2534832|          23|      FS|home|2018090600|0.02|0.02|            0|\n|   ball_snap|2543583|          24|      RB|away|2018090600| 0.0| 0.0|            0|\n|   ball_snap|2552315|          58|     MLB|home|2018090600|0.07|0.07|            0|\n|   ball_snap|2495613|          24|      FS|home|2018090600|0.18|0.07|            0|\n|   ball_snap|    310|           2|      QB|away|2018090600| 0.0| 0.0|            0|\n|   ball_snap|2555415|          81|      TE|away|2018090600| 0.0|0.01|            0|\n|   ball_snap|  79848|          27|      SS|home|2018090600|0.01|0.01|            0|\n|   ball_snap|2555383|          31|      CB|home|2018090600|0.06|0.05|            0|\n|   ball_snap|2558175|          47|      LB|home|2018090600|0.01|0.02|            0|\n|   ball_snap|2533040|          12|      WR|away|2018090600| 0.0| 0.0|            0|\n|pass_forward|    310|           2|      QB|away|2018090600|0.84|2.05|            1|\n|pass_forward|2543583|          24|      RB|away|2018090600|3.92|3.23|            1|\n|pass_forward|2534832|          23|      FS|home|2018090600|2.93|2.65|            1|\n|pass_forward|2552315|          58|     MLB|home|2018090600|3.75|1.49|            1|\n|pass_forward|2495613|          24|      FS|home|2018090600|3.52|0.69|            1|\n|pass_forward|2533040|          12|      WR|away|2018090600|6.35|1.21|            1|\n|pass_forward|2495454|          11|      WR|away|2018090600|3.11|6.67|            1|\n+------------+-------+------------+--------+----+----------+----+----+-------------+\nonly showing top 20 rows\n\n</div>",
       "datasetInfos": [],
       "removedWidgets": [],
       "type": "html"
      }
     },
     "output_type": "display_data"
    }
   ],
   "source": [
    "passing.show()"
   ]
  },
  {
   "cell_type": "code",
   "execution_count": null,
   "metadata": {
    "application/vnd.databricks.v1+cell": {
     "inputWidgets": {},
     "nuid": "e5742bee-0009-4af9-aa63-ac04f04ba491",
     "showTitle": false,
     "title": ""
    }
   },
   "outputs": [
    {
     "data": {
      "text/html": [
       "<style scoped>\n",
       "  .ansiout {\n",
       "    display: block;\n",
       "    unicode-bidi: embed;\n",
       "    white-space: pre-wrap;\n",
       "    word-wrap: break-word;\n",
       "    word-break: break-all;\n",
       "    font-family: \"Source Code Pro\", \"Menlo\", monospace;;\n",
       "    font-size: 13px;\n",
       "    color: #555;\n",
       "    margin-left: 4px;\n",
       "    line-height: 19px;\n",
       "  }\n",
       "</style>\n",
       "<div class=\"ansiout\"></div>"
      ]
     },
     "metadata": {
      "application/vnd.databricks.v1+output": {
       "addedWidgets": {},
       "arguments": {},
       "data": "<div class=\"ansiout\"></div>",
       "datasetInfos": [],
       "removedWidgets": [],
       "type": "html"
      }
     },
     "output_type": "display_data"
    }
   ],
   "source": [
    "df = passing.select(['nflId', 's', 'a', 'offenseResult'])\n",
    "#df.show()"
   ]
  },
  {
   "cell_type": "code",
   "execution_count": null,
   "metadata": {
    "application/vnd.databricks.v1+cell": {
     "inputWidgets": {},
     "nuid": "92307e27-8797-4c1d-a78f-f4b764395349",
     "showTitle": false,
     "title": ""
    }
   },
   "outputs": [
    {
     "data": {
      "text/html": [
       "<style scoped>\n",
       "  .ansiout {\n",
       "    display: block;\n",
       "    unicode-bidi: embed;\n",
       "    white-space: pre-wrap;\n",
       "    word-wrap: break-word;\n",
       "    word-break: break-all;\n",
       "    font-family: \"Source Code Pro\", \"Menlo\", monospace;;\n",
       "    font-size: 13px;\n",
       "    color: #555;\n",
       "    margin-left: 4px;\n",
       "    line-height: 19px;\n",
       "  }\n",
       "</style>\n",
       "<div class=\"ansiout\"></div>"
      ]
     },
     "metadata": {
      "application/vnd.databricks.v1+output": {
       "addedWidgets": {},
       "arguments": {},
       "data": "<div class=\"ansiout\"></div>",
       "datasetInfos": [],
       "removedWidgets": [],
       "type": "html"
      }
     },
     "output_type": "display_data"
    }
   ],
   "source": [
    "result_df = df.join(players, df.nflId == players.nflId).select(\n",
    "    df.nflId, df.s, df.a, df.offenseResult, players.height, players.weight,\n",
    "    players.birthDate)"
   ]
  },
  {
   "cell_type": "code",
   "execution_count": null,
   "metadata": {
    "application/vnd.databricks.v1+cell": {
     "inputWidgets": {},
     "nuid": "ce5b571d-9433-425a-a3c8-c01dd7eb6902",
     "showTitle": false,
     "title": ""
    }
   },
   "outputs": [
    {
     "data": {
      "text/html": [
       "<style scoped>\n",
       "  .ansiout {\n",
       "    display: block;\n",
       "    unicode-bidi: embed;\n",
       "    white-space: pre-wrap;\n",
       "    word-wrap: break-word;\n",
       "    word-break: break-all;\n",
       "    font-family: \"Source Code Pro\", \"Menlo\", monospace;;\n",
       "    font-size: 13px;\n",
       "    color: #555;\n",
       "    margin-left: 4px;\n",
       "    line-height: 19px;\n",
       "  }\n",
       "</style>\n",
       "<div class=\"ansiout\">Out[13]: 1327212</div>"
      ]
     },
     "metadata": {
      "application/vnd.databricks.v1+output": {
       "addedWidgets": {},
       "arguments": {},
       "data": "<div class=\"ansiout\">Out[13]: 1327212</div>",
       "datasetInfos": [],
       "removedWidgets": [],
       "type": "html"
      }
     },
     "output_type": "display_data"
    }
   ],
   "source": [
    "result_df.count()"
   ]
  },
  {
   "cell_type": "code",
   "execution_count": null,
   "metadata": {
    "application/vnd.databricks.v1+cell": {
     "inputWidgets": {},
     "nuid": "fd85294a-2ea8-4798-8d9d-9a5f95a8498b",
     "showTitle": false,
     "title": ""
    }
   },
   "outputs": [
    {
     "data": {
      "text/html": [
       "<style scoped>\n",
       "  .ansiout {\n",
       "    display: block;\n",
       "    unicode-bidi: embed;\n",
       "    white-space: pre-wrap;\n",
       "    word-wrap: break-word;\n",
       "    word-break: break-all;\n",
       "    font-family: \"Source Code Pro\", \"Menlo\", monospace;;\n",
       "    font-size: 13px;\n",
       "    color: #555;\n",
       "    margin-left: 4px;\n",
       "    line-height: 19px;\n",
       "  }\n",
       "</style>\n",
       "<div class=\"ansiout\"></div>"
      ]
     },
     "metadata": {
      "application/vnd.databricks.v1+output": {
       "addedWidgets": {},
       "arguments": {},
       "data": "<div class=\"ansiout\"></div>",
       "datasetInfos": [],
       "removedWidgets": [],
       "type": "html"
      }
     },
     "output_type": "display_data"
    }
   ],
   "source": [
    "from pyspark.sql.functions import coalesce, to_date\n",
    "\n",
    "\n",
    "def to_date_(col, formats=(\"MM/dd/yyyy\", \"yyyy-MM-dd\")):\n",
    "    # Spark 2.2 or later syntax, for < 2.2 use unix_timestamp and cast\n",
    "    return coalesce(*[to_date(col, f) for f in formats])"
   ]
  },
  {
   "cell_type": "code",
   "execution_count": null,
   "metadata": {
    "application/vnd.databricks.v1+cell": {
     "inputWidgets": {},
     "nuid": "b450c9c9-6079-4ec9-bd54-cf29138ac9db",
     "showTitle": false,
     "title": ""
    }
   },
   "outputs": [
    {
     "data": {
      "text/html": [
       "<style scoped>\n",
       "  .ansiout {\n",
       "    display: block;\n",
       "    unicode-bidi: embed;\n",
       "    white-space: pre-wrap;\n",
       "    word-wrap: break-word;\n",
       "    word-break: break-all;\n",
       "    font-family: \"Source Code Pro\", \"Menlo\", monospace;;\n",
       "    font-size: 13px;\n",
       "    color: #555;\n",
       "    margin-left: 4px;\n",
       "    line-height: 19px;\n",
       "  }\n",
       "</style>\n",
       "<div class=\"ansiout\"></div>"
      ]
     },
     "metadata": {
      "application/vnd.databricks.v1+output": {
       "addedWidgets": {},
       "arguments": {},
       "data": "<div class=\"ansiout\"></div>",
       "datasetInfos": [],
       "removedWidgets": [],
       "type": "html"
      }
     },
     "output_type": "display_data"
    }
   ],
   "source": [
    "result_df = result_df.withColumn(\"newBirthDate\", to_date_(\"birthDate\"))"
   ]
  },
  {
   "cell_type": "code",
   "execution_count": null,
   "metadata": {
    "application/vnd.databricks.v1+cell": {
     "inputWidgets": {},
     "nuid": "f5019219-2e2c-4387-82dc-31a7da34712c",
     "showTitle": false,
     "title": ""
    }
   },
   "outputs": [
    {
     "data": {
      "text/html": [
       "<style scoped>\n",
       "  .ansiout {\n",
       "    display: block;\n",
       "    unicode-bidi: embed;\n",
       "    white-space: pre-wrap;\n",
       "    word-wrap: break-word;\n",
       "    word-break: break-all;\n",
       "    font-family: \"Source Code Pro\", \"Menlo\", monospace;;\n",
       "    font-size: 13px;\n",
       "    color: #555;\n",
       "    margin-left: 4px;\n",
       "    line-height: 19px;\n",
       "  }\n",
       "</style>\n",
       "<div class=\"ansiout\"></div>"
      ]
     },
     "metadata": {
      "application/vnd.databricks.v1+output": {
       "addedWidgets": {},
       "arguments": {},
       "data": "<div class=\"ansiout\"></div>",
       "datasetInfos": [],
       "removedWidgets": [],
       "type": "html"
      }
     },
     "output_type": "display_data"
    }
   ],
   "source": [
    "import pandas as pd\n",
    "import datetime\n",
    "import pyspark.sql.functions as F\n",
    "#result_df=result_df.withColumn('Date', pd.to_datetime(result_df.birthDate))\n",
    "#def from_dob_to_age(born):\n",
    "#    today = datetime.date.today()\n",
    "#    return today.year - born.year - ((today.month, today.day) < (born.month, born.day))\n",
    "temp = result_df.withColumn(\n",
    "    'age',\n",
    "    floor(\n",
    "        F.datediff(F.current_date(),\n",
    "                   to_date(result_df.newBirthDate, 'yyyy-MM-dd')) / 365.25))"
   ]
  },
  {
   "cell_type": "code",
   "execution_count": null,
   "metadata": {
    "application/vnd.databricks.v1+cell": {
     "inputWidgets": {},
     "nuid": "9c43c29a-478a-4bae-9145-09d756294136",
     "showTitle": false,
     "title": ""
    }
   },
   "outputs": [
    {
     "data": {
      "text/html": [
       "<style scoped>\n",
       "  .ansiout {\n",
       "    display: block;\n",
       "    unicode-bidi: embed;\n",
       "    white-space: pre-wrap;\n",
       "    word-wrap: break-word;\n",
       "    word-break: break-all;\n",
       "    font-family: \"Source Code Pro\", \"Menlo\", monospace;;\n",
       "    font-size: 13px;\n",
       "    color: #555;\n",
       "    margin-left: 4px;\n",
       "    line-height: 19px;\n",
       "  }\n",
       "</style>\n",
       "<div class=\"ansiout\">+-------+----+----+-------------+------+------+----------+------------+---+\n",
       "  nflId|   s|   a|offenseResult|height|weight| birthDate|newBirthDate|age|\n",
       "+-------+----+----+-------------+------+------+----------+------------+---+\n",
       "    310| 0.0| 0.0|            0|    76|   217|1985-05-17|  1985-05-17| 35|\n",
       "  79848|0.01|0.01|            0|    72|   204|1987-12-20|  1987-12-20| 32|\n",
       "2495454| 0.0|0.01|            0|    75|   220|1989-02-08|  1989-02-08| 31|\n",
       "2495613|0.18|0.07|            0|   6-0|   196|07/25/1985|  1985-07-25| 35|\n",
       "2533040| 0.0| 0.0|            0|    74|   215|1989-08-22|  1989-08-22| 31|\n",
       "2534832|0.02|0.02|            0|    70|   195|1990-06-23|  1990-06-23| 30|\n",
       "2543583| 0.0| 0.0|            0|    68|   206|1992-03-15|  1992-03-15| 28|\n",
       "2552315|0.07|0.07|            0|    73|   236|1992-06-27|  1992-06-27| 28|\n",
       "2552689|0.03|0.03|            0|    71|   193|1994-01-02|  1994-01-02| 26|\n",
       "2555383|0.06|0.05|            0|    72|   191|1994-04-06|  1994-04-06| 26|\n",
       "2555415| 0.0|0.01|            0|    76|   254|1994-10-29|  1994-10-29| 26|\n",
       "2558175|0.01|0.02|            0|    74|   230|1995-02-23|  1995-02-23| 25|\n",
       "2559033| 0.0| 0.0|            0|    72|   233|1994-04-15|  1994-04-15| 26|\n",
       "    310|0.84|2.05|            1|    76|   217|1985-05-17|  1985-05-17| 35|\n",
       "  79848|5.53| 4.3|            1|    72|   204|1987-12-20|  1987-12-20| 32|\n",
       "2495454|3.11|6.67|            1|    75|   220|1989-02-08|  1989-02-08| 31|\n",
       "2495613|3.52|0.69|            1|   6-0|   196|07/25/1985|  1985-07-25| 35|\n",
       "2533040|6.35|1.21|            1|    74|   215|1989-08-22|  1989-08-22| 31|\n",
       "2534832|2.93|2.65|            1|    70|   195|1990-06-23|  1990-06-23| 30|\n",
       "2543583|3.92|3.23|            1|    68|   206|1992-03-15|  1992-03-15| 28|\n",
       "+-------+----+----+-------------+------+------+----------+------------+---+\n",
       "only showing top 20 rows\n",
       "\n",
       "</div>"
      ]
     },
     "metadata": {
      "application/vnd.databricks.v1+output": {
       "addedWidgets": {},
       "arguments": {},
       "data": "<div class=\"ansiout\">+-------+----+----+-------------+------+------+----------+------------+---+\n|  nflId|   s|   a|offenseResult|height|weight| birthDate|newBirthDate|age|\n+-------+----+----+-------------+------+------+----------+------------+---+\n|    310| 0.0| 0.0|            0|    76|   217|1985-05-17|  1985-05-17| 35|\n|  79848|0.01|0.01|            0|    72|   204|1987-12-20|  1987-12-20| 32|\n|2495454| 0.0|0.01|            0|    75|   220|1989-02-08|  1989-02-08| 31|\n|2495613|0.18|0.07|            0|   6-0|   196|07/25/1985|  1985-07-25| 35|\n|2533040| 0.0| 0.0|            0|    74|   215|1989-08-22|  1989-08-22| 31|\n|2534832|0.02|0.02|            0|    70|   195|1990-06-23|  1990-06-23| 30|\n|2543583| 0.0| 0.0|            0|    68|   206|1992-03-15|  1992-03-15| 28|\n|2552315|0.07|0.07|            0|    73|   236|1992-06-27|  1992-06-27| 28|\n|2552689|0.03|0.03|            0|    71|   193|1994-01-02|  1994-01-02| 26|\n|2555383|0.06|0.05|            0|    72|   191|1994-04-06|  1994-04-06| 26|\n|2555415| 0.0|0.01|            0|    76|   254|1994-10-29|  1994-10-29| 26|\n|2558175|0.01|0.02|            0|    74|   230|1995-02-23|  1995-02-23| 25|\n|2559033| 0.0| 0.0|            0|    72|   233|1994-04-15|  1994-04-15| 26|\n|    310|0.84|2.05|            1|    76|   217|1985-05-17|  1985-05-17| 35|\n|  79848|5.53| 4.3|            1|    72|   204|1987-12-20|  1987-12-20| 32|\n|2495454|3.11|6.67|            1|    75|   220|1989-02-08|  1989-02-08| 31|\n|2495613|3.52|0.69|            1|   6-0|   196|07/25/1985|  1985-07-25| 35|\n|2533040|6.35|1.21|            1|    74|   215|1989-08-22|  1989-08-22| 31|\n|2534832|2.93|2.65|            1|    70|   195|1990-06-23|  1990-06-23| 30|\n|2543583|3.92|3.23|            1|    68|   206|1992-03-15|  1992-03-15| 28|\n+-------+----+----+-------------+------+------+----------+------------+---+\nonly showing top 20 rows\n\n</div>",
       "datasetInfos": [],
       "removedWidgets": [],
       "type": "html"
      }
     },
     "output_type": "display_data"
    }
   ],
   "source": [
    "temp.show()"
   ]
  },
  {
   "cell_type": "code",
   "execution_count": null,
   "metadata": {
    "application/vnd.databricks.v1+cell": {
     "inputWidgets": {},
     "nuid": "f0baa537-abd5-4d1f-959b-036e03a28723",
     "showTitle": false,
     "title": ""
    }
   },
   "outputs": [
    {
     "data": {
      "text/html": [
       "<style scoped>\n",
       "  .ansiout {\n",
       "    display: block;\n",
       "    unicode-bidi: embed;\n",
       "    white-space: pre-wrap;\n",
       "    word-wrap: break-word;\n",
       "    word-break: break-all;\n",
       "    font-family: \"Source Code Pro\", \"Menlo\", monospace;;\n",
       "    font-size: 13px;\n",
       "    color: #555;\n",
       "    margin-left: 4px;\n",
       "    line-height: 19px;\n",
       "  }\n",
       "</style>\n",
       "<div class=\"ansiout\"></div>"
      ]
     },
     "metadata": {
      "application/vnd.databricks.v1+output": {
       "addedWidgets": {},
       "arguments": {},
       "data": "<div class=\"ansiout\"></div>",
       "datasetInfos": [],
       "removedWidgets": [],
       "type": "html"
      }
     },
     "output_type": "display_data"
    }
   ],
   "source": [
    "temp = temp.select(\n",
    "    ['nflId', 's', 'a', 'offenseResult', 'height', 'weight', 'age'])"
   ]
  },
  {
   "cell_type": "code",
   "execution_count": null,
   "metadata": {
    "application/vnd.databricks.v1+cell": {
     "inputWidgets": {},
     "nuid": "f3a614ac-e1aa-4179-8089-354fe01eca5a",
     "showTitle": false,
     "title": ""
    }
   },
   "outputs": [
    {
     "data": {
      "text/html": [
       "<style scoped>\n",
       "  .ansiout {\n",
       "    display: block;\n",
       "    unicode-bidi: embed;\n",
       "    white-space: pre-wrap;\n",
       "    word-wrap: break-word;\n",
       "    word-break: break-all;\n",
       "    font-family: \"Source Code Pro\", \"Menlo\", monospace;;\n",
       "    font-size: 13px;\n",
       "    color: #555;\n",
       "    margin-left: 4px;\n",
       "    line-height: 19px;\n",
       "  }\n",
       "</style>\n",
       "<div class=\"ansiout\">+-------+----+----+-------------+------+------+---+\n",
       "  nflId|   s|   a|offenseResult|height|weight|age|\n",
       "+-------+----+----+-------------+------+------+---+\n",
       "    310| 0.0| 0.0|            0|    76|   217| 35|\n",
       "  79848|0.01|0.01|            0|    72|   204| 32|\n",
       "2495454| 0.0|0.01|            0|    75|   220| 31|\n",
       "2495613|0.18|0.07|            0|   6-0|   196| 35|\n",
       "2533040| 0.0| 0.0|            0|    74|   215| 31|\n",
       "2534832|0.02|0.02|            0|    70|   195| 30|\n",
       "2543583| 0.0| 0.0|            0|    68|   206| 28|\n",
       "2552315|0.07|0.07|            0|    73|   236| 28|\n",
       "2552689|0.03|0.03|            0|    71|   193| 26|\n",
       "2555383|0.06|0.05|            0|    72|   191| 26|\n",
       "2555415| 0.0|0.01|            0|    76|   254| 26|\n",
       "2558175|0.01|0.02|            0|    74|   230| 25|\n",
       "2559033| 0.0| 0.0|            0|    72|   233| 26|\n",
       "    310|0.84|2.05|            1|    76|   217| 35|\n",
       "  79848|5.53| 4.3|            1|    72|   204| 32|\n",
       "2495454|3.11|6.67|            1|    75|   220| 31|\n",
       "2495613|3.52|0.69|            1|   6-0|   196| 35|\n",
       "2533040|6.35|1.21|            1|    74|   215| 31|\n",
       "2534832|2.93|2.65|            1|    70|   195| 30|\n",
       "2543583|3.92|3.23|            1|    68|   206| 28|\n",
       "+-------+----+----+-------------+------+------+---+\n",
       "only showing top 20 rows\n",
       "\n",
       "</div>"
      ]
     },
     "metadata": {
      "application/vnd.databricks.v1+output": {
       "addedWidgets": {},
       "arguments": {},
       "data": "<div class=\"ansiout\">+-------+----+----+-------------+------+------+---+\n|  nflId|   s|   a|offenseResult|height|weight|age|\n+-------+----+----+-------------+------+------+---+\n|    310| 0.0| 0.0|            0|    76|   217| 35|\n|  79848|0.01|0.01|            0|    72|   204| 32|\n|2495454| 0.0|0.01|            0|    75|   220| 31|\n|2495613|0.18|0.07|            0|   6-0|   196| 35|\n|2533040| 0.0| 0.0|            0|    74|   215| 31|\n|2534832|0.02|0.02|            0|    70|   195| 30|\n|2543583| 0.0| 0.0|            0|    68|   206| 28|\n|2552315|0.07|0.07|            0|    73|   236| 28|\n|2552689|0.03|0.03|            0|    71|   193| 26|\n|2555383|0.06|0.05|            0|    72|   191| 26|\n|2555415| 0.0|0.01|            0|    76|   254| 26|\n|2558175|0.01|0.02|            0|    74|   230| 25|\n|2559033| 0.0| 0.0|            0|    72|   233| 26|\n|    310|0.84|2.05|            1|    76|   217| 35|\n|  79848|5.53| 4.3|            1|    72|   204| 32|\n|2495454|3.11|6.67|            1|    75|   220| 31|\n|2495613|3.52|0.69|            1|   6-0|   196| 35|\n|2533040|6.35|1.21|            1|    74|   215| 31|\n|2534832|2.93|2.65|            1|    70|   195| 30|\n|2543583|3.92|3.23|            1|    68|   206| 28|\n+-------+----+----+-------------+------+------+---+\nonly showing top 20 rows\n\n</div>",
       "datasetInfos": [],
       "removedWidgets": [],
       "type": "html"
      }
     },
     "output_type": "display_data"
    }
   ],
   "source": [
    "temp.show()"
   ]
  },
  {
   "cell_type": "code",
   "execution_count": null,
   "metadata": {
    "application/vnd.databricks.v1+cell": {
     "inputWidgets": {},
     "nuid": "4c902b6d-533b-4e6a-baed-7102049e699e",
     "showTitle": false,
     "title": ""
    }
   },
   "outputs": [
    {
     "data": {
      "text/html": [
       "<style scoped>\n",
       "  .ansiout {\n",
       "    display: block;\n",
       "    unicode-bidi: embed;\n",
       "    white-space: pre-wrap;\n",
       "    word-wrap: break-word;\n",
       "    word-break: break-all;\n",
       "    font-family: \"Source Code Pro\", \"Menlo\", monospace;;\n",
       "    font-size: 13px;\n",
       "    color: #555;\n",
       "    margin-left: 4px;\n",
       "    line-height: 19px;\n",
       "  }\n",
       "</style>\n",
       "<div class=\"ansiout\">+-------+----+----+-------------+------+------+---+\n",
       "  nflId|   s|   a|offenseResult|height|weight|age|\n",
       "+-------+----+----+-------------+------+------+---+\n",
       "    310| 0.0| 0.0|            0|    76|   217| 35|\n",
       "  79848|0.01|0.01|            0|    72|   204| 32|\n",
       "2495454| 0.0|0.01|            0|    75|   220| 31|\n",
       "2533040| 0.0| 0.0|            0|    74|   215| 31|\n",
       "2534832|0.02|0.02|            0|    70|   195| 30|\n",
       "2543583| 0.0| 0.0|            0|    68|   206| 28|\n",
       "2552315|0.07|0.07|            0|    73|   236| 28|\n",
       "2552689|0.03|0.03|            0|    71|   193| 26|\n",
       "2555383|0.06|0.05|            0|    72|   191| 26|\n",
       "2555415| 0.0|0.01|            0|    76|   254| 26|\n",
       "2558175|0.01|0.02|            0|    74|   230| 25|\n",
       "2559033| 0.0| 0.0|            0|    72|   233| 26|\n",
       "    310|0.84|2.05|            1|    76|   217| 35|\n",
       "  79848|5.53| 4.3|            1|    72|   204| 32|\n",
       "2495454|3.11|6.67|            1|    75|   220| 31|\n",
       "2533040|6.35|1.21|            1|    74|   215| 31|\n",
       "2534832|2.93|2.65|            1|    70|   195| 30|\n",
       "2543583|3.92|3.23|            1|    68|   206| 28|\n",
       "2552315|3.75|1.49|            1|    73|   236| 28|\n",
       "2552689|2.99|0.69|            1|    71|   193| 26|\n",
       "+-------+----+----+-------------+------+------+---+\n",
       "only showing top 20 rows\n",
       "\n",
       "</div>"
      ]
     },
     "metadata": {
      "application/vnd.databricks.v1+output": {
       "addedWidgets": {},
       "arguments": {},
       "data": "<div class=\"ansiout\">+-------+----+----+-------------+------+------+---+\n|  nflId|   s|   a|offenseResult|height|weight|age|\n+-------+----+----+-------------+------+------+---+\n|    310| 0.0| 0.0|            0|    76|   217| 35|\n|  79848|0.01|0.01|            0|    72|   204| 32|\n|2495454| 0.0|0.01|            0|    75|   220| 31|\n|2533040| 0.0| 0.0|            0|    74|   215| 31|\n|2534832|0.02|0.02|            0|    70|   195| 30|\n|2543583| 0.0| 0.0|            0|    68|   206| 28|\n|2552315|0.07|0.07|            0|    73|   236| 28|\n|2552689|0.03|0.03|            0|    71|   193| 26|\n|2555383|0.06|0.05|            0|    72|   191| 26|\n|2555415| 0.0|0.01|            0|    76|   254| 26|\n|2558175|0.01|0.02|            0|    74|   230| 25|\n|2559033| 0.0| 0.0|            0|    72|   233| 26|\n|    310|0.84|2.05|            1|    76|   217| 35|\n|  79848|5.53| 4.3|            1|    72|   204| 32|\n|2495454|3.11|6.67|            1|    75|   220| 31|\n|2533040|6.35|1.21|            1|    74|   215| 31|\n|2534832|2.93|2.65|            1|    70|   195| 30|\n|2543583|3.92|3.23|            1|    68|   206| 28|\n|2552315|3.75|1.49|            1|    73|   236| 28|\n|2552689|2.99|0.69|            1|    71|   193| 26|\n+-------+----+----+-------------+------+------+---+\nonly showing top 20 rows\n\n</div>",
       "datasetInfos": [],
       "removedWidgets": [],
       "type": "html"
      }
     },
     "output_type": "display_data"
    }
   ],
   "source": [
    "height_df = temp.filter(~temp.height.contains('-'))\n",
    "height_df.show()"
   ]
  },
  {
   "cell_type": "code",
   "execution_count": null,
   "metadata": {
    "application/vnd.databricks.v1+cell": {
     "inputWidgets": {},
     "nuid": "5354f734-7893-46c1-a918-1c8001922344",
     "showTitle": false,
     "title": ""
    }
   },
   "outputs": [
    {
     "data": {
      "text/html": [
       "<style scoped>\n",
       "  .ansiout {\n",
       "    display: block;\n",
       "    unicode-bidi: embed;\n",
       "    white-space: pre-wrap;\n",
       "    word-wrap: break-word;\n",
       "    word-break: break-all;\n",
       "    font-family: \"Source Code Pro\", \"Menlo\", monospace;;\n",
       "    font-size: 13px;\n",
       "    color: #555;\n",
       "    margin-left: 4px;\n",
       "    line-height: 19px;\n",
       "  }\n",
       "</style>\n",
       "<div class=\"ansiout\">+-------+----+----+-------------+------+------+---+\n",
       "  nflId|   s|   a|offenseResult|height|weight|age|\n",
       "+-------+----+----+-------------+------+------+---+\n",
       "2495613|0.18|0.07|            0|   6-0|   196| 35|\n",
       "2495613|3.52|0.69|            1|   6-0|   196| 35|\n",
       "2495613|3.64|4.01|            1|   6-0|   196| 35|\n",
       "2495613|4.65|2.84|            1|   6-0|   196| 35|\n",
       "2495613|4.44| 1.8|            0|   6-0|   196| 35|\n",
       "2495613|1.36|1.03|            0|   6-0|   196| 35|\n",
       "2495613|3.53|3.74|            1|   6-0|   196| 35|\n",
       "2495613| 8.2|0.33|            1|   6-0|   196| 35|\n",
       "2495613|8.51|1.09|            1|   6-0|   196| 35|\n",
       "2495613|8.53|0.75|            0|   6-0|   196| 35|\n",
       "2495613|7.67|2.53|            0|   6-0|   196| 35|\n",
       "2507828| 0.0| 0.0|            0|   6-5|   268| 33|\n",
       "2507828|2.77|2.28|            1|   6-5|   268| 33|\n",
       "2507828| 2.3|0.81|            1|   6-5|   268| 33|\n",
       "2507828|2.11| 0.5|            0|   6-5|   268| 33|\n",
       "2507763| 0.0| 0.0|            0|   6-0|   200| 34|\n",
       "2552582| 0.0| 0.0|            0|   6-0|   223| 27|\n",
       "2507763|5.45|4.52|            1|   6-0|   200| 34|\n",
       "2552582|4.44|1.26|            1|   6-0|   223| 27|\n",
       "2507763|5.42|3.31|            1|   6-0|   200| 34|\n",
       "+-------+----+----+-------------+------+------+---+\n",
       "only showing top 20 rows\n",
       "\n",
       "</div>"
      ]
     },
     "metadata": {
      "application/vnd.databricks.v1+output": {
       "addedWidgets": {},
       "arguments": {},
       "data": "<div class=\"ansiout\">+-------+----+----+-------------+------+------+---+\n|  nflId|   s|   a|offenseResult|height|weight|age|\n+-------+----+----+-------------+------+------+---+\n|2495613|0.18|0.07|            0|   6-0|   196| 35|\n|2495613|3.52|0.69|            1|   6-0|   196| 35|\n|2495613|3.64|4.01|            1|   6-0|   196| 35|\n|2495613|4.65|2.84|            1|   6-0|   196| 35|\n|2495613|4.44| 1.8|            0|   6-0|   196| 35|\n|2495613|1.36|1.03|            0|   6-0|   196| 35|\n|2495613|3.53|3.74|            1|   6-0|   196| 35|\n|2495613| 8.2|0.33|            1|   6-0|   196| 35|\n|2495613|8.51|1.09|            1|   6-0|   196| 35|\n|2495613|8.53|0.75|            0|   6-0|   196| 35|\n|2495613|7.67|2.53|            0|   6-0|   196| 35|\n|2507828| 0.0| 0.0|            0|   6-5|   268| 33|\n|2507828|2.77|2.28|            1|   6-5|   268| 33|\n|2507828| 2.3|0.81|            1|   6-5|   268| 33|\n|2507828|2.11| 0.5|            0|   6-5|   268| 33|\n|2507763| 0.0| 0.0|            0|   6-0|   200| 34|\n|2552582| 0.0| 0.0|            0|   6-0|   223| 27|\n|2507763|5.45|4.52|            1|   6-0|   200| 34|\n|2552582|4.44|1.26|            1|   6-0|   223| 27|\n|2507763|5.42|3.31|            1|   6-0|   200| 34|\n+-------+----+----+-------------+------+------+---+\nonly showing top 20 rows\n\n</div>",
       "datasetInfos": [],
       "removedWidgets": [],
       "type": "html"
      }
     },
     "output_type": "display_data"
    }
   ],
   "source": [
    "preprocessedHeight = temp.where(temp.height.contains('-'))\n",
    "preprocessedHeight.show()"
   ]
  },
  {
   "cell_type": "code",
   "execution_count": null,
   "metadata": {
    "application/vnd.databricks.v1+cell": {
     "inputWidgets": {},
     "nuid": "0f550e1c-c115-4d97-a8b5-78981d0bf677",
     "showTitle": false,
     "title": ""
    }
   },
   "outputs": [
    {
     "data": {
      "text/html": [
       "<style scoped>\n",
       "  .ansiout {\n",
       "    display: block;\n",
       "    unicode-bidi: embed;\n",
       "    white-space: pre-wrap;\n",
       "    word-wrap: break-word;\n",
       "    word-break: break-all;\n",
       "    font-family: \"Source Code Pro\", \"Menlo\", monospace;;\n",
       "    font-size: 13px;\n",
       "    color: #555;\n",
       "    margin-left: 4px;\n",
       "    line-height: 19px;\n",
       "  }\n",
       "</style>\n",
       "<div class=\"ansiout\">+-------+----+----+-------------+------+------+---+----+----+\n",
       "nflId  |s   |a   |offenseResult|height|weight|age|foot|inch|\n",
       "+-------+----+----+-------------+------+------+---+----+----+\n",
       "2495613|0.18|0.07|0            |6-0   |196   |35 |6   |0   |\n",
       "2495613|3.52|0.69|1            |6-0   |196   |35 |6   |0   |\n",
       "2495613|3.64|4.01|1            |6-0   |196   |35 |6   |0   |\n",
       "2495613|4.65|2.84|1            |6-0   |196   |35 |6   |0   |\n",
       "2495613|4.44|1.8 |0            |6-0   |196   |35 |6   |0   |\n",
       "2495613|1.36|1.03|0            |6-0   |196   |35 |6   |0   |\n",
       "2495613|3.53|3.74|1            |6-0   |196   |35 |6   |0   |\n",
       "2495613|8.2 |0.33|1            |6-0   |196   |35 |6   |0   |\n",
       "2495613|8.51|1.09|1            |6-0   |196   |35 |6   |0   |\n",
       "2495613|8.53|0.75|0            |6-0   |196   |35 |6   |0   |\n",
       "2495613|7.67|2.53|0            |6-0   |196   |35 |6   |0   |\n",
       "2507828|0.0 |0.0 |0            |6-5   |268   |33 |6   |5   |\n",
       "2507828|2.77|2.28|1            |6-5   |268   |33 |6   |5   |\n",
       "2507828|2.3 |0.81|1            |6-5   |268   |33 |6   |5   |\n",
       "2507828|2.11|0.5 |0            |6-5   |268   |33 |6   |5   |\n",
       "2507763|0.0 |0.0 |0            |6-0   |200   |34 |6   |0   |\n",
       "2552582|0.0 |0.0 |0            |6-0   |223   |27 |6   |0   |\n",
       "2507763|5.45|4.52|1            |6-0   |200   |34 |6   |0   |\n",
       "2552582|4.44|1.26|1            |6-0   |223   |27 |6   |0   |\n",
       "2507763|5.42|3.31|1            |6-0   |200   |34 |6   |0   |\n",
       "+-------+----+----+-------------+------+------+---+----+----+\n",
       "only showing top 20 rows\n",
       "\n",
       "</div>"
      ]
     },
     "metadata": {
      "application/vnd.databricks.v1+output": {
       "addedWidgets": {},
       "arguments": {},
       "data": "<div class=\"ansiout\">+-------+----+----+-------------+------+------+---+----+----+\n|nflId  |s   |a   |offenseResult|height|weight|age|foot|inch|\n+-------+----+----+-------------+------+------+---+----+----+\n|2495613|0.18|0.07|0            |6-0   |196   |35 |6   |0   |\n|2495613|3.52|0.69|1            |6-0   |196   |35 |6   |0   |\n|2495613|3.64|4.01|1            |6-0   |196   |35 |6   |0   |\n|2495613|4.65|2.84|1            |6-0   |196   |35 |6   |0   |\n|2495613|4.44|1.8 |0            |6-0   |196   |35 |6   |0   |\n|2495613|1.36|1.03|0            |6-0   |196   |35 |6   |0   |\n|2495613|3.53|3.74|1            |6-0   |196   |35 |6   |0   |\n|2495613|8.2 |0.33|1            |6-0   |196   |35 |6   |0   |\n|2495613|8.51|1.09|1            |6-0   |196   |35 |6   |0   |\n|2495613|8.53|0.75|0            |6-0   |196   |35 |6   |0   |\n|2495613|7.67|2.53|0            |6-0   |196   |35 |6   |0   |\n|2507828|0.0 |0.0 |0            |6-5   |268   |33 |6   |5   |\n|2507828|2.77|2.28|1            |6-5   |268   |33 |6   |5   |\n|2507828|2.3 |0.81|1            |6-5   |268   |33 |6   |5   |\n|2507828|2.11|0.5 |0            |6-5   |268   |33 |6   |5   |\n|2507763|0.0 |0.0 |0            |6-0   |200   |34 |6   |0   |\n|2552582|0.0 |0.0 |0            |6-0   |223   |27 |6   |0   |\n|2507763|5.45|4.52|1            |6-0   |200   |34 |6   |0   |\n|2552582|4.44|1.26|1            |6-0   |223   |27 |6   |0   |\n|2507763|5.42|3.31|1            |6-0   |200   |34 |6   |0   |\n+-------+----+----+-------------+------+------+---+----+----+\nonly showing top 20 rows\n\n</div>",
       "datasetInfos": [],
       "removedWidgets": [],
       "type": "html"
      }
     },
     "output_type": "display_data"
    }
   ],
   "source": [
    "df1 = preprocessedHeight.withColumn('foot', split(preprocessedHeight['height'], '-').getItem(0)) \\\n",
    "       .withColumn('inch', split(preprocessedHeight['height'], '-').getItem(1))\n",
    "df1.show(truncate=False)"
   ]
  },
  {
   "cell_type": "code",
   "execution_count": null,
   "metadata": {
    "application/vnd.databricks.v1+cell": {
     "inputWidgets": {},
     "nuid": "479c53f8-9c1c-4b71-9a69-cdd45be0617c",
     "showTitle": false,
     "title": ""
    }
   },
   "outputs": [
    {
     "data": {
      "text/html": [
       "<style scoped>\n",
       "  .ansiout {\n",
       "    display: block;\n",
       "    unicode-bidi: embed;\n",
       "    white-space: pre-wrap;\n",
       "    word-wrap: break-word;\n",
       "    word-break: break-all;\n",
       "    font-family: \"Source Code Pro\", \"Menlo\", monospace;;\n",
       "    font-size: 13px;\n",
       "    color: #555;\n",
       "    margin-left: 4px;\n",
       "    line-height: 19px;\n",
       "  }\n",
       "</style>\n",
       "<div class=\"ansiout\">+-------+----+----+-------------+------+------+---+----+----+---------+\n",
       "  nflId|   s|   a|offenseResult|height|weight|age|foot|inch|newHeight|\n",
       "+-------+----+----+-------------+------+------+---+----+----+---------+\n",
       "2495613|0.18|0.07|            0|   6-0|   196| 35|   6|   0|     72.0|\n",
       "2495613|3.52|0.69|            1|   6-0|   196| 35|   6|   0|     72.0|\n",
       "2495613|3.64|4.01|            1|   6-0|   196| 35|   6|   0|     72.0|\n",
       "2495613|4.65|2.84|            1|   6-0|   196| 35|   6|   0|     72.0|\n",
       "2495613|4.44| 1.8|            0|   6-0|   196| 35|   6|   0|     72.0|\n",
       "2495613|1.36|1.03|            0|   6-0|   196| 35|   6|   0|     72.0|\n",
       "2495613|3.53|3.74|            1|   6-0|   196| 35|   6|   0|     72.0|\n",
       "2495613| 8.2|0.33|            1|   6-0|   196| 35|   6|   0|     72.0|\n",
       "2495613|8.51|1.09|            1|   6-0|   196| 35|   6|   0|     72.0|\n",
       "2495613|8.53|0.75|            0|   6-0|   196| 35|   6|   0|     72.0|\n",
       "2495613|7.67|2.53|            0|   6-0|   196| 35|   6|   0|     72.0|\n",
       "2507828| 0.0| 0.0|            0|   6-5|   268| 33|   6|   5|     77.0|\n",
       "2507828|2.77|2.28|            1|   6-5|   268| 33|   6|   5|     77.0|\n",
       "2507828| 2.3|0.81|            1|   6-5|   268| 33|   6|   5|     77.0|\n",
       "2507828|2.11| 0.5|            0|   6-5|   268| 33|   6|   5|     77.0|\n",
       "2507763| 0.0| 0.0|            0|   6-0|   200| 34|   6|   0|     72.0|\n",
       "2552582| 0.0| 0.0|            0|   6-0|   223| 27|   6|   0|     72.0|\n",
       "2507763|5.45|4.52|            1|   6-0|   200| 34|   6|   0|     72.0|\n",
       "2552582|4.44|1.26|            1|   6-0|   223| 27|   6|   0|     72.0|\n",
       "2507763|5.42|3.31|            1|   6-0|   200| 34|   6|   0|     72.0|\n",
       "+-------+----+----+-------------+------+------+---+----+----+---------+\n",
       "only showing top 20 rows\n",
       "\n",
       "</div>"
      ]
     },
     "metadata": {
      "application/vnd.databricks.v1+output": {
       "addedWidgets": {},
       "arguments": {},
       "data": "<div class=\"ansiout\">+-------+----+----+-------------+------+------+---+----+----+---------+\n|  nflId|   s|   a|offenseResult|height|weight|age|foot|inch|newHeight|\n+-------+----+----+-------------+------+------+---+----+----+---------+\n|2495613|0.18|0.07|            0|   6-0|   196| 35|   6|   0|     72.0|\n|2495613|3.52|0.69|            1|   6-0|   196| 35|   6|   0|     72.0|\n|2495613|3.64|4.01|            1|   6-0|   196| 35|   6|   0|     72.0|\n|2495613|4.65|2.84|            1|   6-0|   196| 35|   6|   0|     72.0|\n|2495613|4.44| 1.8|            0|   6-0|   196| 35|   6|   0|     72.0|\n|2495613|1.36|1.03|            0|   6-0|   196| 35|   6|   0|     72.0|\n|2495613|3.53|3.74|            1|   6-0|   196| 35|   6|   0|     72.0|\n|2495613| 8.2|0.33|            1|   6-0|   196| 35|   6|   0|     72.0|\n|2495613|8.51|1.09|            1|   6-0|   196| 35|   6|   0|     72.0|\n|2495613|8.53|0.75|            0|   6-0|   196| 35|   6|   0|     72.0|\n|2495613|7.67|2.53|            0|   6-0|   196| 35|   6|   0|     72.0|\n|2507828| 0.0| 0.0|            0|   6-5|   268| 33|   6|   5|     77.0|\n|2507828|2.77|2.28|            1|   6-5|   268| 33|   6|   5|     77.0|\n|2507828| 2.3|0.81|            1|   6-5|   268| 33|   6|   5|     77.0|\n|2507828|2.11| 0.5|            0|   6-5|   268| 33|   6|   5|     77.0|\n|2507763| 0.0| 0.0|            0|   6-0|   200| 34|   6|   0|     72.0|\n|2552582| 0.0| 0.0|            0|   6-0|   223| 27|   6|   0|     72.0|\n|2507763|5.45|4.52|            1|   6-0|   200| 34|   6|   0|     72.0|\n|2552582|4.44|1.26|            1|   6-0|   223| 27|   6|   0|     72.0|\n|2507763|5.42|3.31|            1|   6-0|   200| 34|   6|   0|     72.0|\n+-------+----+----+-------------+------+------+---+----+----+---------+\nonly showing top 20 rows\n\n</div>",
       "datasetInfos": [],
       "removedWidgets": [],
       "type": "html"
      }
     },
     "output_type": "display_data"
    }
   ],
   "source": [
    "df1 = df1.withColumn('newHeight', 12 * df1['foot'] + df1['inch'])\n",
    "df1.show()"
   ]
  },
  {
   "cell_type": "code",
   "execution_count": null,
   "metadata": {
    "application/vnd.databricks.v1+cell": {
     "inputWidgets": {},
     "nuid": "982728cf-3cd1-4a72-9ce0-0ed26c38a2aa",
     "showTitle": false,
     "title": ""
    }
   },
   "outputs": [
    {
     "data": {
      "text/html": [
       "<style scoped>\n",
       "  .ansiout {\n",
       "    display: block;\n",
       "    unicode-bidi: embed;\n",
       "    white-space: pre-wrap;\n",
       "    word-wrap: break-word;\n",
       "    word-break: break-all;\n",
       "    font-family: \"Source Code Pro\", \"Menlo\", monospace;;\n",
       "    font-size: 13px;\n",
       "    color: #555;\n",
       "    margin-left: 4px;\n",
       "    line-height: 19px;\n",
       "  }\n",
       "</style>\n",
       "<div class=\"ansiout\">+-------+----+----+-------------+------+------+---+----+----+---------+\n",
       "  nflId|   s|   a|offenseResult|height|weight|age|foot|inch|newHeight|\n",
       "+-------+----+----+-------------+------+------+---+----+----+---------+\n",
       "2495613|0.18|0.07|            0|  72.0|   196| 35|   6|   0|     72.0|\n",
       "2495613|3.52|0.69|            1|  72.0|   196| 35|   6|   0|     72.0|\n",
       "2495613|3.64|4.01|            1|  72.0|   196| 35|   6|   0|     72.0|\n",
       "2495613|4.65|2.84|            1|  72.0|   196| 35|   6|   0|     72.0|\n",
       "2495613|4.44| 1.8|            0|  72.0|   196| 35|   6|   0|     72.0|\n",
       "2495613|1.36|1.03|            0|  72.0|   196| 35|   6|   0|     72.0|\n",
       "2495613|3.53|3.74|            1|  72.0|   196| 35|   6|   0|     72.0|\n",
       "2495613| 8.2|0.33|            1|  72.0|   196| 35|   6|   0|     72.0|\n",
       "2495613|8.51|1.09|            1|  72.0|   196| 35|   6|   0|     72.0|\n",
       "2495613|8.53|0.75|            0|  72.0|   196| 35|   6|   0|     72.0|\n",
       "2495613|7.67|2.53|            0|  72.0|   196| 35|   6|   0|     72.0|\n",
       "2507828| 0.0| 0.0|            0|  77.0|   268| 33|   6|   5|     77.0|\n",
       "2507828|2.77|2.28|            1|  77.0|   268| 33|   6|   5|     77.0|\n",
       "2507828| 2.3|0.81|            1|  77.0|   268| 33|   6|   5|     77.0|\n",
       "2507828|2.11| 0.5|            0|  77.0|   268| 33|   6|   5|     77.0|\n",
       "2507763| 0.0| 0.0|            0|  72.0|   200| 34|   6|   0|     72.0|\n",
       "2552582| 0.0| 0.0|            0|  72.0|   223| 27|   6|   0|     72.0|\n",
       "2507763|5.45|4.52|            1|  72.0|   200| 34|   6|   0|     72.0|\n",
       "2552582|4.44|1.26|            1|  72.0|   223| 27|   6|   0|     72.0|\n",
       "2507763|5.42|3.31|            1|  72.0|   200| 34|   6|   0|     72.0|\n",
       "+-------+----+----+-------------+------+------+---+----+----+---------+\n",
       "only showing top 20 rows\n",
       "\n",
       "</div>"
      ]
     },
     "metadata": {
      "application/vnd.databricks.v1+output": {
       "addedWidgets": {},
       "arguments": {},
       "data": "<div class=\"ansiout\">+-------+----+----+-------------+------+------+---+----+----+---------+\n|  nflId|   s|   a|offenseResult|height|weight|age|foot|inch|newHeight|\n+-------+----+----+-------------+------+------+---+----+----+---------+\n|2495613|0.18|0.07|            0|  72.0|   196| 35|   6|   0|     72.0|\n|2495613|3.52|0.69|            1|  72.0|   196| 35|   6|   0|     72.0|\n|2495613|3.64|4.01|            1|  72.0|   196| 35|   6|   0|     72.0|\n|2495613|4.65|2.84|            1|  72.0|   196| 35|   6|   0|     72.0|\n|2495613|4.44| 1.8|            0|  72.0|   196| 35|   6|   0|     72.0|\n|2495613|1.36|1.03|            0|  72.0|   196| 35|   6|   0|     72.0|\n|2495613|3.53|3.74|            1|  72.0|   196| 35|   6|   0|     72.0|\n|2495613| 8.2|0.33|            1|  72.0|   196| 35|   6|   0|     72.0|\n|2495613|8.51|1.09|            1|  72.0|   196| 35|   6|   0|     72.0|\n|2495613|8.53|0.75|            0|  72.0|   196| 35|   6|   0|     72.0|\n|2495613|7.67|2.53|            0|  72.0|   196| 35|   6|   0|     72.0|\n|2507828| 0.0| 0.0|            0|  77.0|   268| 33|   6|   5|     77.0|\n|2507828|2.77|2.28|            1|  77.0|   268| 33|   6|   5|     77.0|\n|2507828| 2.3|0.81|            1|  77.0|   268| 33|   6|   5|     77.0|\n|2507828|2.11| 0.5|            0|  77.0|   268| 33|   6|   5|     77.0|\n|2507763| 0.0| 0.0|            0|  72.0|   200| 34|   6|   0|     72.0|\n|2552582| 0.0| 0.0|            0|  72.0|   223| 27|   6|   0|     72.0|\n|2507763|5.45|4.52|            1|  72.0|   200| 34|   6|   0|     72.0|\n|2552582|4.44|1.26|            1|  72.0|   223| 27|   6|   0|     72.0|\n|2507763|5.42|3.31|            1|  72.0|   200| 34|   6|   0|     72.0|\n+-------+----+----+-------------+------+------+---+----+----+---------+\nonly showing top 20 rows\n\n</div>",
       "datasetInfos": [],
       "removedWidgets": [],
       "type": "html"
      }
     },
     "output_type": "display_data"
    }
   ],
   "source": [
    "df1 = df1.withColumn('height', when(df1.height.contains('-'), df1.newHeight))\n",
    "df1.show()"
   ]
  },
  {
   "cell_type": "code",
   "execution_count": null,
   "metadata": {
    "application/vnd.databricks.v1+cell": {
     "inputWidgets": {},
     "nuid": "6e068785-7937-4969-aeff-68a79c90fe2b",
     "showTitle": false,
     "title": ""
    }
   },
   "outputs": [
    {
     "data": {
      "text/html": [
       "<style scoped>\n",
       "  .ansiout {\n",
       "    display: block;\n",
       "    unicode-bidi: embed;\n",
       "    white-space: pre-wrap;\n",
       "    word-wrap: break-word;\n",
       "    word-break: break-all;\n",
       "    font-family: \"Source Code Pro\", \"Menlo\", monospace;;\n",
       "    font-size: 13px;\n",
       "    color: #555;\n",
       "    margin-left: 4px;\n",
       "    line-height: 19px;\n",
       "  }\n",
       "</style>\n",
       "<div class=\"ansiout\">+-------+----+----+-------------+------+------+---+\n",
       "  nflId|   s|   a|offenseResult|height|weight|age|\n",
       "+-------+----+----+-------------+------+------+---+\n",
       "2495613|0.18|0.07|            0|  72.0|   196| 35|\n",
       "2495613|3.52|0.69|            1|  72.0|   196| 35|\n",
       "2495613|3.64|4.01|            1|  72.0|   196| 35|\n",
       "2495613|4.65|2.84|            1|  72.0|   196| 35|\n",
       "2495613|4.44| 1.8|            0|  72.0|   196| 35|\n",
       "2495613|1.36|1.03|            0|  72.0|   196| 35|\n",
       "2495613|3.53|3.74|            1|  72.0|   196| 35|\n",
       "2495613| 8.2|0.33|            1|  72.0|   196| 35|\n",
       "2495613|8.51|1.09|            1|  72.0|   196| 35|\n",
       "2495613|8.53|0.75|            0|  72.0|   196| 35|\n",
       "2495613|7.67|2.53|            0|  72.0|   196| 35|\n",
       "2507828| 0.0| 0.0|            0|  77.0|   268| 33|\n",
       "2507828|2.77|2.28|            1|  77.0|   268| 33|\n",
       "2507828| 2.3|0.81|            1|  77.0|   268| 33|\n",
       "2507828|2.11| 0.5|            0|  77.0|   268| 33|\n",
       "2507763| 0.0| 0.0|            0|  72.0|   200| 34|\n",
       "2552582| 0.0| 0.0|            0|  72.0|   223| 27|\n",
       "2507763|5.45|4.52|            1|  72.0|   200| 34|\n",
       "2552582|4.44|1.26|            1|  72.0|   223| 27|\n",
       "2507763|5.42|3.31|            1|  72.0|   200| 34|\n",
       "+-------+----+----+-------------+------+------+---+\n",
       "only showing top 20 rows\n",
       "\n",
       "</div>"
      ]
     },
     "metadata": {
      "application/vnd.databricks.v1+output": {
       "addedWidgets": {},
       "arguments": {},
       "data": "<div class=\"ansiout\">+-------+----+----+-------------+------+------+---+\n|  nflId|   s|   a|offenseResult|height|weight|age|\n+-------+----+----+-------------+------+------+---+\n|2495613|0.18|0.07|            0|  72.0|   196| 35|\n|2495613|3.52|0.69|            1|  72.0|   196| 35|\n|2495613|3.64|4.01|            1|  72.0|   196| 35|\n|2495613|4.65|2.84|            1|  72.0|   196| 35|\n|2495613|4.44| 1.8|            0|  72.0|   196| 35|\n|2495613|1.36|1.03|            0|  72.0|   196| 35|\n|2495613|3.53|3.74|            1|  72.0|   196| 35|\n|2495613| 8.2|0.33|            1|  72.0|   196| 35|\n|2495613|8.51|1.09|            1|  72.0|   196| 35|\n|2495613|8.53|0.75|            0|  72.0|   196| 35|\n|2495613|7.67|2.53|            0|  72.0|   196| 35|\n|2507828| 0.0| 0.0|            0|  77.0|   268| 33|\n|2507828|2.77|2.28|            1|  77.0|   268| 33|\n|2507828| 2.3|0.81|            1|  77.0|   268| 33|\n|2507828|2.11| 0.5|            0|  77.0|   268| 33|\n|2507763| 0.0| 0.0|            0|  72.0|   200| 34|\n|2552582| 0.0| 0.0|            0|  72.0|   223| 27|\n|2507763|5.45|4.52|            1|  72.0|   200| 34|\n|2552582|4.44|1.26|            1|  72.0|   223| 27|\n|2507763|5.42|3.31|            1|  72.0|   200| 34|\n+-------+----+----+-------------+------+------+---+\nonly showing top 20 rows\n\n</div>",
       "datasetInfos": [],
       "removedWidgets": [],
       "type": "html"
      }
     },
     "output_type": "display_data"
    }
   ],
   "source": [
    "df1 = df1.select(\n",
    "    ['nflId', 's', 'a', 'offenseResult', 'height', 'weight', 'age'])\n",
    "df1.show()"
   ]
  },
  {
   "cell_type": "code",
   "execution_count": null,
   "metadata": {
    "application/vnd.databricks.v1+cell": {
     "inputWidgets": {},
     "nuid": "64485145-37ff-4c62-b2bb-ab15a6325b4f",
     "showTitle": false,
     "title": ""
    }
   },
   "outputs": [
    {
     "data": {
      "text/html": [
       "<style scoped>\n",
       "  .ansiout {\n",
       "    display: block;\n",
       "    unicode-bidi: embed;\n",
       "    white-space: pre-wrap;\n",
       "    word-wrap: break-word;\n",
       "    word-break: break-all;\n",
       "    font-family: \"Source Code Pro\", \"Menlo\", monospace;;\n",
       "    font-size: 13px;\n",
       "    color: #555;\n",
       "    margin-left: 4px;\n",
       "    line-height: 19px;\n",
       "  }\n",
       "</style>\n",
       "<div class=\"ansiout\"></div>"
      ]
     },
     "metadata": {
      "application/vnd.databricks.v1+output": {
       "addedWidgets": {},
       "arguments": {},
       "data": "<div class=\"ansiout\"></div>",
       "datasetInfos": [],
       "removedWidgets": [],
       "type": "html"
      }
     },
     "output_type": "display_data"
    }
   ],
   "source": [
    "final_df = height_df.union(df1)"
   ]
  },
  {
   "cell_type": "code",
   "execution_count": null,
   "metadata": {
    "application/vnd.databricks.v1+cell": {
     "inputWidgets": {},
     "nuid": "e53bdd15-9264-470c-9bbb-0e52f19ff077",
     "showTitle": false,
     "title": ""
    }
   },
   "outputs": [
    {
     "data": {
      "text/html": [
       "<style scoped>\n",
       "  .ansiout {\n",
       "    display: block;\n",
       "    unicode-bidi: embed;\n",
       "    white-space: pre-wrap;\n",
       "    word-wrap: break-word;\n",
       "    word-break: break-all;\n",
       "    font-family: \"Source Code Pro\", \"Menlo\", monospace;;\n",
       "    font-size: 13px;\n",
       "    color: #555;\n",
       "    margin-left: 4px;\n",
       "    line-height: 19px;\n",
       "  }\n",
       "</style>\n",
       "<div class=\"ansiout\"></div>"
      ]
     },
     "metadata": {
      "application/vnd.databricks.v1+output": {
       "addedWidgets": {},
       "arguments": {},
       "data": "<div class=\"ansiout\"></div>",
       "datasetInfos": [],
       "removedWidgets": [],
       "type": "html"
      }
     },
     "output_type": "display_data"
    }
   ],
   "source": [
    "final_df = final_df.withColumn('height',\n",
    "                               final_df.height.cast('float').alias('height'))"
   ]
  },
  {
   "cell_type": "code",
   "execution_count": null,
   "metadata": {
    "application/vnd.databricks.v1+cell": {
     "inputWidgets": {},
     "nuid": "ffb26800-6521-4cb3-92cd-dd8cc0cc65ce",
     "showTitle": false,
     "title": ""
    }
   },
   "outputs": [
    {
     "data": {
      "text/html": [
       "<style scoped>\n",
       "  .ansiout {\n",
       "    display: block;\n",
       "    unicode-bidi: embed;\n",
       "    white-space: pre-wrap;\n",
       "    word-wrap: break-word;\n",
       "    word-break: break-all;\n",
       "    font-family: \"Source Code Pro\", \"Menlo\", monospace;;\n",
       "    font-size: 13px;\n",
       "    color: #555;\n",
       "    margin-left: 4px;\n",
       "    line-height: 19px;\n",
       "  }\n",
       "</style>\n",
       "<div class=\"ansiout\">+-------+----+----+-------------+------+------+---+\n",
       "  nflId|   s|   a|offenseResult|height|weight|age|\n",
       "+-------+----+----+-------------+------+------+---+\n",
       "    310| 0.0| 0.0|            0|  76.0|   217| 35|\n",
       "  79848|0.01|0.01|            0|  72.0|   204| 32|\n",
       "2495454| 0.0|0.01|            0|  75.0|   220| 31|\n",
       "2533040| 0.0| 0.0|            0|  74.0|   215| 31|\n",
       "2534832|0.02|0.02|            0|  70.0|   195| 30|\n",
       "2543583| 0.0| 0.0|            0|  68.0|   206| 28|\n",
       "2552315|0.07|0.07|            0|  73.0|   236| 28|\n",
       "2552689|0.03|0.03|            0|  71.0|   193| 26|\n",
       "2555383|0.06|0.05|            0|  72.0|   191| 26|\n",
       "2555415| 0.0|0.01|            0|  76.0|   254| 26|\n",
       "2558175|0.01|0.02|            0|  74.0|   230| 25|\n",
       "2559033| 0.0| 0.0|            0|  72.0|   233| 26|\n",
       "    310|0.84|2.05|            1|  76.0|   217| 35|\n",
       "  79848|5.53| 4.3|            1|  72.0|   204| 32|\n",
       "2495454|3.11|6.67|            1|  75.0|   220| 31|\n",
       "2533040|6.35|1.21|            1|  74.0|   215| 31|\n",
       "2534832|2.93|2.65|            1|  70.0|   195| 30|\n",
       "2543583|3.92|3.23|            1|  68.0|   206| 28|\n",
       "2552315|3.75|1.49|            1|  73.0|   236| 28|\n",
       "2552689|2.99|0.69|            1|  71.0|   193| 26|\n",
       "+-------+----+----+-------------+------+------+---+\n",
       "only showing top 20 rows\n",
       "\n",
       "</div>"
      ]
     },
     "metadata": {
      "application/vnd.databricks.v1+output": {
       "addedWidgets": {},
       "arguments": {},
       "data": "<div class=\"ansiout\">+-------+----+----+-------------+------+------+---+\n|  nflId|   s|   a|offenseResult|height|weight|age|\n+-------+----+----+-------------+------+------+---+\n|    310| 0.0| 0.0|            0|  76.0|   217| 35|\n|  79848|0.01|0.01|            0|  72.0|   204| 32|\n|2495454| 0.0|0.01|            0|  75.0|   220| 31|\n|2533040| 0.0| 0.0|            0|  74.0|   215| 31|\n|2534832|0.02|0.02|            0|  70.0|   195| 30|\n|2543583| 0.0| 0.0|            0|  68.0|   206| 28|\n|2552315|0.07|0.07|            0|  73.0|   236| 28|\n|2552689|0.03|0.03|            0|  71.0|   193| 26|\n|2555383|0.06|0.05|            0|  72.0|   191| 26|\n|2555415| 0.0|0.01|            0|  76.0|   254| 26|\n|2558175|0.01|0.02|            0|  74.0|   230| 25|\n|2559033| 0.0| 0.0|            0|  72.0|   233| 26|\n|    310|0.84|2.05|            1|  76.0|   217| 35|\n|  79848|5.53| 4.3|            1|  72.0|   204| 32|\n|2495454|3.11|6.67|            1|  75.0|   220| 31|\n|2533040|6.35|1.21|            1|  74.0|   215| 31|\n|2534832|2.93|2.65|            1|  70.0|   195| 30|\n|2543583|3.92|3.23|            1|  68.0|   206| 28|\n|2552315|3.75|1.49|            1|  73.0|   236| 28|\n|2552689|2.99|0.69|            1|  71.0|   193| 26|\n+-------+----+----+-------------+------+------+---+\nonly showing top 20 rows\n\n</div>",
       "datasetInfos": [],
       "removedWidgets": [],
       "type": "html"
      }
     },
     "output_type": "display_data"
    }
   ],
   "source": [
    "final_df.show()"
   ]
  },
  {
   "cell_type": "code",
   "execution_count": null,
   "metadata": {
    "application/vnd.databricks.v1+cell": {
     "inputWidgets": {},
     "nuid": "2bdad967-8158-4352-b4d8-ceeda7abadb5",
     "showTitle": false,
     "title": ""
    }
   },
   "outputs": [
    {
     "data": {
      "text/html": [
       "<style scoped>\n",
       "  .ansiout {\n",
       "    display: block;\n",
       "    unicode-bidi: embed;\n",
       "    white-space: pre-wrap;\n",
       "    word-wrap: break-word;\n",
       "    word-break: break-all;\n",
       "    font-family: \"Source Code Pro\", \"Menlo\", monospace;;\n",
       "    font-size: 13px;\n",
       "    color: #555;\n",
       "    margin-left: 4px;\n",
       "    line-height: 19px;\n",
       "  }\n",
       "</style>\n",
       "<div class=\"ansiout\"></div>"
      ]
     },
     "metadata": {
      "application/vnd.databricks.v1+output": {
       "addedWidgets": {},
       "arguments": {},
       "data": "<div class=\"ansiout\"></div>",
       "datasetInfos": [],
       "removedWidgets": [],
       "type": "html"
      }
     },
     "output_type": "display_data"
    }
   ],
   "source": [
    "train, test = final_df.randomSplit([0.75, 0.25], seed=42)"
   ]
  },
  {
   "cell_type": "code",
   "execution_count": null,
   "metadata": {
    "application/vnd.databricks.v1+cell": {
     "inputWidgets": {},
     "nuid": "e4c0ed7a-3628-4e02-a1a4-2283fcbcba24",
     "showTitle": false,
     "title": ""
    }
   },
   "outputs": [
    {
     "data": {
      "text/html": [
       "<style scoped>\n",
       "  .ansiout {\n",
       "    display: block;\n",
       "    unicode-bidi: embed;\n",
       "    white-space: pre-wrap;\n",
       "    word-wrap: break-word;\n",
       "    word-break: break-all;\n",
       "    font-family: \"Source Code Pro\", \"Menlo\", monospace;;\n",
       "    font-size: 13px;\n",
       "    color: #555;\n",
       "    margin-left: 4px;\n",
       "    line-height: 19px;\n",
       "  }\n",
       "</style>\n",
       "<div class=\"ansiout\"></div>"
      ]
     },
     "metadata": {
      "application/vnd.databricks.v1+output": {
       "addedWidgets": {},
       "arguments": {},
       "data": "<div class=\"ansiout\"></div>",
       "datasetInfos": [],
       "removedWidgets": [],
       "type": "html"
      }
     },
     "output_type": "display_data"
    }
   ],
   "source": [
    "from pyspark.ml.feature import VectorAssembler\n",
    "#let's assemble our features together using vectorAssembler\n",
    "features = ['s', 'a', 'height', 'weight', 'age']\n",
    "assembler = VectorAssembler(inputCols=features, outputCol=\"features_assem\")"
   ]
  },
  {
   "cell_type": "code",
   "execution_count": null,
   "metadata": {
    "application/vnd.databricks.v1+cell": {
     "inputWidgets": {},
     "nuid": "89349de8-9fc1-44d9-b79c-27768eff38b4",
     "showTitle": false,
     "title": ""
    }
   },
   "outputs": [
    {
     "data": {
      "text/html": [
       "<style scoped>\n",
       "  .ansiout {\n",
       "    display: block;\n",
       "    unicode-bidi: embed;\n",
       "    white-space: pre-wrap;\n",
       "    word-wrap: break-word;\n",
       "    word-break: break-all;\n",
       "    font-family: \"Source Code Pro\", \"Menlo\", monospace;;\n",
       "    font-size: 13px;\n",
       "    color: #555;\n",
       "    margin-left: 4px;\n",
       "    line-height: 19px;\n",
       "  }\n",
       "</style>\n",
       "<div class=\"ansiout\"></div>"
      ]
     },
     "metadata": {
      "application/vnd.databricks.v1+output": {
       "addedWidgets": {},
       "arguments": {},
       "data": "<div class=\"ansiout\"></div>",
       "datasetInfos": [],
       "removedWidgets": [],
       "type": "html"
      }
     },
     "output_type": "display_data"
    }
   ],
   "source": [
    "from pyspark.ml.feature import MinMaxScaler\n",
    "scaler = MinMaxScaler(inputCol=\"features_assem\", outputCol=\"scaledFeatures\")"
   ]
  },
  {
   "cell_type": "code",
   "execution_count": null,
   "metadata": {
    "application/vnd.databricks.v1+cell": {
     "inputWidgets": {},
     "nuid": "102a9ab1-81dd-4ec0-a778-2bbface5e9e5",
     "showTitle": false,
     "title": ""
    }
   },
   "outputs": [
    {
     "data": {
      "text/html": [
       "<style scoped>\n",
       "  .ansiout {\n",
       "    display: block;\n",
       "    unicode-bidi: embed;\n",
       "    white-space: pre-wrap;\n",
       "    word-wrap: break-word;\n",
       "    word-break: break-all;\n",
       "    font-family: \"Source Code Pro\", \"Menlo\", monospace;;\n",
       "    font-size: 13px;\n",
       "    color: #555;\n",
       "    margin-left: 4px;\n",
       "    line-height: 19px;\n",
       "  }\n",
       "</style>\n",
       "<div class=\"ansiout\"></div>"
      ]
     },
     "metadata": {
      "application/vnd.databricks.v1+output": {
       "addedWidgets": {},
       "arguments": {},
       "data": "<div class=\"ansiout\"></div>",
       "datasetInfos": [],
       "removedWidgets": [],
       "type": "html"
      }
     },
     "output_type": "display_data"
    }
   ],
   "source": [
    "from pyspark.ml.classification import LogisticRegression\n",
    "lr = LogisticRegression(labelCol='offenseResult', featuresCol='scaledFeatures')"
   ]
  },
  {
   "cell_type": "code",
   "execution_count": null,
   "metadata": {
    "application/vnd.databricks.v1+cell": {
     "inputWidgets": {},
     "nuid": "7f7a70a5-6d94-44b2-85b9-f85e1cc5a045",
     "showTitle": false,
     "title": ""
    }
   },
   "outputs": [
    {
     "data": {
      "text/html": [
       "<style scoped>\n",
       "  .ansiout {\n",
       "    display: block;\n",
       "    unicode-bidi: embed;\n",
       "    white-space: pre-wrap;\n",
       "    word-wrap: break-word;\n",
       "    word-break: break-all;\n",
       "    font-family: \"Source Code Pro\", \"Menlo\", monospace;;\n",
       "    font-size: 13px;\n",
       "    color: #555;\n",
       "    margin-left: 4px;\n",
       "    line-height: 19px;\n",
       "  }\n",
       "</style>\n",
       "<div class=\"ansiout\"></div>"
      ]
     },
     "metadata": {
      "application/vnd.databricks.v1+output": {
       "addedWidgets": {},
       "arguments": {},
       "data": "<div class=\"ansiout\"></div>",
       "datasetInfos": [],
       "removedWidgets": [],
       "type": "html"
      }
     },
     "output_type": "display_data"
    }
   ],
   "source": [
    "from pyspark.ml import Pipeline\n",
    "#Create the pipeline. Assign the satges list to the pipeline key word stages\n",
    "stages = []\n",
    "stages = stages + [assembler, scaler, lr]\n",
    "pipeline = Pipeline(stages=stages)"
   ]
  },
  {
   "cell_type": "code",
   "execution_count": null,
   "metadata": {
    "application/vnd.databricks.v1+cell": {
     "inputWidgets": {},
     "nuid": "8b4ab9ed-a4e2-430b-a0ed-63f63a0097ab",
     "showTitle": false,
     "title": ""
    }
   },
   "outputs": [
    {
     "data": {
      "text/html": [
       "<style scoped>\n",
       "  .ansiout {\n",
       "    display: block;\n",
       "    unicode-bidi: embed;\n",
       "    white-space: pre-wrap;\n",
       "    word-wrap: break-word;\n",
       "    word-break: break-all;\n",
       "    font-family: \"Source Code Pro\", \"Menlo\", monospace;;\n",
       "    font-size: 13px;\n",
       "    color: #555;\n",
       "    margin-left: 4px;\n",
       "    line-height: 19px;\n",
       "  }\n",
       "</style>\n",
       "<div class=\"ansiout\"></div>"
      ]
     },
     "metadata": {
      "application/vnd.databricks.v1+output": {
       "addedWidgets": {},
       "arguments": {},
       "data": "<div class=\"ansiout\"></div>",
       "datasetInfos": [],
       "removedWidgets": [],
       "type": "html"
      }
     },
     "output_type": "display_data"
    }
   ],
   "source": [
    "pipelineModel = pipeline.fit(train)\n",
    "#transform the dataframe\n",
    "price_pred = pipelineModel.transform(test)"
   ]
  },
  {
   "cell_type": "code",
   "execution_count": null,
   "metadata": {
    "application/vnd.databricks.v1+cell": {
     "inputWidgets": {},
     "nuid": "05d8d215-9bb2-410a-a5b5-9f3f67e241e3",
     "showTitle": false,
     "title": ""
    }
   },
   "outputs": [
    {
     "data": {
      "text/html": [
       "<style scoped>\n",
       "  .ansiout {\n",
       "    display: block;\n",
       "    unicode-bidi: embed;\n",
       "    white-space: pre-wrap;\n",
       "    word-wrap: break-word;\n",
       "    word-break: break-all;\n",
       "    font-family: \"Source Code Pro\", \"Menlo\", monospace;;\n",
       "    font-size: 13px;\n",
       "    color: #555;\n",
       "    margin-left: 4px;\n",
       "    line-height: 19px;\n",
       "  }\n",
       "</style>\n",
       "<div class=\"ansiout\">Coefficients for speed, acceleration, height, weight and age are: [5.7340261677119875,14.98176863373775,0.3393667481665098,0.47008358249534266,0.5209580262004245]\n",
       "Intercept is: -2.4227539921332646\n",
       "</div>"
      ]
     },
     "metadata": {
      "application/vnd.databricks.v1+output": {
       "addedWidgets": {},
       "arguments": {},
       "data": "<div class=\"ansiout\">Coefficients for speed, acceleration, height, weight and age are: [5.7340261677119875,14.98176863373775,0.3393667481665098,0.47008358249534266,0.5209580262004245]\nIntercept is: -2.4227539921332646\n</div>",
       "datasetInfos": [],
       "removedWidgets": [],
       "type": "html"
      }
     },
     "output_type": "display_data"
    }
   ],
   "source": [
    "print('Coefficients for speed, acceleration, height, weight and age are:',\n",
    "      str(pipelineModel.stages[-1].coefficients))\n",
    "print('Intercept is:', str(pipelineModel.stages[-1].intercept))"
   ]
  },
  {
   "cell_type": "code",
   "execution_count": null,
   "metadata": {
    "application/vnd.databricks.v1+cell": {
     "inputWidgets": {},
     "nuid": "01c8a343-28da-4b93-9c70-7ba583b46461",
     "showTitle": false,
     "title": ""
    }
   },
   "outputs": [
    {
     "data": {
      "text/html": [
       "<style scoped>\n",
       "  .ansiout {\n",
       "    display: block;\n",
       "    unicode-bidi: embed;\n",
       "    white-space: pre-wrap;\n",
       "    word-wrap: break-word;\n",
       "    word-break: break-all;\n",
       "    font-family: \"Source Code Pro\", \"Menlo\", monospace;;\n",
       "    font-size: 13px;\n",
       "    color: #555;\n",
       "    margin-left: 4px;\n",
       "    line-height: 19px;\n",
       "  }\n",
       "</style>\n",
       "<div class=\"ansiout\"></div>"
      ]
     },
     "metadata": {
      "application/vnd.databricks.v1+output": {
       "addedWidgets": {},
       "arguments": {},
       "data": "<div class=\"ansiout\"></div>",
       "datasetInfos": [],
       "removedWidgets": [],
       "type": "html"
      }
     },
     "output_type": "display_data"
    }
   ],
   "source": [
    "totalSummary = pipelineModel.stages[-1].summary"
   ]
  },
  {
   "cell_type": "code",
   "execution_count": null,
   "metadata": {
    "application/vnd.databricks.v1+cell": {
     "inputWidgets": {},
     "nuid": "c389d678-3dd1-4a1f-8843-a05c50ed3fa3",
     "showTitle": false,
     "title": ""
    }
   },
   "outputs": [
    {
     "data": {
      "text/html": [
       "<style scoped>\n",
       "  .ansiout {\n",
       "    display: block;\n",
       "    unicode-bidi: embed;\n",
       "    white-space: pre-wrap;\n",
       "    word-wrap: break-word;\n",
       "    word-break: break-all;\n",
       "    font-family: \"Source Code Pro\", \"Menlo\", monospace;;\n",
       "    font-size: 13px;\n",
       "    color: #555;\n",
       "    margin-left: 4px;\n",
       "    line-height: 19px;\n",
       "  }\n",
       "</style>\n",
       "<div class=\"ansiout\">Area under ROC is: 0.7552332000180814\n",
       "</div>"
      ]
     },
     "metadata": {
      "application/vnd.databricks.v1+output": {
       "addedWidgets": {},
       "arguments": {},
       "data": "<div class=\"ansiout\">Area under ROC is: 0.7552332000180814\n</div>",
       "datasetInfos": [],
       "removedWidgets": [],
       "type": "html"
      }
     },
     "output_type": "display_data"
    }
   ],
   "source": [
    "print('Area under ROC is:', totalSummary.areaUnderROC)"
   ]
  },
  {
   "cell_type": "code",
   "execution_count": null,
   "metadata": {
    "application/vnd.databricks.v1+cell": {
     "inputWidgets": {},
     "nuid": "22d88586-5f58-41b9-a688-9ecc553f15a6",
     "showTitle": false,
     "title": ""
    }
   },
   "outputs": [
    {
     "data": {
      "image/png": "[encoded data removed]"
     },
     "metadata": {
      "application/vnd.databricks.v1+output": {
       "addedWidgets": {},
       "arguments": {},
       "data": "data:image/png;base64,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",
       "datasetInfos": [],
       "removedWidgets": [],
       "type": "image"
      }
     },
     "output_type": "display_data"
    }
   ],
   "source": [
    "import matplotlib.pyplot as plt\n",
    "\n",
    "roc = totalSummary.roc.toPandas()\n",
    "plt.plot(roc['FPR'], roc['TPR'])\n",
    "plt.ylabel('False Positive Rate')\n",
    "plt.xlabel('True Positive Rate')\n",
    "plt.title('ROC Curve')\n",
    "plt.show()"
   ]
  },
  {
   "cell_type": "code",
   "execution_count": null,
   "metadata": {
    "application/vnd.databricks.v1+cell": {
     "inputWidgets": {},
     "nuid": "48661fb3-eb66-4413-bf12-472df0176e41",
     "showTitle": false,
     "title": ""
    }
   },
   "outputs": [
    {
     "data": {
      "image/png": "[encoded data removed]"
     },
     "metadata": {
      "application/vnd.databricks.v1+output": {
       "addedWidgets": {},
       "arguments": {},
       "data": "data:image/png;base64,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",
       "datasetInfos": [],
       "removedWidgets": [],
       "type": "image"
      }
     },
     "output_type": "display_data"
    }
   ],
   "source": [
    "pr = totalSummary.pr.toPandas()\n",
    "plt.plot(pr['recall'], pr['precision'])\n",
    "plt.ylabel('Precision')\n",
    "plt.xlabel('Recall')\n",
    "plt.show()"
   ]
  }
 ],
 "metadata": {
  "application/vnd.databricks.v1+notebook": {
   "dashboards": [],
   "language": "python",
   "notebookName": "NFL_Logistic_Regression",
   "notebookOrigID": 3087509339238913,
   "widgets": {}
  },
  "kernelspec": {
   "display_name": "Python 3",
   "language": "python",
   "name": "python3"
  },
  "language_info": {
   "codemirror_mode": {
    "name": "ipython",
    "version": 3
   },
   "file_extension": ".py",
   "mimetype": "text/x-python",
   "name": "python",
   "nbconvert_exporter": "python",
   "pygments_lexer": "ipython3",
   "version": "3.8.5"
  }
 },
 "nbformat": 4,
 "nbformat_minor": 4
}
