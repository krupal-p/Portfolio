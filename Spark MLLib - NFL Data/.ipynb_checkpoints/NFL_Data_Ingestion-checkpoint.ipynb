{
 "cells": [
  {
   "cell_type": "code",
   "execution_count": null,
   "metadata": {
    "application/vnd.databricks.v1+cell": {
     "inputWidgets": {},
     "nuid": "baa2cff6-85c0-4e68-b0b3-6c4340dd8cc2",
     "showTitle": false,
     "title": ""
    }
   },
   "outputs": [],
   "source": [
    "%fs ls dbfs:/FileStore/tables/nfl-big-data-bowl-2021/"
   ]
  },
  {
   "cell_type": "code",
   "execution_count": null,
   "metadata": {
    "application/vnd.databricks.v1+cell": {
     "inputWidgets": {},
     "nuid": "02150006-7451-4fe5-a771-b63e77d520ba",
     "showTitle": false,
     "title": ""
    }
   },
   "outputs": [],
   "source": [
    "# Read data from csv files\n",
    "nfl_folder = dbutils.fs.ls(\"dbfs:/FileStore/tables/nfl-big-data-bowl-2021/\")\n",
    "files = [file[0] for file in nfl_folder]\n",
    "\n",
    "games = spark.read.format('csv').option('inferSchema', True).option(\n",
    "    'header', True).option('sep', ',').load(\n",
    "        files.pop(\n",
    "            files.index(\n",
    "                'dbfs:/FileStore/tables/nfl-big-data-bowl-2021/games.csv')))\n",
    "players = spark.read.format('csv').option('inferSchema', True).option(\n",
    "    'header', True).option('sep', ',').load(\n",
    "        files.pop(\n",
    "            files.index(\n",
    "                'dbfs:/FileStore/tables/nfl-big-data-bowl-2021/players.csv')))\n",
    "plays = spark.read.format('csv').option('inferSchema', True).option(\n",
    "    'header', True).option('sep', ',').load(\n",
    "        files.pop(\n",
    "            files.index(\n",
    "                'dbfs:/FileStore/tables/nfl-big-data-bowl-2021/plays.csv')))\n",
    "weeks = [\n",
    "    spark.read.format('csv').option('inferSchema',\n",
    "                                    True).option('header',\n",
    "                                                 True).option('sep',\n",
    "                                                              ',').load(file)\n",
    "    for file in files\n",
    "]"
   ]
  },
  {
   "cell_type": "code",
   "execution_count": null,
   "metadata": {
    "application/vnd.databricks.v1+cell": {
     "inputWidgets": {},
     "nuid": "65324598-df91-45dd-8da0-23641de27fb5",
     "showTitle": false,
     "title": ""
    }
   },
   "outputs": [],
   "source": [
    "# Tests to make sure all the files were uploaded correctly\n",
    "assert len(weeks) == 17, 'Number of weeks should be 17'\n",
    "assert len(nfl_folder) == 20, 'Number of files should be 20'"
   ]
  },
  {
   "cell_type": "code",
   "execution_count": null,
   "metadata": {
    "application/vnd.databricks.v1+cell": {
     "inputWidgets": {},
     "nuid": "02828e2e-7ba6-4a68-bacf-1c057e7a6871",
     "showTitle": false,
     "title": ""
    }
   },
   "outputs": [],
   "source": [
    "# Merging all 17 tracking csv files into one DataFrame then sorting by Time\n",
    "tracking = weeks[0]\n",
    "for week in range(1, len(weeks)):\n",
    "    tracking = tracking.union(weeks[week])\n",
    "tracking = tracking.sort('time')"
   ]
  },
  {
   "cell_type": "code",
   "execution_count": null,
   "metadata": {
    "application/vnd.databricks.v1+cell": {
     "inputWidgets": {},
     "nuid": "0de1753a-b313-4d07-aefe-f7d2faff2164",
     "showTitle": false,
     "title": ""
    }
   },
   "outputs": [],
   "source": [
    "display(tracking)"
   ]
  },
  {
   "cell_type": "code",
   "execution_count": null,
   "metadata": {
    "application/vnd.databricks.v1+cell": {
     "inputWidgets": {},
     "nuid": "3eb6f489-dfa8-4061-9ed3-f0f3b0af0b19",
     "showTitle": false,
     "title": ""
    }
   },
   "outputs": [],
   "source": [
    "tracking.count()\n",
    "assert tracking.count(\n",
    ") == 18309388, 'Number of rows in tracking df should be 18309388'"
   ]
  },
  {
   "cell_type": "code",
   "execution_count": null,
   "metadata": {
    "application/vnd.databricks.v1+cell": {
     "inputWidgets": {},
     "nuid": "9bf0294e-f23b-45c7-8d90-31a46e2d12f9",
     "showTitle": false,
     "title": ""
    }
   },
   "outputs": [],
   "source": [
    "# Save all 4 dataframes as tables for quicker reads\n",
    "games.write.saveAsTable('nfl_games')\n",
    "players.write.saveAsTable('nfl_players')\n",
    "plays.write.saveAsTable('nfl_plays')\n",
    "tracking.write.saveAsTable('nfl_tracking')"
   ]
  },
  {
   "cell_type": "code",
   "execution_count": null,
   "metadata": {
    "application/vnd.databricks.v1+cell": {
     "inputWidgets": {},
     "nuid": "29d01a03-5f47-40a0-a112-995f5354aba6",
     "showTitle": false,
     "title": ""
    }
   },
   "outputs": [],
   "source": [
    "%fs ls dbfs:/user/hive/warehouse"
   ]
  },
  {
   "cell_type": "code",
   "execution_count": null,
   "metadata": {
    "application/vnd.databricks.v1+cell": {
     "inputWidgets": {},
     "nuid": "85bf9a48-3e87-49de-9985-d5b5b3c80286",
     "showTitle": false,
     "title": ""
    }
   },
   "outputs": [],
   "source": []
  }
 ],
 "metadata": {
  "application/vnd.databricks.v1+notebook": {
   "dashboards": [],
   "language": "python",
   "notebookName": "NFL_Data_Ingestion",
   "notebookOrigID": 2539233089939245,
   "widgets": {}
  },
  "kernelspec": {
   "display_name": "Python 3",
   "language": "python",
   "name": "python3"
  },
  "language_info": {
   "codemirror_mode": {
    "name": "ipython",
    "version": 3
   },
   "file_extension": ".py",
   "mimetype": "text/x-python",
   "name": "python",
   "nbconvert_exporter": "python",
   "pygments_lexer": "ipython3",
   "version": "3.8.5"
  }
 },
 "nbformat": 4,
 "nbformat_minor": 4
}
