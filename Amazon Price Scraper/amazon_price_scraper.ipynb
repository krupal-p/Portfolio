{
 "cells": [
  {
   "cell_type": "code",
   "execution_count": 1,
   "metadata": {},
   "outputs": [],
   "source": [
    "import requests\n",
    "from bs4 import BeautifulSoup\n",
    "import re\n",
    "from datetime import datetime"
   ]
  },
  {
   "cell_type": "code",
   "execution_count": 2,
   "metadata": {},
   "outputs": [],
   "source": [
    "def get_price(isbn_10):\n",
    "    \"\"\"\n",
    "    Returns a dict with request status code, price, title, isbn_10 and time.\n",
    "    \n",
    "    Arguments:\n",
    "    isbn_10: str -- ISBN-10 or ASIN found on Amazon.ca product page\n",
    "    \"\"\"\n",
    "    headers = {\n",
    "        'User-Agent':\n",
    "            'Mozilla/5.0 (Macintosh; Intel Mac OS X 10.15; rv:77.0) Gecko/20100101 Firefox/77.0',\n",
    "        'Accept':\n",
    "            'text/html,application/xhtml+xml,application/xml;q=0.9,image/webp,*/*;q=0.8',\n",
    "        'Accept-Language':\n",
    "            'en-US,en;q=0.5',\n",
    "        'DNT':\n",
    "            '1',\n",
    "        'Connection':\n",
    "            'keep-alive',\n",
    "        'Upgrade-Insecure-Requests':\n",
    "            '1',\n",
    "    }\n",
    "    r = requests.get(f'https://www.amazon.ca/dp/{isbn_10}', headers=headers)\n",
    "\n",
    "    soup = BeautifulSoup(r.content, 'html.parser')\n",
    "\n",
    "    # Extract price\n",
    "    if soup.find(id='price_inside_buybox'):\n",
    "        price = soup.find(id='price_inside_buybox').text.strip()\n",
    "    elif soup.find(id='kindle-price'):\n",
    "        price = soup.find(id='kindle-price').text.strip()[3:]\n",
    "    elif soup.find(id='newBuyBoxPrice'):\n",
    "        price = soup.find(id='newBuyBoxPrice').text.strip()\n",
    "    elif soup.find(id='price'):\n",
    "        price = soup.find(id='price').text.strip()\n",
    "    else:\n",
    "        price = None\n",
    "\n",
    "    # Extract title\n",
    "    title = soup.find(id='productTitle').text.strip()\n",
    "\n",
    "    result = {\n",
    "        'status_code': r.status_code,\n",
    "        'price': price,\n",
    "        'title': title,\n",
    "        'isbn_10': isbn_10,\n",
    "        'time': datetime.now()\n",
    "    }\n",
    "    return result\n",
    "\n",
    "\n",
    "def get_price_url(url):\n",
    "    \"\"\"\n",
    "    Returns a dict with request status code, price, title, isbn_10 and time.\n",
    "    \n",
    "    Arguments:\n",
    "    url: str -- URL of the Amazon.ca page to scrape\n",
    "    \"\"\"\n",
    "    headers = {\n",
    "        'User-Agent':\n",
    "            'Mozilla/5.0 (Macintosh; Intel Mac OS X 10.15; rv:77.0) Gecko/20100101 Firefox/77.0',\n",
    "        'Accept':\n",
    "            'text/html,application/xhtml+xml,application/xml;q=0.9,image/webp,*/*;q=0.8',\n",
    "        'Accept-Language':\n",
    "            'en-US,en;q=0.5',\n",
    "        'DNT':\n",
    "            '1',\n",
    "        'Connection':\n",
    "            'keep-alive',\n",
    "        'Upgrade-Insecure-Requests':\n",
    "            '1',\n",
    "    }\n",
    "    r = requests.get(url, headers=headers)\n",
    "\n",
    "    soup = BeautifulSoup(r.content, 'html.parser')\n",
    "\n",
    "    # Extract price\n",
    "    if soup.find(id='price_inside_buybox'):\n",
    "        price = soup.find(id='price_inside_buybox').text.strip()\n",
    "    elif soup.find(id='kindle-price'):\n",
    "        price = soup.find(id='kindle-price').text.strip()[3:]\n",
    "    elif soup.find(id='newBuyBoxPrice'):\n",
    "        price = soup.find(id='newBuyBoxPrice').text.strip()\n",
    "    elif soup.find(id='price'):\n",
    "        price = soup.find(id='price').text.strip()\n",
    "    else:\n",
    "        price = None\n",
    "\n",
    "    # Extract title\n",
    "    title = soup.find(id='productTitle').text.strip()\n",
    "\n",
    "    result = {\n",
    "        'status_code': r.status_code,\n",
    "        'price': price,\n",
    "        'title': title,\n",
    "        'isbn_10': re.search(\"/dp/\\w{10}\", url)[0][4:],\n",
    "        'time': datetime.now()\n",
    "    }\n",
    "    return result"
   ]
  },
  {
   "cell_type": "code",
   "execution_count": 3,
   "metadata": {},
   "outputs": [
    {
     "data": {
      "text/plain": [
       "{'status_code': 200,\n",
       " 'price': '$53.72',\n",
       " 'title': 'A Promised Land',\n",
       " 'isbn_10': '0525633766',\n",
       " 'time': datetime.datetime(2021, 6, 11, 16, 30, 11, 918093)}"
      ]
     },
     "execution_count": 3,
     "metadata": {},
     "output_type": "execute_result"
    }
   ],
   "source": [
    "get_price('0525633766')"
   ]
  },
  {
   "cell_type": "code",
   "execution_count": 4,
   "metadata": {},
   "outputs": [
    {
     "data": {
      "text/plain": [
       "{'status_code': 200,\n",
       " 'price': '$18.72',\n",
       " 'title': 'Lethal White',\n",
       " 'isbn_10': '0316422738',\n",
       " 'time': datetime.datetime(2021, 6, 11, 16, 30, 13, 746360)}"
      ]
     },
     "execution_count": 4,
     "metadata": {},
     "output_type": "execute_result"
    }
   ],
   "source": [
    "get_price_url(\n",
    "   'https://www.amazon.ca/Lethal-White-Robert-Galbraith/dp/0316422738'\n",
    ")"
   ]
  },
  {
   "cell_type": "code",
   "execution_count": null,
   "metadata": {},
   "outputs": [],
   "source": []
  }
 ],
 "metadata": {
  "kernelspec": {
   "display_name": "Python 3",
   "language": "python",
   "name": "python3"
  },
  "language_info": {
   "codemirror_mode": {
    "name": "ipython",
    "version": 3
   },
   "file_extension": ".py",
   "mimetype": "text/x-python",
   "name": "python",
   "nbconvert_exporter": "python",
   "pygments_lexer": "ipython3",
   "version": "3.8.5"
  }
 },
 "nbformat": 4,
 "nbformat_minor": 4
}
